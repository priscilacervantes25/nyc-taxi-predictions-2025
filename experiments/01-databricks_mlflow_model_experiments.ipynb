{
 "cells": [
  {
   "cell_type": "code",
   "execution_count": 76,
   "id": "406d22a4",
   "metadata": {},
   "outputs": [
    {
     "name": "stderr",
     "output_type": "stream",
     "text": [
      "2025/10/28 21:33:41 INFO mlflow.tracking.fluent: Experiment with name '/Users/priscila.cervantes@iteso.mx/nyc-taxi-experiments' does not exist. Creating a new experiment.\n"
     ]
    }
   ],
   "source": [
    "import os, mlflow\n",
    "from dotenv import load_dotenv\n",
    "\n",
    "load_dotenv(override=True)  # Carga las variables del archivo .env\n",
    "EXPERIMENT_NAME = \"/Users/priscila.cervantes@iteso.mx/nyc-taxi-experiments\"\n",
    "\n",
    "mlflow.set_tracking_uri(\"databricks\")\n",
    "experiment = mlflow.set_experiment(experiment_name=EXPERIMENT_NAME)"
   ]
  },
  {
   "cell_type": "markdown",
   "id": "62a02584",
   "metadata": {},
   "source": [
    "## Train Model"
   ]
  },
  {
   "cell_type": "code",
   "execution_count": 77,
   "id": "eb02230c",
   "metadata": {},
   "outputs": [],
   "source": [
    "import pickle\n",
    "import pandas as pd\n",
    "from sklearn.metrics import  root_mean_squared_error\n",
    "from sklearn.feature_extraction import  DictVectorizer"
   ]
  },
  {
   "cell_type": "code",
   "execution_count": 78,
   "id": "fda5e67b",
   "metadata": {},
   "outputs": [],
   "source": [
    "def read_dataframe(filename):\n",
    "\n",
    "    df = pd.read_parquet(filename)\n",
    "\n",
    "    df['duration'] = df.lpep_dropoff_datetime - df.lpep_pickup_datetime\n",
    "    df.duration = df.duration.apply(lambda td: td.total_seconds() / 60)\n",
    "\n",
    "    df = df[(df.duration >= 1) & (df.duration <= 60)]\n",
    "\n",
    "    categorical = ['PULocationID', 'DOLocationID']\n",
    "    df[categorical] = df[categorical].astype(str)\n",
    "\n",
    "    return df"
   ]
  },
  {
   "cell_type": "code",
   "execution_count": 79,
   "id": "49c3adf7",
   "metadata": {},
   "outputs": [],
   "source": [
    "df_train = read_dataframe('C:/Users/prisc/apps/nyc-taxi-predictions-2025/data/green_tripdata_2025-01.parquet')\n",
    "df_val = read_dataframe('C:/Users/prisc/apps/nyc-taxi-predictions-2025/data/green_tripdata_2025-02.parquet')"
   ]
  },
  {
   "cell_type": "code",
   "execution_count": 80,
   "id": "952e8da4",
   "metadata": {},
   "outputs": [],
   "source": [
    "def preprocess(df, dv):\n",
    "    df['PU_DO'] = df['PULocationID'] + '_' + df['DOLocationID']\n",
    "    categorical = ['PU_DO']\n",
    "    numerical = ['trip_distance']\n",
    "    train_dicts = df[categorical + numerical].to_dict(orient='records')\n",
    "    return dv.transform(train_dicts)\n",
    "\n",
    "df_train['PU_DO'] = df_train['PULocationID'] + '_' + df_train['DOLocationID']\n",
    "categorical = ['PU_DO']\n",
    "numerical = ['trip_distance']\n",
    "dv = DictVectorizer()\n",
    "\n",
    "train_dicts = df_train[categorical + numerical].to_dict(orient='records')\n",
    "X_train = dv.fit_transform(train_dicts)\n",
    "\n",
    "X_val = preprocess(df_val, dv)"
   ]
  },
  {
   "cell_type": "code",
   "execution_count": 81,
   "id": "4d6bc016",
   "metadata": {},
   "outputs": [],
   "source": [
    "target = 'duration'\n",
    "y_train = df_train[target].values\n",
    "y_val = df_val[target].values"
   ]
  },
  {
   "cell_type": "code",
   "execution_count": 82,
   "id": "29e4977e",
   "metadata": {},
   "outputs": [],
   "source": [
    "training_dataset = mlflow.data.from_numpy(X_train.data, targets=y_train, name=\"green_tripdata_2025-01\")\n",
    "validation_dataset = mlflow.data.from_numpy(X_val.data, targets=y_val, name=\"green_tripdata_2025-02\")"
   ]
  },
  {
   "cell_type": "markdown",
   "id": "9ffb2944",
   "metadata": {},
   "source": [
    "## Optimización de hiperparámetros usando Optuna"
   ]
  },
  {
   "cell_type": "code",
   "execution_count": 83,
   "id": "9327773d",
   "metadata": {},
   "outputs": [],
   "source": [
    "import math\n",
    "import optuna\n",
    "import pathlib\n",
    "import xgboost as xgb\n",
    "from optuna.samplers import TPESampler\n",
    "from mlflow.models.signature import infer_signature"
   ]
  },
  {
   "cell_type": "code",
   "execution_count": 84,
   "id": "e1aba777",
   "metadata": {},
   "outputs": [],
   "source": [
    "train = xgb.DMatrix(X_train, label=y_train)\n",
    "valid = xgb.DMatrix(X_val, label=y_val)"
   ]
  },
  {
   "cell_type": "markdown",
   "id": "77bbc7a0",
   "metadata": {},
   "source": [
    "## Función objetivo"
   ]
  },
  {
   "cell_type": "code",
   "execution_count": 85,
   "id": "5da86869",
   "metadata": {},
   "outputs": [],
   "source": [
    "# ------------------------------------------------------------\n",
    "# Definir la función objetivo para Optuna\n",
    "#    - Recibe un `trial`, que se usa para proponer hiperparámetros.\n",
    "#    - Entrena un modelo con esos hiperparámetros.\n",
    "#    - Calcula la métrica de validación (RMSE) y la retorna (Optuna la minimizará).\n",
    "#    - Abrimos un run anidado de MLflow para registrar cada trial.\n",
    "# ------------------------------------------------------------\n",
    "def objective(trial: optuna.trial.Trial):\n",
    "    # Hiperparámetros MUESTREADOS por Optuna en CADA trial.\n",
    "    # Nota: usamos log=True para emular rangos log-uniformes (similar a loguniform).\n",
    "    params = {\n",
    "        \"max_depth\": trial.suggest_int(\"max_depth\", 4, 100),\n",
    "        \"learning_rate\": trial.suggest_float(\"learning_rate\", math.exp(-3), 1.0, log=True),\n",
    "        \"reg_alpha\": trial.suggest_float(\"reg_alpha\",   math.exp(-5), math.exp(-1), log=True),\n",
    "        \"reg_lambda\": trial.suggest_float(\"reg_lambda\", math.exp(-6), math.exp(-1), log=True),\n",
    "        \"min_child_weight\": trial.suggest_float(\"min_child_weight\", math.exp(-1), math.exp(3), log=True),\n",
    "        \"objective\": \"reg:squarederror\",  \n",
    "        \"seed\": 42,                      \n",
    "    }\n",
    "\n",
    "    # Run anidado para dejar rastro de cada trial en MLflow\n",
    "    with mlflow.start_run(nested=True):\n",
    "        mlflow.set_tag(\"model_family\", \"xgboost\")  # etiqueta informativa\n",
    "        mlflow.log_params(params)                  # registra hiperparámetros del trial\n",
    "\n",
    "        # Entrenamiento con early stopping en el conjunto de validación\n",
    "        booster = xgb.train(\n",
    "            params=params,\n",
    "            dtrain=train,\n",
    "            num_boost_round=100,\n",
    "            evals=[(valid, \"validation\")],\n",
    "            early_stopping_rounds=10,\n",
    "        )\n",
    "\n",
    "        # Predicción y métrica en validación\n",
    "        y_pred = booster.predict(valid)\n",
    "        rmse = root_mean_squared_error(y_val, y_pred)\n",
    "\n",
    "        # Registrar la métrica principal\n",
    "        mlflow.log_metric(\"rmse\", rmse)\n",
    "\n",
    "        # La \"signature\" describe la estructura esperada de entrada y salida del modelo:\n",
    "        # incluye los nombres, tipos y forma (shape) de las variables de entrada y el tipo de salida.\n",
    "        # MLflow la usa para validar datos en inferencia y documentar el modelo en el Model Registry.\n",
    "        signature = infer_signature(X_val, y_pred)\n",
    "\n",
    "        # Guardar el modelo del trial como artefacto en MLflow.\n",
    "        mlflow.xgboost.log_model(\n",
    "            booster,\n",
    "            name=\"model\",\n",
    "            input_example=X_val[:5],\n",
    "            signature=signature\n",
    "        )\n",
    "\n",
    "    # Optuna minimiza el valor retornado\n",
    "    return rmse"
   ]
  },
  {
   "cell_type": "markdown",
   "id": "840396f3",
   "metadata": {},
   "source": [
    "## Flujo de búsqueda"
   ]
  },
  {
   "cell_type": "code",
   "execution_count": 86,
   "id": "46659028",
   "metadata": {},
   "outputs": [
    {
     "name": "stderr",
     "output_type": "stream",
     "text": [
      "[I 2025-10-28 21:34:23,417] A new study created in memory with name: no-name-54c6faa4-9dde-4b5f-82e5-960ea75f07cf\n"
     ]
    },
    {
     "name": "stdout",
     "output_type": "stream",
     "text": [
      "[0]\tvalidation-rmse:5.72427\n",
      "[1]\tvalidation-rmse:5.57860\n",
      "[2]\tvalidation-rmse:5.56409\n",
      "[3]\tvalidation-rmse:5.56982\n",
      "[4]\tvalidation-rmse:5.57347\n",
      "[5]\tvalidation-rmse:5.55585\n",
      "[6]\tvalidation-rmse:5.55736\n",
      "[7]\tvalidation-rmse:5.55253\n",
      "[8]\tvalidation-rmse:5.55232\n",
      "[9]\tvalidation-rmse:5.53322\n",
      "[10]\tvalidation-rmse:5.53156\n",
      "[11]\tvalidation-rmse:5.53006\n",
      "[12]\tvalidation-rmse:5.52808\n",
      "[13]\tvalidation-rmse:5.52782\n",
      "[14]\tvalidation-rmse:5.52451\n",
      "[15]\tvalidation-rmse:5.52324\n",
      "[16]\tvalidation-rmse:5.52269\n",
      "[17]\tvalidation-rmse:5.52229\n",
      "[18]\tvalidation-rmse:5.52366\n",
      "[19]\tvalidation-rmse:5.52900\n",
      "[20]\tvalidation-rmse:5.52988\n",
      "[21]\tvalidation-rmse:5.52969\n",
      "[22]\tvalidation-rmse:5.52872\n",
      "[23]\tvalidation-rmse:5.53195\n",
      "[24]\tvalidation-rmse:5.52894\n",
      "[25]\tvalidation-rmse:5.52702\n",
      "[26]\tvalidation-rmse:5.53066\n"
     ]
    },
    {
     "name": "stderr",
     "output_type": "stream",
     "text": [
      "c:\\Users\\prisc\\apps\\nyc-taxi-predictions-2025\\.venv\\Lib\\site-packages\\mlflow\\xgboost\\__init__.py:169: UserWarning: [21:36:08] WARNING: C:\\actions-runner\\_work\\xgboost\\xgboost\\src\\c_api\\c_api.cc:1575: Saving model in the UBJSON format as default.  You can use a file extension: `json` or `ubj` to choose between formats.\n",
      "  xgb_model.save_model(model_data_path)\n",
      "2025/10/28 21:37:18 WARNING mlflow.utils.environment: Failed to resolve installed pip version. ``pip`` will be added to conda.yaml environment spec without a version specifier.\n"
     ]
    },
    {
     "data": {
      "application/vnd.jupyter.widget-view+json": {
       "model_id": "752e1af662f7417186ab499923547113",
       "version_major": 2,
       "version_minor": 0
      },
      "text/plain": [
       "Downloading artifacts:   0%|          | 0/7 [00:00<?, ?it/s]"
      ]
     },
     "metadata": {},
     "output_type": "display_data"
    },
    {
     "name": "stderr",
     "output_type": "stream",
     "text": [
      "c:\\Users\\prisc\\apps\\nyc-taxi-predictions-2025\\.venv\\Lib\\site-packages\\mlflow\\xgboost\\__init__.py:321: UserWarning: [21:37:18] WARNING: C:\\actions-runner\\_work\\xgboost\\xgboost\\src\\c_api\\c_api.cc:1511: Unknown file format: `xgb`. Using UBJSON (`ubj`) as a guess.\n",
      "  model.load_model(xgb_model_path)\n",
      "[I 2025-10-28 21:37:23,247] Trial 0 finished with value: 5.5334711429183985 and parameters: {'max_depth': 40, 'learning_rate': 0.8625543817410922, 'reg_alpha': 0.12593061066249622, 'reg_lambda': 0.049454235173237264, 'min_child_weight': 0.6866535292359801}. Best is trial 0 with value: 5.5334711429183985.\n"
     ]
    },
    {
     "name": "stdout",
     "output_type": "stream",
     "text": [
      "🏃 View run secretive-skink-307 at: https://dbc-35a009eb-7ad0.cloud.databricks.com/ml/experiments/3999049734856042/runs/cdecf9bb570b46d7ac946c6d11d2e2fa\n",
      "🧪 View experiment at: https://dbc-35a009eb-7ad0.cloud.databricks.com/ml/experiments/3999049734856042\n",
      "[0]\tvalidation-rmse:8.77707\n",
      "[1]\tvalidation-rmse:8.47452\n",
      "[2]\tvalidation-rmse:8.19669\n",
      "[3]\tvalidation-rmse:7.94182\n",
      "[4]\tvalidation-rmse:7.70901\n",
      "[5]\tvalidation-rmse:7.49664\n",
      "[6]\tvalidation-rmse:7.30245\n",
      "[7]\tvalidation-rmse:7.12626\n",
      "[8]\tvalidation-rmse:6.96581\n",
      "[9]\tvalidation-rmse:6.81994\n",
      "[10]\tvalidation-rmse:6.68775\n",
      "[11]\tvalidation-rmse:6.56832\n",
      "[12]\tvalidation-rmse:6.46039\n",
      "[13]\tvalidation-rmse:6.36272\n",
      "[14]\tvalidation-rmse:6.27449\n",
      "[15]\tvalidation-rmse:6.19394\n",
      "[16]\tvalidation-rmse:6.12203\n",
      "[17]\tvalidation-rmse:6.05669\n",
      "[18]\tvalidation-rmse:5.99838\n",
      "[19]\tvalidation-rmse:5.94487\n",
      "[20]\tvalidation-rmse:5.89709\n",
      "[21]\tvalidation-rmse:5.85472\n",
      "[22]\tvalidation-rmse:5.81565\n",
      "[23]\tvalidation-rmse:5.78117\n",
      "[24]\tvalidation-rmse:5.74956\n",
      "[25]\tvalidation-rmse:5.72125\n",
      "[26]\tvalidation-rmse:5.69577\n",
      "[27]\tvalidation-rmse:5.67283\n",
      "[28]\tvalidation-rmse:5.65235\n",
      "[29]\tvalidation-rmse:5.63408\n",
      "[30]\tvalidation-rmse:5.61693\n",
      "[31]\tvalidation-rmse:5.60146\n",
      "[32]\tvalidation-rmse:5.58729\n",
      "[33]\tvalidation-rmse:5.57488\n",
      "[34]\tvalidation-rmse:5.56325\n",
      "[35]\tvalidation-rmse:5.55263\n",
      "[36]\tvalidation-rmse:5.54270\n",
      "[37]\tvalidation-rmse:5.53408\n",
      "[38]\tvalidation-rmse:5.52628\n",
      "[39]\tvalidation-rmse:5.51936\n",
      "[40]\tvalidation-rmse:5.51300\n",
      "[41]\tvalidation-rmse:5.50724\n",
      "[42]\tvalidation-rmse:5.50206\n",
      "[43]\tvalidation-rmse:5.49720\n",
      "[44]\tvalidation-rmse:5.49290\n",
      "[45]\tvalidation-rmse:5.48778\n",
      "[46]\tvalidation-rmse:5.48302\n",
      "[47]\tvalidation-rmse:5.47966\n",
      "[48]\tvalidation-rmse:5.47615\n",
      "[49]\tvalidation-rmse:5.47273\n",
      "[50]\tvalidation-rmse:5.46948\n",
      "[51]\tvalidation-rmse:5.46665\n",
      "[52]\tvalidation-rmse:5.46376\n",
      "[53]\tvalidation-rmse:5.46097\n",
      "[54]\tvalidation-rmse:5.45798\n",
      "[55]\tvalidation-rmse:5.45555\n",
      "[56]\tvalidation-rmse:5.45318\n",
      "[57]\tvalidation-rmse:5.45135\n",
      "[58]\tvalidation-rmse:5.44924\n",
      "[59]\tvalidation-rmse:5.44741\n",
      "[60]\tvalidation-rmse:5.44562\n",
      "[61]\tvalidation-rmse:5.44381\n",
      "[62]\tvalidation-rmse:5.44180\n",
      "[63]\tvalidation-rmse:5.44045\n",
      "[64]\tvalidation-rmse:5.43890\n",
      "[65]\tvalidation-rmse:5.43726\n",
      "[66]\tvalidation-rmse:5.43582\n",
      "[67]\tvalidation-rmse:5.43406\n",
      "[68]\tvalidation-rmse:5.43276\n",
      "[69]\tvalidation-rmse:5.43133\n",
      "[70]\tvalidation-rmse:5.42980\n",
      "[71]\tvalidation-rmse:5.42863\n",
      "[72]\tvalidation-rmse:5.42767\n",
      "[73]\tvalidation-rmse:5.42662\n",
      "[74]\tvalidation-rmse:5.42539\n",
      "[75]\tvalidation-rmse:5.42446\n",
      "[76]\tvalidation-rmse:5.42354\n",
      "[77]\tvalidation-rmse:5.42277\n",
      "[78]\tvalidation-rmse:5.42186\n",
      "[79]\tvalidation-rmse:5.42073\n",
      "[80]\tvalidation-rmse:5.41997\n",
      "[81]\tvalidation-rmse:5.41925\n",
      "[82]\tvalidation-rmse:5.41869\n",
      "[83]\tvalidation-rmse:5.41820\n",
      "[84]\tvalidation-rmse:5.41779\n",
      "[85]\tvalidation-rmse:5.41744\n",
      "[86]\tvalidation-rmse:5.41645\n",
      "[87]\tvalidation-rmse:5.41604\n",
      "[88]\tvalidation-rmse:5.41559\n",
      "[89]\tvalidation-rmse:5.41496\n",
      "[90]\tvalidation-rmse:5.41472\n",
      "[91]\tvalidation-rmse:5.41366\n",
      "[92]\tvalidation-rmse:5.41342\n",
      "[93]\tvalidation-rmse:5.41291\n",
      "[94]\tvalidation-rmse:5.41249\n",
      "[95]\tvalidation-rmse:5.41207\n",
      "[96]\tvalidation-rmse:5.41184\n",
      "[97]\tvalidation-rmse:5.41099\n",
      "[98]\tvalidation-rmse:5.41068\n",
      "[99]\tvalidation-rmse:5.41046\n"
     ]
    },
    {
     "name": "stderr",
     "output_type": "stream",
     "text": [
      "c:\\Users\\prisc\\apps\\nyc-taxi-predictions-2025\\.venv\\Lib\\site-packages\\mlflow\\xgboost\\__init__.py:169: UserWarning: [21:37:48] WARNING: C:\\actions-runner\\_work\\xgboost\\xgboost\\src\\c_api\\c_api.cc:1575: Saving model in the UBJSON format as default.  You can use a file extension: `json` or `ubj` to choose between formats.\n",
      "  xgb_model.save_model(model_data_path)\n",
      "2025/10/28 21:37:59 WARNING mlflow.utils.environment: Failed to resolve installed pip version. ``pip`` will be added to conda.yaml environment spec without a version specifier.\n"
     ]
    },
    {
     "data": {
      "application/vnd.jupyter.widget-view+json": {
       "model_id": "ae9381cb06764255aee7413e40859166",
       "version_major": 2,
       "version_minor": 0
      },
      "text/plain": [
       "Downloading artifacts:   0%|          | 0/7 [00:00<?, ?it/s]"
      ]
     },
     "metadata": {},
     "output_type": "display_data"
    },
    {
     "name": "stderr",
     "output_type": "stream",
     "text": [
      "c:\\Users\\prisc\\apps\\nyc-taxi-predictions-2025\\.venv\\Lib\\site-packages\\mlflow\\xgboost\\__init__.py:321: UserWarning: [21:38:00] WARNING: C:\\actions-runner\\_work\\xgboost\\xgboost\\src\\c_api\\c_api.cc:1511: Unknown file format: `xgb`. Using UBJSON (`ubj`) as a guess.\n",
      "  model.load_model(xgb_model_path)\n",
      "[I 2025-10-28 21:38:04,749] Trial 1 finished with value: 5.410463874732254 and parameters: {'max_depth': 19, 'learning_rate': 0.059264241587996896, 'reg_alpha': 0.21539205131792016, 'reg_lambda': 0.05006540936006931, 'min_child_weight': 6.248180561354165}. Best is trial 1 with value: 5.410463874732254.\n"
     ]
    },
    {
     "name": "stdout",
     "output_type": "stream",
     "text": [
      "🏃 View run nervous-whale-511 at: https://dbc-35a009eb-7ad0.cloud.databricks.com/ml/experiments/3999049734856042/runs/83d76e5a10c041babbd32e3b3dea126b\n",
      "🧪 View experiment at: https://dbc-35a009eb-7ad0.cloud.databricks.com/ml/experiments/3999049734856042\n",
      "[0]\tvalidation-rmse:5.85130\n",
      "[1]\tvalidation-rmse:5.74043\n",
      "[2]\tvalidation-rmse:5.72146\n",
      "[3]\tvalidation-rmse:5.71927\n",
      "[4]\tvalidation-rmse:5.70906\n",
      "[5]\tvalidation-rmse:5.70183\n",
      "[6]\tvalidation-rmse:5.68997\n",
      "[7]\tvalidation-rmse:5.67941\n",
      "[8]\tvalidation-rmse:5.67714\n",
      "[9]\tvalidation-rmse:5.67594\n",
      "[10]\tvalidation-rmse:5.67850\n",
      "[11]\tvalidation-rmse:5.67582\n",
      "[12]\tvalidation-rmse:5.67678\n",
      "[13]\tvalidation-rmse:5.66184\n",
      "[14]\tvalidation-rmse:5.65662\n",
      "[15]\tvalidation-rmse:5.65596\n",
      "[16]\tvalidation-rmse:5.65571\n",
      "[17]\tvalidation-rmse:5.65327\n",
      "[18]\tvalidation-rmse:5.64906\n",
      "[19]\tvalidation-rmse:5.65130\n",
      "[20]\tvalidation-rmse:5.64476\n",
      "[21]\tvalidation-rmse:5.64460\n",
      "[22]\tvalidation-rmse:5.64547\n",
      "[23]\tvalidation-rmse:5.64525\n",
      "[24]\tvalidation-rmse:5.64959\n",
      "[25]\tvalidation-rmse:5.64695\n",
      "[26]\tvalidation-rmse:5.64961\n",
      "[27]\tvalidation-rmse:5.64846\n",
      "[28]\tvalidation-rmse:5.64693\n",
      "[29]\tvalidation-rmse:5.64620\n",
      "[30]\tvalidation-rmse:5.64611\n",
      "[31]\tvalidation-rmse:5.64165\n",
      "[32]\tvalidation-rmse:5.63904\n",
      "[33]\tvalidation-rmse:5.63700\n",
      "[34]\tvalidation-rmse:5.63538\n",
      "[35]\tvalidation-rmse:5.63521\n",
      "[36]\tvalidation-rmse:5.63364\n",
      "[37]\tvalidation-rmse:5.62648\n",
      "[38]\tvalidation-rmse:5.62545\n",
      "[39]\tvalidation-rmse:5.62409\n",
      "[40]\tvalidation-rmse:5.62623\n",
      "[41]\tvalidation-rmse:5.62538\n",
      "[42]\tvalidation-rmse:5.62733\n",
      "[43]\tvalidation-rmse:5.62495\n",
      "[44]\tvalidation-rmse:5.62397\n",
      "[45]\tvalidation-rmse:5.62164\n",
      "[46]\tvalidation-rmse:5.62151\n",
      "[47]\tvalidation-rmse:5.62392\n",
      "[48]\tvalidation-rmse:5.62211\n",
      "[49]\tvalidation-rmse:5.62041\n",
      "[50]\tvalidation-rmse:5.61781\n",
      "[51]\tvalidation-rmse:5.61665\n",
      "[52]\tvalidation-rmse:5.61675\n",
      "[53]\tvalidation-rmse:5.61633\n",
      "[54]\tvalidation-rmse:5.61780\n",
      "[55]\tvalidation-rmse:5.61417\n",
      "[56]\tvalidation-rmse:5.61373\n",
      "[57]\tvalidation-rmse:5.61372\n",
      "[58]\tvalidation-rmse:5.61248\n",
      "[59]\tvalidation-rmse:5.61534\n",
      "[60]\tvalidation-rmse:5.61427\n",
      "[61]\tvalidation-rmse:5.61079\n",
      "[62]\tvalidation-rmse:5.61207\n",
      "[63]\tvalidation-rmse:5.61336\n",
      "[64]\tvalidation-rmse:5.61189\n",
      "[65]\tvalidation-rmse:5.61003\n",
      "[66]\tvalidation-rmse:5.60880\n",
      "[67]\tvalidation-rmse:5.60741\n",
      "[68]\tvalidation-rmse:5.60922\n",
      "[69]\tvalidation-rmse:5.60743\n",
      "[70]\tvalidation-rmse:5.60675\n",
      "[71]\tvalidation-rmse:5.60409\n",
      "[72]\tvalidation-rmse:5.60525\n",
      "[73]\tvalidation-rmse:5.60425\n",
      "[74]\tvalidation-rmse:5.60278\n",
      "[75]\tvalidation-rmse:5.60017\n",
      "[76]\tvalidation-rmse:5.59910\n",
      "[77]\tvalidation-rmse:5.59922\n",
      "[78]\tvalidation-rmse:5.60561\n",
      "[79]\tvalidation-rmse:5.60515\n",
      "[80]\tvalidation-rmse:5.60398\n",
      "[81]\tvalidation-rmse:5.60401\n",
      "[82]\tvalidation-rmse:5.60174\n",
      "[83]\tvalidation-rmse:5.60966\n",
      "[84]\tvalidation-rmse:5.61009\n",
      "[85]\tvalidation-rmse:5.61018\n",
      "[86]\tvalidation-rmse:5.60930\n"
     ]
    },
    {
     "name": "stderr",
     "output_type": "stream",
     "text": [
      "c:\\Users\\prisc\\apps\\nyc-taxi-predictions-2025\\.venv\\Lib\\site-packages\\mlflow\\xgboost\\__init__.py:169: UserWarning: [21:38:19] WARNING: C:\\actions-runner\\_work\\xgboost\\xgboost\\src\\c_api\\c_api.cc:1575: Saving model in the UBJSON format as default.  You can use a file extension: `json` or `ubj` to choose between formats.\n",
      "  xgb_model.save_model(model_data_path)\n",
      "2025/10/28 21:38:28 WARNING mlflow.utils.environment: Failed to resolve installed pip version. ``pip`` will be added to conda.yaml environment spec without a version specifier.\n"
     ]
    },
    {
     "data": {
      "application/vnd.jupyter.widget-view+json": {
       "model_id": "30877f2ad90347f49d7d5119b534587e",
       "version_major": 2,
       "version_minor": 0
      },
      "text/plain": [
       "Downloading artifacts:   0%|          | 0/7 [00:00<?, ?it/s]"
      ]
     },
     "metadata": {},
     "output_type": "display_data"
    },
    {
     "name": "stderr",
     "output_type": "stream",
     "text": [
      "c:\\Users\\prisc\\apps\\nyc-taxi-predictions-2025\\.venv\\Lib\\site-packages\\mlflow\\xgboost\\__init__.py:321: UserWarning: [21:38:28] WARNING: C:\\actions-runner\\_work\\xgboost\\xgboost\\src\\c_api\\c_api.cc:1511: Unknown file format: `xgb`. Using UBJSON (`ubj`) as a guess.\n",
      "  model.load_model(xgb_model_path)\n",
      "[I 2025-10-28 21:38:32,372] Trial 2 finished with value: 5.609300918544036 and parameters: {'max_depth': 5, 'learning_rate': 0.9136840519292247, 'reg_alpha': 0.18820387978911576, 'reg_lambda': 0.007166739666045858, 'min_child_weight': 0.7613210498541186}. Best is trial 1 with value: 5.410463874732254.\n"
     ]
    },
    {
     "name": "stdout",
     "output_type": "stream",
     "text": [
      "🏃 View run rambunctious-pig-750 at: https://dbc-35a009eb-7ad0.cloud.databricks.com/ml/experiments/3999049734856042/runs/c52bf9ce66ba43a98e3728d5cc35341d\n",
      "🧪 View experiment at: https://dbc-35a009eb-7ad0.cloud.databricks.com/ml/experiments/3999049734856042\n",
      "[0]\tvalidation-rmse:8.42254\n",
      "[1]\tvalidation-rmse:7.85630\n",
      "[2]\tvalidation-rmse:7.39452\n",
      "[3]\tvalidation-rmse:7.01544\n",
      "[4]\tvalidation-rmse:6.70564\n",
      "[5]\tvalidation-rmse:6.45556\n",
      "[6]\tvalidation-rmse:6.25581\n",
      "[7]\tvalidation-rmse:6.09283\n",
      "[8]\tvalidation-rmse:5.96479\n",
      "[9]\tvalidation-rmse:5.85869\n",
      "[10]\tvalidation-rmse:5.77467\n",
      "[11]\tvalidation-rmse:5.70770\n",
      "[12]\tvalidation-rmse:5.65378\n",
      "[13]\tvalidation-rmse:5.61140\n",
      "[14]\tvalidation-rmse:5.57614\n",
      "[15]\tvalidation-rmse:5.54766\n",
      "[16]\tvalidation-rmse:5.52424\n",
      "[17]\tvalidation-rmse:5.50393\n",
      "[18]\tvalidation-rmse:5.48481\n",
      "[19]\tvalidation-rmse:5.47111\n",
      "[20]\tvalidation-rmse:5.45949\n",
      "[21]\tvalidation-rmse:5.45074\n",
      "[22]\tvalidation-rmse:5.44255\n",
      "[23]\tvalidation-rmse:5.43633\n",
      "[24]\tvalidation-rmse:5.42916\n",
      "[25]\tvalidation-rmse:5.42227\n",
      "[26]\tvalidation-rmse:5.41771\n",
      "[27]\tvalidation-rmse:5.41420\n",
      "[28]\tvalidation-rmse:5.41168\n",
      "[29]\tvalidation-rmse:5.40997\n",
      "[30]\tvalidation-rmse:5.40749\n",
      "[31]\tvalidation-rmse:5.40614\n",
      "[32]\tvalidation-rmse:5.40537\n",
      "[33]\tvalidation-rmse:5.40379\n",
      "[34]\tvalidation-rmse:5.40305\n",
      "[35]\tvalidation-rmse:5.40047\n",
      "[36]\tvalidation-rmse:5.40015\n",
      "[37]\tvalidation-rmse:5.39941\n",
      "[38]\tvalidation-rmse:5.39653\n",
      "[39]\tvalidation-rmse:5.39624\n",
      "[40]\tvalidation-rmse:5.39581\n",
      "[41]\tvalidation-rmse:5.39524\n",
      "[42]\tvalidation-rmse:5.39453\n",
      "[43]\tvalidation-rmse:5.39394\n",
      "[44]\tvalidation-rmse:5.39335\n",
      "[45]\tvalidation-rmse:5.39261\n",
      "[46]\tvalidation-rmse:5.39244\n",
      "[47]\tvalidation-rmse:5.39193\n",
      "[48]\tvalidation-rmse:5.39051\n",
      "[49]\tvalidation-rmse:5.38987\n",
      "[50]\tvalidation-rmse:5.38897\n",
      "[51]\tvalidation-rmse:5.38813\n",
      "[52]\tvalidation-rmse:5.38817\n",
      "[53]\tvalidation-rmse:5.38741\n",
      "[54]\tvalidation-rmse:5.38707\n",
      "[55]\tvalidation-rmse:5.38603\n",
      "[56]\tvalidation-rmse:5.38563\n",
      "[57]\tvalidation-rmse:5.38532\n",
      "[58]\tvalidation-rmse:5.38471\n",
      "[59]\tvalidation-rmse:5.38414\n",
      "[60]\tvalidation-rmse:5.38332\n",
      "[61]\tvalidation-rmse:5.38271\n",
      "[62]\tvalidation-rmse:5.38213\n",
      "[63]\tvalidation-rmse:5.38057\n",
      "[64]\tvalidation-rmse:5.38034\n",
      "[65]\tvalidation-rmse:5.38021\n",
      "[66]\tvalidation-rmse:5.37894\n",
      "[67]\tvalidation-rmse:5.37840\n",
      "[68]\tvalidation-rmse:5.37774\n",
      "[69]\tvalidation-rmse:5.37756\n",
      "[70]\tvalidation-rmse:5.37728\n",
      "[71]\tvalidation-rmse:5.37688\n",
      "[72]\tvalidation-rmse:5.37635\n",
      "[73]\tvalidation-rmse:5.37633\n",
      "[74]\tvalidation-rmse:5.37478\n",
      "[75]\tvalidation-rmse:5.37230\n",
      "[76]\tvalidation-rmse:5.37151\n",
      "[77]\tvalidation-rmse:5.37079\n",
      "[78]\tvalidation-rmse:5.37062\n",
      "[79]\tvalidation-rmse:5.37007\n",
      "[80]\tvalidation-rmse:5.37005\n",
      "[81]\tvalidation-rmse:5.36977\n",
      "[82]\tvalidation-rmse:5.36937\n",
      "[83]\tvalidation-rmse:5.36799\n",
      "[84]\tvalidation-rmse:5.36778\n",
      "[85]\tvalidation-rmse:5.36779\n",
      "[86]\tvalidation-rmse:5.36737\n",
      "[87]\tvalidation-rmse:5.36716\n",
      "[88]\tvalidation-rmse:5.36703\n",
      "[89]\tvalidation-rmse:5.36669\n",
      "[90]\tvalidation-rmse:5.36591\n",
      "[91]\tvalidation-rmse:5.36525\n",
      "[92]\tvalidation-rmse:5.36537\n",
      "[93]\tvalidation-rmse:5.36496\n",
      "[94]\tvalidation-rmse:5.36516\n",
      "[95]\tvalidation-rmse:5.36399\n",
      "[96]\tvalidation-rmse:5.36341\n",
      "[97]\tvalidation-rmse:5.36351\n",
      "[98]\tvalidation-rmse:5.36289\n",
      "[99]\tvalidation-rmse:5.36272\n"
     ]
    },
    {
     "name": "stderr",
     "output_type": "stream",
     "text": [
      "c:\\Users\\prisc\\apps\\nyc-taxi-predictions-2025\\.venv\\Lib\\site-packages\\mlflow\\xgboost\\__init__.py:169: UserWarning: [21:39:01] WARNING: C:\\actions-runner\\_work\\xgboost\\xgboost\\src\\c_api\\c_api.cc:1575: Saving model in the UBJSON format as default.  You can use a file extension: `json` or `ubj` to choose between formats.\n",
      "  xgb_model.save_model(model_data_path)\n",
      "2025/10/28 21:39:10 WARNING mlflow.utils.environment: Failed to resolve installed pip version. ``pip`` will be added to conda.yaml environment spec without a version specifier.\n"
     ]
    },
    {
     "data": {
      "application/vnd.jupyter.widget-view+json": {
       "model_id": "6b49e5d82ece4aa9a291b30e191c5e8e",
       "version_major": 2,
       "version_minor": 0
      },
      "text/plain": [
       "Downloading artifacts:   0%|          | 0/7 [00:00<?, ?it/s]"
      ]
     },
     "metadata": {},
     "output_type": "display_data"
    },
    {
     "name": "stderr",
     "output_type": "stream",
     "text": [
      "c:\\Users\\prisc\\apps\\nyc-taxi-predictions-2025\\.venv\\Lib\\site-packages\\mlflow\\xgboost\\__init__.py:321: UserWarning: [21:39:10] WARNING: C:\\actions-runner\\_work\\xgboost\\xgboost\\src\\c_api\\c_api.cc:1511: Unknown file format: `xgb`. Using UBJSON (`ubj`) as a guess.\n",
      "  model.load_model(xgb_model_path)\n",
      "[I 2025-10-28 21:39:15,506] Trial 3 finished with value: 5.362717739173819 and parameters: {'max_depth': 21, 'learning_rate': 0.12402485733085497, 'reg_alpha': 0.054969638498598095, 'reg_lambda': 0.02148769342025257, 'min_child_weight': 1.1792947151892554}. Best is trial 3 with value: 5.362717739173819.\n"
     ]
    },
    {
     "name": "stdout",
     "output_type": "stream",
     "text": [
      "🏃 View run merciful-wasp-230 at: https://dbc-35a009eb-7ad0.cloud.databricks.com/ml/experiments/3999049734856042/runs/56d1062fb8524baf967bce9817735caf\n",
      "🧪 View experiment at: https://dbc-35a009eb-7ad0.cloud.databricks.com/ml/experiments/3999049734856042\n",
      "[0]\tvalidation-rmse:8.66900\n",
      "[1]\tvalidation-rmse:8.27724\n",
      "[2]\tvalidation-rmse:7.92728\n",
      "[3]\tvalidation-rmse:7.61583\n",
      "[4]\tvalidation-rmse:7.33855\n",
      "[5]\tvalidation-rmse:7.09228\n",
      "[6]\tvalidation-rmse:6.87486\n",
      "[7]\tvalidation-rmse:6.68312\n",
      "[8]\tvalidation-rmse:6.51512\n",
      "[9]\tvalidation-rmse:6.36795\n",
      "[10]\tvalidation-rmse:6.23874\n",
      "[11]\tvalidation-rmse:6.12574\n",
      "[12]\tvalidation-rmse:6.02624\n",
      "[13]\tvalidation-rmse:5.93991\n",
      "[14]\tvalidation-rmse:5.86418\n",
      "[15]\tvalidation-rmse:5.79827\n",
      "[16]\tvalidation-rmse:5.74190\n",
      "[17]\tvalidation-rmse:5.69254\n",
      "[18]\tvalidation-rmse:5.65012\n",
      "[19]\tvalidation-rmse:5.61385\n",
      "[20]\tvalidation-rmse:5.58229\n",
      "[21]\tvalidation-rmse:5.55495\n",
      "[22]\tvalidation-rmse:5.53061\n",
      "[23]\tvalidation-rmse:5.50968\n",
      "[24]\tvalidation-rmse:5.49174\n",
      "[25]\tvalidation-rmse:5.47625\n",
      "[26]\tvalidation-rmse:5.46293\n",
      "[27]\tvalidation-rmse:5.45068\n",
      "[28]\tvalidation-rmse:5.44037\n",
      "[29]\tvalidation-rmse:5.43148\n",
      "[30]\tvalidation-rmse:5.42348\n",
      "[31]\tvalidation-rmse:5.41718\n",
      "[32]\tvalidation-rmse:5.40972\n",
      "[33]\tvalidation-rmse:5.40425\n",
      "[34]\tvalidation-rmse:5.39884\n",
      "[35]\tvalidation-rmse:5.39446\n",
      "[36]\tvalidation-rmse:5.39115\n",
      "[37]\tvalidation-rmse:5.38790\n",
      "[38]\tvalidation-rmse:5.38495\n",
      "[39]\tvalidation-rmse:5.38249\n",
      "[40]\tvalidation-rmse:5.37939\n",
      "[41]\tvalidation-rmse:5.37726\n",
      "[42]\tvalidation-rmse:5.37453\n",
      "[43]\tvalidation-rmse:5.37184\n",
      "[44]\tvalidation-rmse:5.36972\n",
      "[45]\tvalidation-rmse:5.36778\n",
      "[46]\tvalidation-rmse:5.36666\n",
      "[47]\tvalidation-rmse:5.36546\n",
      "[48]\tvalidation-rmse:5.36427\n",
      "[49]\tvalidation-rmse:5.36316\n",
      "[50]\tvalidation-rmse:5.36250\n",
      "[51]\tvalidation-rmse:5.36177\n",
      "[52]\tvalidation-rmse:5.36116\n",
      "[53]\tvalidation-rmse:5.36076\n",
      "[54]\tvalidation-rmse:5.36048\n",
      "[55]\tvalidation-rmse:5.36018\n",
      "[56]\tvalidation-rmse:5.36005\n",
      "[57]\tvalidation-rmse:5.35995\n",
      "[58]\tvalidation-rmse:5.35934\n",
      "[59]\tvalidation-rmse:5.35885\n",
      "[60]\tvalidation-rmse:5.35877\n",
      "[61]\tvalidation-rmse:5.35852\n",
      "[62]\tvalidation-rmse:5.35861\n",
      "[63]\tvalidation-rmse:5.35817\n",
      "[64]\tvalidation-rmse:5.35776\n",
      "[65]\tvalidation-rmse:5.35742\n",
      "[66]\tvalidation-rmse:5.35699\n",
      "[67]\tvalidation-rmse:5.35684\n",
      "[68]\tvalidation-rmse:5.35668\n",
      "[69]\tvalidation-rmse:5.35647\n",
      "[70]\tvalidation-rmse:5.35624\n",
      "[71]\tvalidation-rmse:5.35617\n",
      "[72]\tvalidation-rmse:5.35613\n",
      "[73]\tvalidation-rmse:5.35594\n",
      "[74]\tvalidation-rmse:5.35582\n",
      "[75]\tvalidation-rmse:5.35550\n",
      "[76]\tvalidation-rmse:5.35578\n",
      "[77]\tvalidation-rmse:5.35516\n",
      "[78]\tvalidation-rmse:5.35482\n",
      "[79]\tvalidation-rmse:5.35434\n",
      "[80]\tvalidation-rmse:5.35433\n",
      "[81]\tvalidation-rmse:5.35402\n",
      "[82]\tvalidation-rmse:5.35411\n",
      "[83]\tvalidation-rmse:5.35357\n",
      "[84]\tvalidation-rmse:5.35325\n",
      "[85]\tvalidation-rmse:5.35323\n",
      "[86]\tvalidation-rmse:5.35261\n",
      "[87]\tvalidation-rmse:5.35250\n",
      "[88]\tvalidation-rmse:5.35245\n",
      "[89]\tvalidation-rmse:5.35210\n",
      "[90]\tvalidation-rmse:5.35205\n",
      "[91]\tvalidation-rmse:5.35183\n",
      "[92]\tvalidation-rmse:5.35168\n",
      "[93]\tvalidation-rmse:5.35156\n",
      "[94]\tvalidation-rmse:5.35159\n",
      "[95]\tvalidation-rmse:5.35149\n",
      "[96]\tvalidation-rmse:5.35068\n",
      "[97]\tvalidation-rmse:5.35090\n",
      "[98]\tvalidation-rmse:5.35096\n",
      "[99]\tvalidation-rmse:5.35086\n"
     ]
    },
    {
     "name": "stderr",
     "output_type": "stream",
     "text": [
      "c:\\Users\\prisc\\apps\\nyc-taxi-predictions-2025\\.venv\\Lib\\site-packages\\mlflow\\xgboost\\__init__.py:169: UserWarning: [21:40:33] WARNING: C:\\actions-runner\\_work\\xgboost\\xgboost\\src\\c_api\\c_api.cc:1575: Saving model in the UBJSON format as default.  You can use a file extension: `json` or `ubj` to choose between formats.\n",
      "  xgb_model.save_model(model_data_path)\n",
      "2025/10/28 21:40:43 WARNING mlflow.utils.environment: Failed to resolve installed pip version. ``pip`` will be added to conda.yaml environment spec without a version specifier.\n"
     ]
    },
    {
     "data": {
      "application/vnd.jupyter.widget-view+json": {
       "model_id": "ce2bcdf7012b4c10aafc63acbb4342d6",
       "version_major": 2,
       "version_minor": 0
      },
      "text/plain": [
       "Downloading artifacts:   0%|          | 0/7 [00:00<?, ?it/s]"
      ]
     },
     "metadata": {},
     "output_type": "display_data"
    },
    {
     "name": "stderr",
     "output_type": "stream",
     "text": [
      "c:\\Users\\prisc\\apps\\nyc-taxi-predictions-2025\\.venv\\Lib\\site-packages\\mlflow\\xgboost\\__init__.py:321: UserWarning: [21:40:43] WARNING: C:\\actions-runner\\_work\\xgboost\\xgboost\\src\\c_api\\c_api.cc:1511: Unknown file format: `xgb`. Using UBJSON (`ubj`) as a guess.\n",
      "  model.load_model(xgb_model_path)\n",
      "[I 2025-10-28 21:40:56,902] Trial 4 finished with value: 5.350864717798953 and parameters: {'max_depth': 63, 'learning_rate': 0.07565903471570516, 'reg_alpha': 0.021678779375600917, 'reg_lambda': 0.015480241912324163, 'min_child_weight': 2.2802382585441565}. Best is trial 4 with value: 5.350864717798953.\n"
     ]
    },
    {
     "name": "stdout",
     "output_type": "stream",
     "text": [
      "🏃 View run puzzled-snipe-422 at: https://dbc-35a009eb-7ad0.cloud.databricks.com/ml/experiments/3999049734856042/runs/b1e94feef25e4e2fa49cc01e302b3efb\n",
      "🧪 View experiment at: https://dbc-35a009eb-7ad0.cloud.databricks.com/ml/experiments/3999049734856042\n",
      "[0]\tvalidation-rmse:8.58919\n",
      "[1]\tvalidation-rmse:8.14344\n",
      "[2]\tvalidation-rmse:7.75791\n",
      "[3]\tvalidation-rmse:7.41843\n",
      "[4]\tvalidation-rmse:7.12684\n",
      "[5]\tvalidation-rmse:6.87995\n",
      "[6]\tvalidation-rmse:6.66664\n",
      "[7]\tvalidation-rmse:6.49156\n",
      "[8]\tvalidation-rmse:6.33790\n",
      "[9]\tvalidation-rmse:6.21237\n",
      "[10]\tvalidation-rmse:6.09043\n",
      "[11]\tvalidation-rmse:6.00246\n",
      "[12]\tvalidation-rmse:5.92540\n",
      "[13]\tvalidation-rmse:5.85087\n",
      "[14]\tvalidation-rmse:5.79602\n",
      "[15]\tvalidation-rmse:5.74859\n",
      "[16]\tvalidation-rmse:5.71014\n",
      "[17]\tvalidation-rmse:5.67349\n",
      "[18]\tvalidation-rmse:5.64618\n",
      "[19]\tvalidation-rmse:5.62571\n",
      "[20]\tvalidation-rmse:5.60377\n",
      "[21]\tvalidation-rmse:5.58592\n",
      "[22]\tvalidation-rmse:5.57306\n",
      "[23]\tvalidation-rmse:5.55814\n",
      "[24]\tvalidation-rmse:5.54897\n",
      "[25]\tvalidation-rmse:5.54108\n",
      "[26]\tvalidation-rmse:5.53351\n",
      "[27]\tvalidation-rmse:5.52641\n",
      "[28]\tvalidation-rmse:5.52194\n",
      "[29]\tvalidation-rmse:5.51822\n",
      "[30]\tvalidation-rmse:5.51263\n",
      "[31]\tvalidation-rmse:5.50936\n",
      "[32]\tvalidation-rmse:5.50725\n",
      "[33]\tvalidation-rmse:5.50502\n",
      "[34]\tvalidation-rmse:5.50399\n",
      "[35]\tvalidation-rmse:5.50261\n",
      "[36]\tvalidation-rmse:5.49911\n",
      "[37]\tvalidation-rmse:5.49766\n",
      "[38]\tvalidation-rmse:5.49636\n",
      "[39]\tvalidation-rmse:5.49549\n",
      "[40]\tvalidation-rmse:5.49537\n",
      "[41]\tvalidation-rmse:5.49407\n",
      "[42]\tvalidation-rmse:5.49309\n",
      "[43]\tvalidation-rmse:5.49205\n",
      "[44]\tvalidation-rmse:5.49104\n",
      "[45]\tvalidation-rmse:5.49109\n",
      "[46]\tvalidation-rmse:5.48914\n",
      "[47]\tvalidation-rmse:5.48819\n",
      "[48]\tvalidation-rmse:5.48676\n",
      "[49]\tvalidation-rmse:5.48639\n",
      "[50]\tvalidation-rmse:5.48547\n",
      "[51]\tvalidation-rmse:5.48659\n",
      "[52]\tvalidation-rmse:5.48593\n",
      "[53]\tvalidation-rmse:5.48562\n",
      "[54]\tvalidation-rmse:5.48469\n",
      "[55]\tvalidation-rmse:5.48429\n",
      "[56]\tvalidation-rmse:5.48431\n",
      "[57]\tvalidation-rmse:5.48417\n",
      "[58]\tvalidation-rmse:5.48295\n",
      "[59]\tvalidation-rmse:5.48283\n",
      "[60]\tvalidation-rmse:5.48195\n",
      "[61]\tvalidation-rmse:5.48209\n",
      "[62]\tvalidation-rmse:5.48181\n",
      "[63]\tvalidation-rmse:5.48103\n",
      "[64]\tvalidation-rmse:5.48111\n",
      "[65]\tvalidation-rmse:5.48125\n",
      "[66]\tvalidation-rmse:5.48074\n",
      "[67]\tvalidation-rmse:5.48130\n",
      "[68]\tvalidation-rmse:5.48104\n",
      "[69]\tvalidation-rmse:5.48073\n",
      "[70]\tvalidation-rmse:5.48094\n",
      "[71]\tvalidation-rmse:5.48122\n",
      "[72]\tvalidation-rmse:5.48086\n",
      "[73]\tvalidation-rmse:5.48076\n",
      "[74]\tvalidation-rmse:5.48111\n",
      "[75]\tvalidation-rmse:5.48042\n",
      "[76]\tvalidation-rmse:5.48040\n",
      "[77]\tvalidation-rmse:5.48077\n",
      "[78]\tvalidation-rmse:5.48075\n",
      "[79]\tvalidation-rmse:5.48081\n",
      "[80]\tvalidation-rmse:5.48059\n",
      "[81]\tvalidation-rmse:5.48059\n",
      "[82]\tvalidation-rmse:5.48025\n",
      "[83]\tvalidation-rmse:5.48016\n",
      "[84]\tvalidation-rmse:5.48006\n",
      "[85]\tvalidation-rmse:5.47948\n",
      "[86]\tvalidation-rmse:5.47977\n",
      "[87]\tvalidation-rmse:5.47990\n",
      "[88]\tvalidation-rmse:5.47895\n",
      "[89]\tvalidation-rmse:5.47939\n",
      "[90]\tvalidation-rmse:5.47919\n",
      "[91]\tvalidation-rmse:5.47921\n",
      "[92]\tvalidation-rmse:5.47922\n",
      "[93]\tvalidation-rmse:5.47874\n",
      "[94]\tvalidation-rmse:5.47883\n",
      "[95]\tvalidation-rmse:5.47891\n",
      "[96]\tvalidation-rmse:5.47930\n",
      "[97]\tvalidation-rmse:5.47928\n",
      "[98]\tvalidation-rmse:5.47936\n",
      "[99]\tvalidation-rmse:5.47967\n"
     ]
    },
    {
     "name": "stderr",
     "output_type": "stream",
     "text": [
      "c:\\Users\\prisc\\apps\\nyc-taxi-predictions-2025\\.venv\\Lib\\site-packages\\mlflow\\xgboost\\__init__.py:169: UserWarning: [21:43:20] WARNING: C:\\actions-runner\\_work\\xgboost\\xgboost\\src\\c_api\\c_api.cc:1575: Saving model in the UBJSON format as default.  You can use a file extension: `json` or `ubj` to choose between formats.\n",
      "  xgb_model.save_model(model_data_path)\n",
      "2025/10/28 21:43:30 WARNING mlflow.utils.environment: Failed to resolve installed pip version. ``pip`` will be added to conda.yaml environment spec without a version specifier.\n"
     ]
    },
    {
     "data": {
      "application/vnd.jupyter.widget-view+json": {
       "model_id": "f5a394597bc64e2eb7db5289b0d964c1",
       "version_major": 2,
       "version_minor": 0
      },
      "text/plain": [
       "Downloading artifacts:   0%|          | 0/7 [00:00<?, ?it/s]"
      ]
     },
     "metadata": {},
     "output_type": "display_data"
    },
    {
     "name": "stderr",
     "output_type": "stream",
     "text": [
      "c:\\Users\\prisc\\apps\\nyc-taxi-predictions-2025\\.venv\\Lib\\site-packages\\mlflow\\xgboost\\__init__.py:321: UserWarning: [21:43:30] WARNING: C:\\actions-runner\\_work\\xgboost\\xgboost\\src\\c_api\\c_api.cc:1511: Unknown file format: `xgb`. Using UBJSON (`ubj`) as a guess.\n",
      "  model.load_model(xgb_model_path)\n",
      "[I 2025-10-28 21:43:49,759] Trial 5 finished with value: 5.479673192795726 and parameters: {'max_depth': 80, 'learning_rate': 0.0906292152736207, 'reg_alpha': 0.05270408847118816, 'reg_lambda': 0.04793414660944966, 'min_child_weight': 0.4429943118354462}. Best is trial 4 with value: 5.350864717798953.\n"
     ]
    },
    {
     "name": "stdout",
     "output_type": "stream",
     "text": [
      "🏃 View run unleashed-pig-427 at: https://dbc-35a009eb-7ad0.cloud.databricks.com/ml/experiments/3999049734856042/runs/61b3921c0a414e2991ff508374243ec2\n",
      "🧪 View experiment at: https://dbc-35a009eb-7ad0.cloud.databricks.com/ml/experiments/3999049734856042\n",
      "[0]\tvalidation-rmse:8.65885\n",
      "[1]\tvalidation-rmse:8.26292\n",
      "[2]\tvalidation-rmse:7.91356\n",
      "[3]\tvalidation-rmse:7.60600\n",
      "[4]\tvalidation-rmse:7.33639\n",
      "[5]\tvalidation-rmse:7.10061\n",
      "[6]\tvalidation-rmse:6.89529\n",
      "[7]\tvalidation-rmse:6.71671\n",
      "[8]\tvalidation-rmse:6.56176\n",
      "[9]\tvalidation-rmse:6.42779\n",
      "[10]\tvalidation-rmse:6.31135\n",
      "[11]\tvalidation-rmse:6.21121\n",
      "[12]\tvalidation-rmse:6.12498\n",
      "[13]\tvalidation-rmse:6.05098\n",
      "[14]\tvalidation-rmse:5.98728\n",
      "[15]\tvalidation-rmse:5.93214\n",
      "[16]\tvalidation-rmse:5.88454\n",
      "[17]\tvalidation-rmse:5.84362\n",
      "[18]\tvalidation-rmse:5.80836\n",
      "[19]\tvalidation-rmse:5.77731\n",
      "[20]\tvalidation-rmse:5.74992\n",
      "[21]\tvalidation-rmse:5.72638\n",
      "[22]\tvalidation-rmse:5.70614\n",
      "[23]\tvalidation-rmse:5.68871\n",
      "[24]\tvalidation-rmse:5.67341\n",
      "[25]\tvalidation-rmse:5.66015\n",
      "[26]\tvalidation-rmse:5.64619\n",
      "[27]\tvalidation-rmse:5.63578\n",
      "[28]\tvalidation-rmse:5.62660\n",
      "[29]\tvalidation-rmse:5.61738\n",
      "[30]\tvalidation-rmse:5.60916\n",
      "[31]\tvalidation-rmse:5.60230\n",
      "[32]\tvalidation-rmse:5.59567\n",
      "[33]\tvalidation-rmse:5.59015\n",
      "[34]\tvalidation-rmse:5.58546\n",
      "[35]\tvalidation-rmse:5.58055\n",
      "[36]\tvalidation-rmse:5.57596\n",
      "[37]\tvalidation-rmse:5.57171\n",
      "[38]\tvalidation-rmse:5.56825\n",
      "[39]\tvalidation-rmse:5.56361\n",
      "[40]\tvalidation-rmse:5.56061\n",
      "[41]\tvalidation-rmse:5.55721\n",
      "[42]\tvalidation-rmse:5.55383\n",
      "[43]\tvalidation-rmse:5.55182\n",
      "[44]\tvalidation-rmse:5.54868\n",
      "[45]\tvalidation-rmse:5.54721\n",
      "[46]\tvalidation-rmse:5.54432\n",
      "[47]\tvalidation-rmse:5.54285\n",
      "[48]\tvalidation-rmse:5.53994\n",
      "[49]\tvalidation-rmse:5.53768\n",
      "[50]\tvalidation-rmse:5.53581\n",
      "[51]\tvalidation-rmse:5.53476\n",
      "[52]\tvalidation-rmse:5.53276\n",
      "[53]\tvalidation-rmse:5.52958\n",
      "[54]\tvalidation-rmse:5.52699\n",
      "[55]\tvalidation-rmse:5.52520\n",
      "[56]\tvalidation-rmse:5.52294\n",
      "[57]\tvalidation-rmse:5.52100\n",
      "[58]\tvalidation-rmse:5.51854\n",
      "[59]\tvalidation-rmse:5.51656\n",
      "[60]\tvalidation-rmse:5.51521\n",
      "[61]\tvalidation-rmse:5.51416\n",
      "[62]\tvalidation-rmse:5.51199\n",
      "[63]\tvalidation-rmse:5.51111\n",
      "[64]\tvalidation-rmse:5.51026\n",
      "[65]\tvalidation-rmse:5.50845\n",
      "[66]\tvalidation-rmse:5.50771\n",
      "[67]\tvalidation-rmse:5.50722\n",
      "[68]\tvalidation-rmse:5.50573\n",
      "[69]\tvalidation-rmse:5.50490\n",
      "[70]\tvalidation-rmse:5.50377\n",
      "[71]\tvalidation-rmse:5.50327\n",
      "[72]\tvalidation-rmse:5.50273\n",
      "[73]\tvalidation-rmse:5.50145\n",
      "[74]\tvalidation-rmse:5.50105\n",
      "[75]\tvalidation-rmse:5.50070\n",
      "[76]\tvalidation-rmse:5.49977\n",
      "[77]\tvalidation-rmse:5.49939\n",
      "[78]\tvalidation-rmse:5.49882\n",
      "[79]\tvalidation-rmse:5.49796\n",
      "[80]\tvalidation-rmse:5.49749\n",
      "[81]\tvalidation-rmse:5.49713\n",
      "[82]\tvalidation-rmse:5.49652\n",
      "[83]\tvalidation-rmse:5.49612\n",
      "[84]\tvalidation-rmse:5.49586\n",
      "[85]\tvalidation-rmse:5.49515\n",
      "[86]\tvalidation-rmse:5.49484\n",
      "[87]\tvalidation-rmse:5.49456\n",
      "[88]\tvalidation-rmse:5.49388\n",
      "[89]\tvalidation-rmse:5.49355\n",
      "[90]\tvalidation-rmse:5.49338\n",
      "[91]\tvalidation-rmse:5.49291\n",
      "[92]\tvalidation-rmse:5.49243\n",
      "[93]\tvalidation-rmse:5.49206\n",
      "[94]\tvalidation-rmse:5.49138\n",
      "[95]\tvalidation-rmse:5.49112\n",
      "[96]\tvalidation-rmse:5.49081\n",
      "[97]\tvalidation-rmse:5.49056\n",
      "[98]\tvalidation-rmse:5.49050\n",
      "[99]\tvalidation-rmse:5.49022\n"
     ]
    },
    {
     "name": "stderr",
     "output_type": "stream",
     "text": [
      "c:\\Users\\prisc\\apps\\nyc-taxi-predictions-2025\\.venv\\Lib\\site-packages\\mlflow\\xgboost\\__init__.py:169: UserWarning: [21:44:32] WARNING: C:\\actions-runner\\_work\\xgboost\\xgboost\\src\\c_api\\c_api.cc:1575: Saving model in the UBJSON format as default.  You can use a file extension: `json` or `ubj` to choose between formats.\n",
      "  xgb_model.save_model(model_data_path)\n",
      "2025/10/28 21:44:41 WARNING mlflow.utils.environment: Failed to resolve installed pip version. ``pip`` will be added to conda.yaml environment spec without a version specifier.\n"
     ]
    },
    {
     "data": {
      "application/vnd.jupyter.widget-view+json": {
       "model_id": "8ca0e30ad7384d50b674ed7f348f7c2e",
       "version_major": 2,
       "version_minor": 0
      },
      "text/plain": [
       "Downloading artifacts:   0%|          | 0/7 [00:00<?, ?it/s]"
      ]
     },
     "metadata": {},
     "output_type": "display_data"
    },
    {
     "name": "stderr",
     "output_type": "stream",
     "text": [
      "c:\\Users\\prisc\\apps\\nyc-taxi-predictions-2025\\.venv\\Lib\\site-packages\\mlflow\\xgboost\\__init__.py:321: UserWarning: [21:44:41] WARNING: C:\\actions-runner\\_work\\xgboost\\xgboost\\src\\c_api\\c_api.cc:1511: Unknown file format: `xgb`. Using UBJSON (`ubj`) as a guess.\n",
      "  model.load_model(xgb_model_path)\n",
      "[I 2025-10-28 21:44:47,757] Trial 6 finished with value: 5.490218802659253 and parameters: {'max_depth': 62, 'learning_rate': 0.08304043435235499, 'reg_alpha': 0.008740449782948887, 'reg_lambda': 0.28491274207986833, 'min_child_weight': 17.505727836123448}. Best is trial 4 with value: 5.350864717798953.\n"
     ]
    },
    {
     "name": "stdout",
     "output_type": "stream",
     "text": [
      "🏃 View run bouncy-deer-590 at: https://dbc-35a009eb-7ad0.cloud.databricks.com/ml/experiments/3999049734856042/runs/5349cc150e954fdc93c72271141641b7\n",
      "🧪 View experiment at: https://dbc-35a009eb-7ad0.cloud.databricks.com/ml/experiments/3999049734856042\n",
      "[0]\tvalidation-rmse:8.39542\n",
      "[1]\tvalidation-rmse:7.80634\n",
      "[2]\tvalidation-rmse:7.32181\n",
      "[3]\tvalidation-rmse:6.92746\n",
      "[4]\tvalidation-rmse:6.60765\n",
      "[5]\tvalidation-rmse:6.35062\n",
      "[6]\tvalidation-rmse:6.14572\n",
      "[7]\tvalidation-rmse:5.98047\n",
      "[8]\tvalidation-rmse:5.84935\n",
      "[9]\tvalidation-rmse:5.74742\n",
      "[10]\tvalidation-rmse:5.66779\n",
      "[11]\tvalidation-rmse:5.60712\n",
      "[12]\tvalidation-rmse:5.55894\n",
      "[13]\tvalidation-rmse:5.52208\n",
      "[14]\tvalidation-rmse:5.49258\n",
      "[15]\tvalidation-rmse:5.46956\n",
      "[16]\tvalidation-rmse:5.45197\n",
      "[17]\tvalidation-rmse:5.43876\n",
      "[18]\tvalidation-rmse:5.42803\n",
      "[19]\tvalidation-rmse:5.41909\n",
      "[20]\tvalidation-rmse:5.41089\n",
      "[21]\tvalidation-rmse:5.40521\n",
      "[22]\tvalidation-rmse:5.40092\n",
      "[23]\tvalidation-rmse:5.39787\n",
      "[24]\tvalidation-rmse:5.39264\n",
      "[25]\tvalidation-rmse:5.38880\n",
      "[26]\tvalidation-rmse:5.38478\n",
      "[27]\tvalidation-rmse:5.38196\n",
      "[28]\tvalidation-rmse:5.37988\n",
      "[29]\tvalidation-rmse:5.37821\n",
      "[30]\tvalidation-rmse:5.37784\n",
      "[31]\tvalidation-rmse:5.37661\n",
      "[32]\tvalidation-rmse:5.37539\n",
      "[33]\tvalidation-rmse:5.37487\n",
      "[34]\tvalidation-rmse:5.37442\n",
      "[35]\tvalidation-rmse:5.37438\n",
      "[36]\tvalidation-rmse:5.37414\n",
      "[37]\tvalidation-rmse:5.37395\n",
      "[38]\tvalidation-rmse:5.37321\n",
      "[39]\tvalidation-rmse:5.37309\n",
      "[40]\tvalidation-rmse:5.37240\n",
      "[41]\tvalidation-rmse:5.37215\n",
      "[42]\tvalidation-rmse:5.37128\n",
      "[43]\tvalidation-rmse:5.37110\n",
      "[44]\tvalidation-rmse:5.37086\n",
      "[45]\tvalidation-rmse:5.37101\n",
      "[46]\tvalidation-rmse:5.37074\n",
      "[47]\tvalidation-rmse:5.37071\n",
      "[48]\tvalidation-rmse:5.37031\n",
      "[49]\tvalidation-rmse:5.37002\n",
      "[50]\tvalidation-rmse:5.37047\n",
      "[51]\tvalidation-rmse:5.37037\n",
      "[52]\tvalidation-rmse:5.37027\n",
      "[53]\tvalidation-rmse:5.36967\n",
      "[54]\tvalidation-rmse:5.36965\n",
      "[55]\tvalidation-rmse:5.36972\n",
      "[56]\tvalidation-rmse:5.36950\n",
      "[57]\tvalidation-rmse:5.36978\n",
      "[58]\tvalidation-rmse:5.36947\n",
      "[59]\tvalidation-rmse:5.36921\n",
      "[60]\tvalidation-rmse:5.36944\n",
      "[61]\tvalidation-rmse:5.36930\n",
      "[62]\tvalidation-rmse:5.36899\n",
      "[63]\tvalidation-rmse:5.36859\n",
      "[64]\tvalidation-rmse:5.36875\n",
      "[65]\tvalidation-rmse:5.36847\n",
      "[66]\tvalidation-rmse:5.36868\n",
      "[67]\tvalidation-rmse:5.36833\n",
      "[68]\tvalidation-rmse:5.36813\n",
      "[69]\tvalidation-rmse:5.36801\n",
      "[70]\tvalidation-rmse:5.36789\n",
      "[71]\tvalidation-rmse:5.36791\n",
      "[72]\tvalidation-rmse:5.36741\n",
      "[73]\tvalidation-rmse:5.36751\n",
      "[74]\tvalidation-rmse:5.36738\n",
      "[75]\tvalidation-rmse:5.36775\n",
      "[76]\tvalidation-rmse:5.36733\n",
      "[77]\tvalidation-rmse:5.36747\n",
      "[78]\tvalidation-rmse:5.36699\n",
      "[79]\tvalidation-rmse:5.36700\n",
      "[80]\tvalidation-rmse:5.36709\n",
      "[81]\tvalidation-rmse:5.36657\n",
      "[82]\tvalidation-rmse:5.36637\n",
      "[83]\tvalidation-rmse:5.36553\n",
      "[84]\tvalidation-rmse:5.36548\n",
      "[85]\tvalidation-rmse:5.36515\n",
      "[86]\tvalidation-rmse:5.36513\n",
      "[87]\tvalidation-rmse:5.36504\n",
      "[88]\tvalidation-rmse:5.36498\n",
      "[89]\tvalidation-rmse:5.36477\n",
      "[90]\tvalidation-rmse:5.36435\n",
      "[91]\tvalidation-rmse:5.36415\n",
      "[92]\tvalidation-rmse:5.36394\n",
      "[93]\tvalidation-rmse:5.36384\n",
      "[94]\tvalidation-rmse:5.36403\n",
      "[95]\tvalidation-rmse:5.36404\n",
      "[96]\tvalidation-rmse:5.36391\n",
      "[97]\tvalidation-rmse:5.36374\n",
      "[98]\tvalidation-rmse:5.36386\n",
      "[99]\tvalidation-rmse:5.36391\n"
     ]
    },
    {
     "name": "stderr",
     "output_type": "stream",
     "text": [
      "c:\\Users\\prisc\\apps\\nyc-taxi-predictions-2025\\.venv\\Lib\\site-packages\\mlflow\\xgboost\\__init__.py:169: UserWarning: [21:46:15] WARNING: C:\\actions-runner\\_work\\xgboost\\xgboost\\src\\c_api\\c_api.cc:1575: Saving model in the UBJSON format as default.  You can use a file extension: `json` or `ubj` to choose between formats.\n",
      "  xgb_model.save_model(model_data_path)\n",
      "2025/10/28 21:46:24 WARNING mlflow.utils.environment: Failed to resolve installed pip version. ``pip`` will be added to conda.yaml environment spec without a version specifier.\n"
     ]
    },
    {
     "data": {
      "application/vnd.jupyter.widget-view+json": {
       "model_id": "4e080672574843faa2022e8747c89a10",
       "version_major": 2,
       "version_minor": 0
      },
      "text/plain": [
       "Downloading artifacts:   0%|          | 0/7 [00:00<?, ?it/s]"
      ]
     },
     "metadata": {},
     "output_type": "display_data"
    },
    {
     "name": "stderr",
     "output_type": "stream",
     "text": [
      "c:\\Users\\prisc\\apps\\nyc-taxi-predictions-2025\\.venv\\Lib\\site-packages\\mlflow\\xgboost\\__init__.py:321: UserWarning: [21:46:24] WARNING: C:\\actions-runner\\_work\\xgboost\\xgboost\\src\\c_api\\c_api.cc:1511: Unknown file format: `xgb`. Using UBJSON (`ubj`) as a guess.\n",
      "  model.load_model(xgb_model_path)\n",
      "[I 2025-10-28 21:46:36,958] Trial 7 finished with value: 5.363914469142168 and parameters: {'max_depth': 82, 'learning_rate': 0.12416316985362412, 'reg_alpha': 0.009958672056108932, 'reg_lambda': 0.0758623422350637, 'min_child_weight': 2.1395809133199974}. Best is trial 4 with value: 5.350864717798953.\n"
     ]
    },
    {
     "name": "stdout",
     "output_type": "stream",
     "text": [
      "🏃 View run caring-deer-207 at: https://dbc-35a009eb-7ad0.cloud.databricks.com/ml/experiments/3999049734856042/runs/393545a68493428399ee4cd76ef3041c\n",
      "🧪 View experiment at: https://dbc-35a009eb-7ad0.cloud.databricks.com/ml/experiments/3999049734856042\n",
      "[0]\tvalidation-rmse:7.93485\n",
      "[1]\tvalidation-rmse:7.12335\n",
      "[2]\tvalidation-rmse:6.57205\n",
      "[3]\tvalidation-rmse:6.21207\n",
      "[4]\tvalidation-rmse:5.96818\n",
      "[5]\tvalidation-rmse:5.80612\n",
      "[6]\tvalidation-rmse:5.69974\n",
      "[7]\tvalidation-rmse:5.62792\n",
      "[8]\tvalidation-rmse:5.57476\n",
      "[9]\tvalidation-rmse:5.53568\n",
      "[10]\tvalidation-rmse:5.50954\n",
      "[11]\tvalidation-rmse:5.49210\n",
      "[12]\tvalidation-rmse:5.47949\n",
      "[13]\tvalidation-rmse:5.46654\n",
      "[14]\tvalidation-rmse:5.45983\n",
      "[15]\tvalidation-rmse:5.45624\n",
      "[16]\tvalidation-rmse:5.45286\n",
      "[17]\tvalidation-rmse:5.45058\n",
      "[18]\tvalidation-rmse:5.44780\n",
      "[19]\tvalidation-rmse:5.44653\n",
      "[20]\tvalidation-rmse:5.44299\n",
      "[21]\tvalidation-rmse:5.44208\n",
      "[22]\tvalidation-rmse:5.44028\n",
      "[23]\tvalidation-rmse:5.43868\n",
      "[24]\tvalidation-rmse:5.43611\n",
      "[25]\tvalidation-rmse:5.43490\n",
      "[26]\tvalidation-rmse:5.43345\n",
      "[27]\tvalidation-rmse:5.43254\n",
      "[28]\tvalidation-rmse:5.43109\n",
      "[29]\tvalidation-rmse:5.42986\n",
      "[30]\tvalidation-rmse:5.42873\n",
      "[31]\tvalidation-rmse:5.42806\n",
      "[32]\tvalidation-rmse:5.42609\n",
      "[33]\tvalidation-rmse:5.42472\n",
      "[34]\tvalidation-rmse:5.42029\n",
      "[35]\tvalidation-rmse:5.42003\n",
      "[36]\tvalidation-rmse:5.41918\n",
      "[37]\tvalidation-rmse:5.41803\n",
      "[38]\tvalidation-rmse:5.41740\n",
      "[39]\tvalidation-rmse:5.41694\n",
      "[40]\tvalidation-rmse:5.41545\n",
      "[41]\tvalidation-rmse:5.41429\n",
      "[42]\tvalidation-rmse:5.41355\n",
      "[43]\tvalidation-rmse:5.41136\n",
      "[44]\tvalidation-rmse:5.41064\n",
      "[45]\tvalidation-rmse:5.40961\n",
      "[46]\tvalidation-rmse:5.40775\n",
      "[47]\tvalidation-rmse:5.40801\n",
      "[48]\tvalidation-rmse:5.40707\n",
      "[49]\tvalidation-rmse:5.40594\n",
      "[50]\tvalidation-rmse:5.40467\n",
      "[51]\tvalidation-rmse:5.40362\n",
      "[52]\tvalidation-rmse:5.40344\n",
      "[53]\tvalidation-rmse:5.40242\n",
      "[54]\tvalidation-rmse:5.40207\n",
      "[55]\tvalidation-rmse:5.40043\n",
      "[56]\tvalidation-rmse:5.39956\n",
      "[57]\tvalidation-rmse:5.39444\n",
      "[58]\tvalidation-rmse:5.39413\n",
      "[59]\tvalidation-rmse:5.39331\n",
      "[60]\tvalidation-rmse:5.39178\n",
      "[61]\tvalidation-rmse:5.39139\n",
      "[62]\tvalidation-rmse:5.39069\n",
      "[63]\tvalidation-rmse:5.39006\n",
      "[64]\tvalidation-rmse:5.38974\n",
      "[65]\tvalidation-rmse:5.39013\n",
      "[66]\tvalidation-rmse:5.38886\n",
      "[67]\tvalidation-rmse:5.38839\n",
      "[68]\tvalidation-rmse:5.38816\n",
      "[69]\tvalidation-rmse:5.38650\n",
      "[70]\tvalidation-rmse:5.38531\n",
      "[71]\tvalidation-rmse:5.38482\n",
      "[72]\tvalidation-rmse:5.38420\n",
      "[73]\tvalidation-rmse:5.38296\n",
      "[74]\tvalidation-rmse:5.38307\n",
      "[75]\tvalidation-rmse:5.38236\n",
      "[76]\tvalidation-rmse:5.38199\n",
      "[77]\tvalidation-rmse:5.38134\n",
      "[78]\tvalidation-rmse:5.38119\n",
      "[79]\tvalidation-rmse:5.38180\n",
      "[80]\tvalidation-rmse:5.38034\n",
      "[81]\tvalidation-rmse:5.38010\n",
      "[82]\tvalidation-rmse:5.37960\n",
      "[83]\tvalidation-rmse:5.37986\n",
      "[84]\tvalidation-rmse:5.37810\n",
      "[85]\tvalidation-rmse:5.37783\n",
      "[86]\tvalidation-rmse:5.37770\n",
      "[87]\tvalidation-rmse:5.37707\n",
      "[88]\tvalidation-rmse:5.37582\n",
      "[89]\tvalidation-rmse:5.37575\n",
      "[90]\tvalidation-rmse:5.37557\n",
      "[91]\tvalidation-rmse:5.37510\n",
      "[92]\tvalidation-rmse:5.37481\n",
      "[93]\tvalidation-rmse:5.37420\n",
      "[94]\tvalidation-rmse:5.37444\n",
      "[95]\tvalidation-rmse:5.37370\n",
      "[96]\tvalidation-rmse:5.37339\n",
      "[97]\tvalidation-rmse:5.37372\n",
      "[98]\tvalidation-rmse:5.37325\n",
      "[99]\tvalidation-rmse:5.37230\n"
     ]
    },
    {
     "name": "stderr",
     "output_type": "stream",
     "text": [
      "c:\\Users\\prisc\\apps\\nyc-taxi-predictions-2025\\.venv\\Lib\\site-packages\\mlflow\\xgboost\\__init__.py:169: UserWarning: [21:47:01] WARNING: C:\\actions-runner\\_work\\xgboost\\xgboost\\src\\c_api\\c_api.cc:1575: Saving model in the UBJSON format as default.  You can use a file extension: `json` or `ubj` to choose between formats.\n",
      "  xgb_model.save_model(model_data_path)\n",
      "2025/10/28 21:47:11 WARNING mlflow.utils.environment: Failed to resolve installed pip version. ``pip`` will be added to conda.yaml environment spec without a version specifier.\n"
     ]
    },
    {
     "data": {
      "application/vnd.jupyter.widget-view+json": {
       "model_id": "f2071588b22c44289209b445906da984",
       "version_major": 2,
       "version_minor": 0
      },
      "text/plain": [
       "Downloading artifacts:   0%|          | 0/7 [00:00<?, ?it/s]"
      ]
     },
     "metadata": {},
     "output_type": "display_data"
    },
    {
     "name": "stderr",
     "output_type": "stream",
     "text": [
      "c:\\Users\\prisc\\apps\\nyc-taxi-predictions-2025\\.venv\\Lib\\site-packages\\mlflow\\xgboost\\__init__.py:321: UserWarning: [21:47:12] WARNING: C:\\actions-runner\\_work\\xgboost\\xgboost\\src\\c_api\\c_api.cc:1511: Unknown file format: `xgb`. Using UBJSON (`ubj`) as a guess.\n",
      "  model.load_model(xgb_model_path)\n",
      "[I 2025-10-28 21:47:16,190] Trial 8 finished with value: 5.372302733772477 and parameters: {'max_depth': 15, 'learning_rate': 0.21992487468175848, 'reg_alpha': 0.007731550026907306, 'reg_lambda': 0.23377457337376373, 'min_child_weight': 1.0357439143907545}. Best is trial 4 with value: 5.350864717798953.\n"
     ]
    },
    {
     "name": "stdout",
     "output_type": "stream",
     "text": [
      "🏃 View run dazzling-fox-511 at: https://dbc-35a009eb-7ad0.cloud.databricks.com/ml/experiments/3999049734856042/runs/5b83d3d44e4549fd8c878ac8ce1f5e35\n",
      "🧪 View experiment at: https://dbc-35a009eb-7ad0.cloud.databricks.com/ml/experiments/3999049734856042\n",
      "[0]\tvalidation-rmse:8.39575\n",
      "[1]\tvalidation-rmse:7.81543\n",
      "[2]\tvalidation-rmse:7.34295\n",
      "[3]\tvalidation-rmse:6.94812\n",
      "[4]\tvalidation-rmse:6.64996\n",
      "[5]\tvalidation-rmse:6.40028\n",
      "[6]\tvalidation-rmse:6.20838\n",
      "[7]\tvalidation-rmse:6.04823\n",
      "[8]\tvalidation-rmse:5.93009\n",
      "[9]\tvalidation-rmse:5.83558\n",
      "[10]\tvalidation-rmse:5.75569\n",
      "[11]\tvalidation-rmse:5.69848\n",
      "[12]\tvalidation-rmse:5.65635\n",
      "[13]\tvalidation-rmse:5.61594\n",
      "[14]\tvalidation-rmse:5.59049\n",
      "[15]\tvalidation-rmse:5.56877\n",
      "[16]\tvalidation-rmse:5.55140\n",
      "[17]\tvalidation-rmse:5.53337\n",
      "[18]\tvalidation-rmse:5.52224\n",
      "[19]\tvalidation-rmse:5.51339\n",
      "[20]\tvalidation-rmse:5.50408\n",
      "[21]\tvalidation-rmse:5.50166\n",
      "[22]\tvalidation-rmse:5.49717\n",
      "[23]\tvalidation-rmse:5.48976\n",
      "[24]\tvalidation-rmse:5.48665\n",
      "[25]\tvalidation-rmse:5.48327\n",
      "[26]\tvalidation-rmse:5.48121\n",
      "[27]\tvalidation-rmse:5.47955\n",
      "[28]\tvalidation-rmse:5.47675\n",
      "[29]\tvalidation-rmse:5.47416\n",
      "[30]\tvalidation-rmse:5.47373\n",
      "[31]\tvalidation-rmse:5.47251\n",
      "[32]\tvalidation-rmse:5.47141\n",
      "[33]\tvalidation-rmse:5.47036\n",
      "[34]\tvalidation-rmse:5.46858\n",
      "[35]\tvalidation-rmse:5.46657\n",
      "[36]\tvalidation-rmse:5.46628\n",
      "[37]\tvalidation-rmse:5.46591\n",
      "[38]\tvalidation-rmse:5.46513\n",
      "[39]\tvalidation-rmse:5.46433\n",
      "[40]\tvalidation-rmse:5.46405\n",
      "[41]\tvalidation-rmse:5.46339\n",
      "[42]\tvalidation-rmse:5.46372\n",
      "[43]\tvalidation-rmse:5.46279\n",
      "[44]\tvalidation-rmse:5.46191\n",
      "[45]\tvalidation-rmse:5.46209\n",
      "[46]\tvalidation-rmse:5.46141\n",
      "[47]\tvalidation-rmse:5.46084\n",
      "[48]\tvalidation-rmse:5.46062\n",
      "[49]\tvalidation-rmse:5.46022\n",
      "[50]\tvalidation-rmse:5.46068\n",
      "[51]\tvalidation-rmse:5.46031\n",
      "[52]\tvalidation-rmse:5.46064\n",
      "[53]\tvalidation-rmse:5.46123\n",
      "[54]\tvalidation-rmse:5.46040\n",
      "[55]\tvalidation-rmse:5.46039\n",
      "[56]\tvalidation-rmse:5.46014\n",
      "[57]\tvalidation-rmse:5.45949\n",
      "[58]\tvalidation-rmse:5.45966\n",
      "[59]\tvalidation-rmse:5.45965\n",
      "[60]\tvalidation-rmse:5.45990\n",
      "[61]\tvalidation-rmse:5.46062\n",
      "[62]\tvalidation-rmse:5.46079\n",
      "[63]\tvalidation-rmse:5.46063\n",
      "[64]\tvalidation-rmse:5.46047\n",
      "[65]\tvalidation-rmse:5.45967\n",
      "[66]\tvalidation-rmse:5.46016\n"
     ]
    },
    {
     "name": "stderr",
     "output_type": "stream",
     "text": [
      "c:\\Users\\prisc\\apps\\nyc-taxi-predictions-2025\\.venv\\Lib\\site-packages\\mlflow\\xgboost\\__init__.py:169: UserWarning: [21:48:48] WARNING: C:\\actions-runner\\_work\\xgboost\\xgboost\\src\\c_api\\c_api.cc:1575: Saving model in the UBJSON format as default.  You can use a file extension: `json` or `ubj` to choose between formats.\n",
      "  xgb_model.save_model(model_data_path)\n",
      "2025/10/28 21:49:00 WARNING mlflow.utils.environment: Failed to resolve installed pip version. ``pip`` will be added to conda.yaml environment spec without a version specifier.\n"
     ]
    },
    {
     "data": {
      "application/vnd.jupyter.widget-view+json": {
       "model_id": "9794125e15ca458d8e2d1cd57ae066d0",
       "version_major": 2,
       "version_minor": 0
      },
      "text/plain": [
       "Downloading artifacts:   0%|          | 0/7 [00:00<?, ?it/s]"
      ]
     },
     "metadata": {},
     "output_type": "display_data"
    },
    {
     "name": "stderr",
     "output_type": "stream",
     "text": [
      "c:\\Users\\prisc\\apps\\nyc-taxi-predictions-2025\\.venv\\Lib\\site-packages\\mlflow\\xgboost\\__init__.py:321: UserWarning: [21:49:00] WARNING: C:\\actions-runner\\_work\\xgboost\\xgboost\\src\\c_api\\c_api.cc:1511: Unknown file format: `xgb`. Using UBJSON (`ubj`) as a guess.\n",
      "  model.load_model(xgb_model_path)\n",
      "[I 2025-10-28 21:49:15,162] Trial 9 finished with value: 5.460277869585555 and parameters: {'max_depth': 68, 'learning_rate': 0.1268351874747755, 'reg_alpha': 0.05394836382863035, 'reg_lambda': 0.03814164293595655, 'min_child_weight': 0.7706028272535065}. Best is trial 4 with value: 5.350864717798953.\n"
     ]
    },
    {
     "name": "stdout",
     "output_type": "stream",
     "text": [
      "🏃 View run likeable-boar-889 at: https://dbc-35a009eb-7ad0.cloud.databricks.com/ml/experiments/3999049734856042/runs/5ed4949aba144c1cb8e4f76b06998993\n",
      "🧪 View experiment at: https://dbc-35a009eb-7ad0.cloud.databricks.com/ml/experiments/3999049734856042\n",
      "[0]\tvalidation-rmse:8.66900\n",
      "[1]\tvalidation-rmse:8.27724\n",
      "[2]\tvalidation-rmse:7.92728\n",
      "[3]\tvalidation-rmse:7.61583\n",
      "[4]\tvalidation-rmse:7.33855\n",
      "[5]\tvalidation-rmse:7.09228\n",
      "[6]\tvalidation-rmse:6.87486\n",
      "[7]\tvalidation-rmse:6.68312\n",
      "[8]\tvalidation-rmse:6.51512\n",
      "[9]\tvalidation-rmse:6.36795\n",
      "[10]\tvalidation-rmse:6.23874\n",
      "[11]\tvalidation-rmse:6.12574\n",
      "[12]\tvalidation-rmse:6.02624\n",
      "[13]\tvalidation-rmse:5.93991\n",
      "[14]\tvalidation-rmse:5.86418\n",
      "[15]\tvalidation-rmse:5.79827\n",
      "[16]\tvalidation-rmse:5.74190\n",
      "[17]\tvalidation-rmse:5.69254\n",
      "[18]\tvalidation-rmse:5.65012\n",
      "[19]\tvalidation-rmse:5.61385\n",
      "[20]\tvalidation-rmse:5.58229\n",
      "[21]\tvalidation-rmse:5.55495\n",
      "[22]\tvalidation-rmse:5.53061\n",
      "[23]\tvalidation-rmse:5.50968\n",
      "[24]\tvalidation-rmse:5.49174\n",
      "[25]\tvalidation-rmse:5.47625\n",
      "[26]\tvalidation-rmse:5.46293\n",
      "[27]\tvalidation-rmse:5.45068\n",
      "[28]\tvalidation-rmse:5.44037\n",
      "[29]\tvalidation-rmse:5.43148\n",
      "[30]\tvalidation-rmse:5.42348\n",
      "[31]\tvalidation-rmse:5.41718\n",
      "[32]\tvalidation-rmse:5.40972\n",
      "[33]\tvalidation-rmse:5.40425\n",
      "[34]\tvalidation-rmse:5.39884\n",
      "[35]\tvalidation-rmse:5.39446\n",
      "[36]\tvalidation-rmse:5.39115\n",
      "[37]\tvalidation-rmse:5.38790\n",
      "[38]\tvalidation-rmse:5.38495\n",
      "[39]\tvalidation-rmse:5.38249\n",
      "[40]\tvalidation-rmse:5.37939\n",
      "[41]\tvalidation-rmse:5.37726\n",
      "[42]\tvalidation-rmse:5.37453\n",
      "[43]\tvalidation-rmse:5.37184\n",
      "[44]\tvalidation-rmse:5.36972\n",
      "[45]\tvalidation-rmse:5.36778\n",
      "[46]\tvalidation-rmse:5.36666\n",
      "[47]\tvalidation-rmse:5.36546\n",
      "[48]\tvalidation-rmse:5.36427\n",
      "[49]\tvalidation-rmse:5.36316\n",
      "[50]\tvalidation-rmse:5.36250\n",
      "[51]\tvalidation-rmse:5.36177\n",
      "[52]\tvalidation-rmse:5.36116\n",
      "[53]\tvalidation-rmse:5.36076\n",
      "[54]\tvalidation-rmse:5.36048\n",
      "[55]\tvalidation-rmse:5.36018\n",
      "[56]\tvalidation-rmse:5.36005\n",
      "[57]\tvalidation-rmse:5.35995\n",
      "[58]\tvalidation-rmse:5.35934\n",
      "[59]\tvalidation-rmse:5.35885\n",
      "[60]\tvalidation-rmse:5.35877\n",
      "[61]\tvalidation-rmse:5.35852\n",
      "[62]\tvalidation-rmse:5.35861\n",
      "[63]\tvalidation-rmse:5.35817\n",
      "[64]\tvalidation-rmse:5.35776\n",
      "[65]\tvalidation-rmse:5.35742\n",
      "[66]\tvalidation-rmse:5.35699\n",
      "[67]\tvalidation-rmse:5.35684\n",
      "[68]\tvalidation-rmse:5.35668\n",
      "[69]\tvalidation-rmse:5.35647\n",
      "[70]\tvalidation-rmse:5.35624\n",
      "[71]\tvalidation-rmse:5.35617\n",
      "[72]\tvalidation-rmse:5.35613\n",
      "[73]\tvalidation-rmse:5.35594\n",
      "[74]\tvalidation-rmse:5.35582\n",
      "[75]\tvalidation-rmse:5.35550\n",
      "[76]\tvalidation-rmse:5.35578\n",
      "[77]\tvalidation-rmse:5.35516\n",
      "[78]\tvalidation-rmse:5.35482\n",
      "[79]\tvalidation-rmse:5.35434\n",
      "[80]\tvalidation-rmse:5.35433\n",
      "[81]\tvalidation-rmse:5.35402\n",
      "[82]\tvalidation-rmse:5.35411\n",
      "[83]\tvalidation-rmse:5.35357\n",
      "[84]\tvalidation-rmse:5.35325\n",
      "[85]\tvalidation-rmse:5.35323\n",
      "[86]\tvalidation-rmse:5.35261\n",
      "[87]\tvalidation-rmse:5.35250\n",
      "[88]\tvalidation-rmse:5.35245\n",
      "[89]\tvalidation-rmse:5.35210\n",
      "[90]\tvalidation-rmse:5.35205\n",
      "[91]\tvalidation-rmse:5.35183\n",
      "[92]\tvalidation-rmse:5.35168\n",
      "[93]\tvalidation-rmse:5.35156\n",
      "[94]\tvalidation-rmse:5.35159\n",
      "[95]\tvalidation-rmse:5.35149\n",
      "[96]\tvalidation-rmse:5.35068\n",
      "[97]\tvalidation-rmse:5.35090\n",
      "[98]\tvalidation-rmse:5.35096\n",
      "[99]\tvalidation-rmse:5.35086\n"
     ]
    },
    {
     "name": "stderr",
     "output_type": "stream",
     "text": [
      "c:\\Users\\prisc\\apps\\nyc-taxi-predictions-2025\\.venv\\Lib\\site-packages\\mlflow\\xgboost\\__init__.py:169: UserWarning: [21:50:34] WARNING: C:\\actions-runner\\_work\\xgboost\\xgboost\\src\\c_api\\c_api.cc:1575: Saving model in the UBJSON format as default.  You can use a file extension: `json` or `ubj` to choose between formats.\n",
      "  xgb_model.save_model(model_data_path)\n",
      "2025/10/28 21:50:48 WARNING mlflow.utils.environment: Failed to resolve installed pip version. ``pip`` will be added to conda.yaml environment spec without a version specifier.\n"
     ]
    },
    {
     "data": {
      "application/vnd.jupyter.widget-view+json": {
       "model_id": "8e27a989a2d14f038b022929b07fadce",
       "version_major": 2,
       "version_minor": 0
      },
      "text/plain": [
       "Downloading artifacts:   0%|          | 0/7 [00:00<?, ?it/s]"
      ]
     },
     "metadata": {},
     "output_type": "display_data"
    },
    {
     "name": "stderr",
     "output_type": "stream",
     "text": [
      "c:\\Users\\prisc\\apps\\nyc-taxi-predictions-2025\\.venv\\Lib\\site-packages\\mlflow\\xgboost\\__init__.py:321: UserWarning: [21:50:49] WARNING: C:\\actions-runner\\_work\\xgboost\\xgboost\\src\\c_api\\c_api.cc:1511: Unknown file format: `xgb`. Using UBJSON (`ubj`) as a guess.\n",
      "  model.load_model(xgb_model_path)\n"
     ]
    },
    {
     "name": "stdout",
     "output_type": "stream",
     "text": [
      "🏃 View run XGBoost Hyperparameter Optimization (Optuna) at: https://dbc-35a009eb-7ad0.cloud.databricks.com/ml/experiments/3999049734856042/runs/1c88711fc4ae4d0db27b73ef9f0f68ea\n",
      "🧪 View experiment at: https://dbc-35a009eb-7ad0.cloud.databricks.com/ml/experiments/3999049734856042\n"
     ]
    }
   ],
   "source": [
    "mlflow.xgboost.autolog(log_models=False)\n",
    "\n",
    "# ------------------------------------------------------------\n",
    "# Crear el estudio de Optuna\n",
    "#    - Usamos TPE (Tree-structured Parzen Estimator) como sampler.\n",
    "#    - direction=\"minimize\" porque queremos minimizar el RMSE.\n",
    "# ------------------------------------------------------------\n",
    "sampler = TPESampler(seed=42)\n",
    "study = optuna.create_study(direction=\"minimize\", sampler=sampler)\n",
    "\n",
    "# ------------------------------------------------------------\n",
    "# Ejecutar la optimización (n_trials = número de intentos)\n",
    "#    - Cada trial ejecuta la función objetivo con un set distinto de hiperparámetros.\n",
    "#    - Abrimos un run \"padre\" para agrupar toda la búsqueda.\n",
    "# ------------------------------------------------------------\n",
    "with mlflow.start_run(run_name=\"XGBoost Hyperparameter Optimization (Optuna)\", nested=True):\n",
    "    study.optimize(objective, n_trials=10)\n",
    "\n",
    "    # --------------------------------------------------------\n",
    "    # Recuperar y registrar los mejores hiperparámetros\n",
    "    # --------------------------------------------------------\n",
    "    best_params = study.best_params\n",
    "    # Asegurar tipos/campos fijos (por claridad y consistencia)\n",
    "    best_params[\"max_depth\"] = int(best_params[\"max_depth\"])\n",
    "    best_params[\"seed\"] = 42\n",
    "    best_params[\"objective\"] = \"reg:squarederror\"\n",
    "\n",
    "    mlflow.log_params(best_params)\n",
    "\n",
    "    # Etiquetas del run \"padre\" (metadatos del experimento)\n",
    "    mlflow.set_tags({\n",
    "        \"project\": \"NYC Taxi Time Prediction Project\",\n",
    "        \"optimizer_engine\": \"optuna\",\n",
    "        \"model_family\": \"xgboost\",\n",
    "        \"feature_set_version\": 1,\n",
    "    })\n",
    "\n",
    "    # --------------------------------------------------------\n",
    "    # 7) Entrenar un modelo FINAL con los mejores hiperparámetros\n",
    "    #    (normalmente se haría sobre train+val o con CV; aquí mantenemos el patrón original)\n",
    "    # --------------------------------------------------------\n",
    "    booster = xgb.train(\n",
    "        params=best_params,\n",
    "        dtrain=train,\n",
    "        num_boost_round=100,\n",
    "        evals=[(valid, \"validation\")],\n",
    "        early_stopping_rounds=10,\n",
    "    )\n",
    "\n",
    "    # Evaluar y registrar la métrica final en validación\n",
    "    y_pred = booster.predict(valid)\n",
    "    rmse = root_mean_squared_error(y_val, y_pred)\n",
    "    mlflow.log_metric(\"rmse\", rmse)\n",
    "\n",
    "    # --------------------------------------------------------\n",
    "    # 8) Guardar artefactos adicionales (p. ej. el preprocesador)\n",
    "    # --------------------------------------------------------\n",
    "    pathlib.Path(\"preprocessor\").mkdir(exist_ok=True)\n",
    "    with open(\"preprocessor/preprocessor.b\", \"wb\") as f_out:\n",
    "        pickle.dump(dv, f_out)\n",
    "\n",
    "    mlflow.log_artifact(\"preprocessor/preprocessor.b\", artifact_path=\"preprocessor\")\n",
    "\n",
    "    # La \"signature\" describe la estructura esperada de entrada y salida del modelo:\n",
    "    # incluye los nombres, tipos y forma (shape) de las variables de entrada y el tipo de salida.\n",
    "    # MLflow la usa para validar datos en inferencia y documentar el modelo en el Model Registry.\n",
    "    # Si X_val es la matriz dispersa (scipy.sparse) salida de DictVectorizer:\n",
    "    feature_names = dv.get_feature_names_out()\n",
    "    input_example = pd.DataFrame(X_val[:5].toarray(), columns=feature_names)\n",
    "\n",
    "    # Para que las longitudes coincidan, usa el mismo slice en y_pred\n",
    "    signature = infer_signature(input_example, y_val[:5])\n",
    "\n",
    "    # Guardar el modelo del trial como artefacto en MLflow.\n",
    "    mlflow.xgboost.log_model(\n",
    "        booster,\n",
    "        name=\"model\",\n",
    "        input_example=input_example,\n",
    "        signature=signature\n",
    "    )"
   ]
  },
  {
   "cell_type": "markdown",
   "id": "9dfd996a",
   "metadata": {},
   "source": [
    "## Registrar modelo en 'Model Registry'"
   ]
  },
  {
   "cell_type": "markdown",
   "id": "8c4f3cf7",
   "metadata": {},
   "source": [
    "### Método 1: Manual"
   ]
  },
  {
   "cell_type": "code",
   "execution_count": 87,
   "id": "4bda565e",
   "metadata": {},
   "outputs": [],
   "source": [
    "model_name = \"workspace.default.nyc-taxi-model\""
   ]
  },
  {
   "cell_type": "code",
   "execution_count": 90,
   "id": "bae1e6f9",
   "metadata": {},
   "outputs": [
    {
     "name": "stderr",
     "output_type": "stream",
     "text": [
      "Registered model 'workspace.default.nyc-taxi-model' already exists. Creating a new version of this model...\n",
      "2025/10/28 21:51:58 WARNING mlflow.tracking._model_registry.fluent: Run with id b1e94feef25e4e2fa49cc01e302b3efb has no artifacts at artifact path 'model', registering model based on models:/m-5746a243e69c4ab996b82f3d19df9f3e instead\n"
     ]
    },
    {
     "data": {
      "application/vnd.jupyter.widget-view+json": {
       "model_id": "e762d52576f54358b4bafaebb949b8cd",
       "version_major": 2,
       "version_minor": 0
      },
      "text/plain": [
       "Downloading artifacts:   0%|          | 0/7 [00:00<?, ?it/s]"
      ]
     },
     "metadata": {},
     "output_type": "display_data"
    },
    {
     "data": {
      "application/vnd.jupyter.widget-view+json": {
       "model_id": "28d8021a23564393a5b9782d36b72b87",
       "version_major": 2,
       "version_minor": 0
      },
      "text/plain": [
       "Uploading artifacts:   0%|          | 0/8 [00:00<?, ?it/s]"
      ]
     },
     "metadata": {},
     "output_type": "display_data"
    },
    {
     "name": "stderr",
     "output_type": "stream",
     "text": [
      "Created version '11' of model 'workspace.default.nyc-taxi-model'.\n"
     ]
    }
   ],
   "source": [
    "run_id = input(\"Ingrese el run_id\")\n",
    "run_uri = f\"runs:/{run_id}/model\"\n",
    "\n",
    "result = mlflow.register_model(\n",
    "    model_uri=run_uri,\n",
    "    name=\"workspace.default.nyc-taxi-model\"\n",
    ")"
   ]
  },
  {
   "cell_type": "markdown",
   "id": "dfa1dbcc",
   "metadata": {},
   "source": [
    "### Método 2: Automático"
   ]
  },
  {
   "cell_type": "code",
   "execution_count": 89,
   "id": "c1ad38f1",
   "metadata": {},
   "outputs": [
    {
     "name": "stdout",
     "output_type": "stream",
     "text": [
      "🏆 Champion Run encontrado:\n",
      "Run ID: b1e94feef25e4e2fa49cc01e302b3efb\n",
      "RMSE: 5.350864717798953\n",
      "Params: {'custom_metric': 'None', 'early_stopping_rounds': '10', 'learning_rate': '0.07565903471570516', 'max_depth': '63', 'maximize': 'None', 'min_child_weight': '2.2802382585441565', 'num_boost_round': '100', 'objective': 'reg:squarederror', 'reg_alpha': '0.021678779375600917', 'reg_lambda': '0.015480241912324163', 'seed': '42', 'verbose_eval': 'True'}\n"
     ]
    }
   ],
   "source": [
    "runs = mlflow.search_runs(\n",
    "    experiment_names=[EXPERIMENT_NAME],\n",
    "    order_by=[\"metrics.rmse ASC\"],\n",
    "    output_format=\"list\"\n",
    ")\n",
    "\n",
    "# Obtener el mejor run\n",
    "if len(runs) > 0:\n",
    "    best_run = runs[0]\n",
    "    print(\"🏆 Champion Run encontrado:\")\n",
    "    print(f\"Run ID: {best_run.info.run_id}\")\n",
    "    print(f\"RMSE: {best_run.data.metrics['rmse']}\")\n",
    "    print(f\"Params: {best_run.data.params}\")\n",
    "else:\n",
    "    print(\"⚠️ No se encontraron runs con métrica RMSE.\")"
   ]
  },
  {
   "cell_type": "code",
   "execution_count": 91,
   "id": "10ca28ac",
   "metadata": {},
   "outputs": [],
   "source": [
    "run_id = best_run.info.run_id"
   ]
  },
  {
   "cell_type": "code",
   "execution_count": 92,
   "id": "b9be3da7",
   "metadata": {},
   "outputs": [
    {
     "name": "stderr",
     "output_type": "stream",
     "text": [
      "Registered model 'workspace.default.nyc-taxi-model' already exists. Creating a new version of this model...\n",
      "2025/10/28 21:52:25 WARNING mlflow.tracking._model_registry.fluent: Run with id b1e94feef25e4e2fa49cc01e302b3efb has no artifacts at artifact path 'model', registering model based on models:/m-5746a243e69c4ab996b82f3d19df9f3e instead\n"
     ]
    },
    {
     "data": {
      "application/vnd.jupyter.widget-view+json": {
       "model_id": "c34c98069f934c3db07beb44fbd5f216",
       "version_major": 2,
       "version_minor": 0
      },
      "text/plain": [
       "Downloading artifacts:   0%|          | 0/7 [00:00<?, ?it/s]"
      ]
     },
     "metadata": {},
     "output_type": "display_data"
    },
    {
     "data": {
      "application/vnd.jupyter.widget-view+json": {
       "model_id": "feb15f26199441348c48b05802001874",
       "version_major": 2,
       "version_minor": 0
      },
      "text/plain": [
       "Uploading artifacts:   0%|          | 0/8 [00:00<?, ?it/s]"
      ]
     },
     "metadata": {},
     "output_type": "display_data"
    },
    {
     "name": "stderr",
     "output_type": "stream",
     "text": [
      "Created version '12' of model 'workspace.default.nyc-taxi-model'.\n"
     ]
    }
   ],
   "source": [
    "result = mlflow.register_model(\n",
    "    model_uri=f\"runs:/{best_run.info.run_id}/model\",\n",
    "    name=model_name\n",
    ")"
   ]
  },
  {
   "cell_type": "markdown",
   "id": "d99680ac",
   "metadata": {},
   "source": [
    "## Asignar alias"
   ]
  },
  {
   "cell_type": "code",
   "execution_count": 93,
   "id": "caad8898",
   "metadata": {},
   "outputs": [],
   "source": [
    "from mlflow import MlflowClient\n",
    "\n",
    "client = MlflowClient()"
   ]
  },
  {
   "cell_type": "code",
   "execution_count": 94,
   "id": "581eb851",
   "metadata": {},
   "outputs": [],
   "source": [
    "model_version = result.version\n",
    "new_alias = \"Champion\"\n",
    "\n",
    "client.set_registered_model_alias(\n",
    "    name=model_name,\n",
    "    alias=new_alias,\n",
    "    version=result.version\n",
    ")"
   ]
  },
  {
   "cell_type": "code",
   "execution_count": 95,
   "id": "49b42955",
   "metadata": {},
   "outputs": [
    {
     "data": {
      "text/plain": [
       "<ModelVersion: aliases=[], creation_timestamp=1761709949240, current_stage=None, deployment_job_state=<ModelVersionDeploymentJobState: current_task_name='', job_id='', job_state='DEPLOYMENT_JOB_CONNECTION_STATE_UNSPECIFIED', run_id='', run_state='DEPLOYMENT_JOB_RUN_STATE_UNSPECIFIED'>, description=('The model version 12 was transitioned to Champion on 2025-10-28 '\n",
       " '21:53:19.804600'), last_updated_timestamp=1761709996374, metrics=[<Metric: dataset_digest='', dataset_name='', key='best_iteration', model_id='m-5746a243e69c4ab996b82f3d19df9f3e', run_id='b1e94feef25e4e2fa49cc01e302b3efb', step=0, timestamp=1761709214676, value=96.0>,\n",
       " <Metric: dataset_digest='', dataset_name='', key='rmse', model_id='m-5746a243e69c4ab996b82f3d19df9f3e', run_id='b1e94feef25e4e2fa49cc01e302b3efb', step=0, timestamp=1761709232081, value=5.350864717798953>,\n",
       " <Metric: dataset_digest='', dataset_name='', key='stopped_iteration', model_id='m-5746a243e69c4ab996b82f3d19df9f3e', run_id='b1e94feef25e4e2fa49cc01e302b3efb', step=0, timestamp=1761709214676, value=99.0>,\n",
       " <Metric: dataset_digest='', dataset_name='', key='validation-rmse', model_id='m-5746a243e69c4ab996b82f3d19df9f3e', run_id='b1e94feef25e4e2fa49cc01e302b3efb', step=0, timestamp=1761709168494, value=8.668996488803653>], model_id='m-5746a243e69c4ab996b82f3d19df9f3e', name='workspace.default.nyc-taxi-model', params=[<LoggedModelParameter: key='maximize', value='None'>,\n",
       " <LoggedModelParameter: key='learning_rate', value='0.07565903471570516'>,\n",
       " <LoggedModelParameter: key='min_child_weight', value='2.2802382585441565'>,\n",
       " <LoggedModelParameter: key='max_depth', value='63'>,\n",
       " <LoggedModelParameter: key='num_boost_round', value='100'>,\n",
       " <LoggedModelParameter: key='objective', value='reg:squarederror'>,\n",
       " <LoggedModelParameter: key='custom_metric', value='None'>,\n",
       " <LoggedModelParameter: key='reg_alpha', value='0.021678779375600917'>,\n",
       " <LoggedModelParameter: key='seed', value='42'>,\n",
       " <LoggedModelParameter: key='early_stopping_rounds', value='10'>,\n",
       " <LoggedModelParameter: key='reg_lambda', value='0.015480241912324163'>,\n",
       " <LoggedModelParameter: key='verbose_eval', value='True'>], run_id='b1e94feef25e4e2fa49cc01e302b3efb', run_link=None, source='models:/m-5746a243e69c4ab996b82f3d19df9f3e', status='READY', status_message='', tags={}, user_id='priscila.cervantes@iteso.mx', version='12'>"
      ]
     },
     "execution_count": 95,
     "metadata": {},
     "output_type": "execute_result"
    }
   ],
   "source": [
    "from datetime import datetime\n",
    "\n",
    "date = datetime.today()\n",
    "\n",
    "client.update_model_version(\n",
    "    name=model_name,\n",
    "    version=model_version,\n",
    "    description=f\"The model version {model_version} was transitioned to {new_alias} on {date}\",\n",
    ")"
   ]
  },
  {
   "cell_type": "markdown",
   "id": "9eae07b6",
   "metadata": {},
   "source": [
    "## Obteniendo modelos de model registry"
   ]
  },
  {
   "cell_type": "code",
   "execution_count": 96,
   "id": "e257898d",
   "metadata": {},
   "outputs": [
    {
     "data": {
      "application/vnd.jupyter.widget-view+json": {
       "model_id": "52cd412048084d5eb08b12f8c949cac9",
       "version_major": 2,
       "version_minor": 0
      },
      "text/plain": [
       "Downloading artifacts:   0%|          | 0/8 [00:00<?, ?it/s]"
      ]
     },
     "metadata": {},
     "output_type": "display_data"
    },
    {
     "name": "stderr",
     "output_type": "stream",
     "text": [
      "c:\\Users\\prisc\\apps\\nyc-taxi-predictions-2025\\.venv\\Lib\\site-packages\\mlflow\\xgboost\\__init__.py:321: UserWarning: [21:53:33] WARNING: C:\\actions-runner\\_work\\xgboost\\xgboost\\src\\c_api\\c_api.cc:1511: Unknown file format: `xgb`. Using UBJSON (`ubj`) as a guess.\n",
      "  model.load_model(xgb_model_path)\n"
     ]
    },
    {
     "data": {
      "text/plain": [
       "array([ 5.711086, 26.219116, 28.056229, ..., 21.681288, 15.960737,\n",
       "       22.701014], shape=(44218,), dtype=float32)"
      ]
     },
     "execution_count": 96,
     "metadata": {},
     "output_type": "execute_result"
    }
   ],
   "source": [
    "import mlflow.pyfunc\n",
    "\n",
    "model_version_uri = f\"models:/{model_name}@Champion\"\n",
    "\n",
    "champion_version = mlflow.pyfunc.load_model(model_version_uri)\n",
    "champion_version.predict(X_val)"
   ]
  }
 ],
 "metadata": {
  "kernelspec": {
   "display_name": "nyc-taxi-predictions-2025 (3.11.13)",
   "language": "python",
   "name": "python3"
  },
  "language_info": {
   "codemirror_mode": {
    "name": "ipython",
    "version": 3
   },
   "file_extension": ".py",
   "mimetype": "text/x-python",
   "name": "python",
   "nbconvert_exporter": "python",
   "pygments_lexer": "ipython3",
   "version": "3.11.13"
  }
 },
 "nbformat": 4,
 "nbformat_minor": 5
}
