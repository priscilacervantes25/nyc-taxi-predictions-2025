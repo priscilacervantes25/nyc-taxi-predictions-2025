{
 "cells": [
  {
   "cell_type": "code",
   "execution_count": 7,
   "id": "406d22a4",
   "metadata": {},
   "outputs": [
    {
     "name": "stderr",
     "output_type": "stream",
     "text": [
      "2025/10/21 20:45:49 INFO mlflow.tracking.fluent: Experiment with name '/Users/priscila.cervantes@iteso.mx/nyc-taxi-experiments' does not exist. Creating a new experiment.\n"
     ]
    }
   ],
   "source": [
    "import os, mlflow\n",
    "from dotenv import load_dotenv\n",
    "\n",
    "load_dotenv(override=True)  # Carga las variables del archivo .env\n",
    "EXPERIMENT_NAME = \"/Users/priscila.cervantes@iteso.mx/nyc-taxi-experiments\"\n",
    "\n",
    "mlflow.set_tracking_uri(\"databricks\")\n",
    "experiment = mlflow.set_experiment(experiment_name=EXPERIMENT_NAME)"
   ]
  },
  {
   "cell_type": "markdown",
   "id": "62a02584",
   "metadata": {},
   "source": [
    "## Train Model"
   ]
  },
  {
   "cell_type": "code",
   "execution_count": 8,
   "id": "eb02230c",
   "metadata": {},
   "outputs": [],
   "source": [
    "import pickle\n",
    "import pandas as pd\n",
    "from sklearn.metrics import  root_mean_squared_error\n",
    "from sklearn.feature_extraction import  DictVectorizer"
   ]
  },
  {
   "cell_type": "code",
   "execution_count": 9,
   "id": "fda5e67b",
   "metadata": {},
   "outputs": [],
   "source": [
    "def read_dataframe(filename):\n",
    "\n",
    "    df = pd.read_parquet(filename)\n",
    "\n",
    "    df['duration'] = df.lpep_dropoff_datetime - df.lpep_pickup_datetime\n",
    "    df.duration = df.duration.apply(lambda td: td.total_seconds() / 60)\n",
    "\n",
    "    df = df[(df.duration >= 1) & (df.duration <= 60)]\n",
    "\n",
    "    categorical = ['PULocationID', 'DOLocationID']\n",
    "    df[categorical] = df[categorical].astype(str)\n",
    "\n",
    "    return df"
   ]
  },
  {
   "cell_type": "code",
   "execution_count": 13,
   "id": "49c3adf7",
   "metadata": {},
   "outputs": [],
   "source": [
    "df_train = read_dataframe('C:/Users/prisc/apps/nyc-taxi-predictions-2025/data/green_tripdata_2025-01.parquet')\n",
    "df_val = read_dataframe('C:/Users/prisc/apps/nyc-taxi-predictions-2025/data/green_tripdata_2025-02.parquet')"
   ]
  },
  {
   "cell_type": "code",
   "execution_count": 14,
   "id": "952e8da4",
   "metadata": {},
   "outputs": [],
   "source": [
    "def preprocess(df, dv):\n",
    "    df['PU_DO'] = df['PULocationID'] + '_' + df['DOLocationID']\n",
    "    categorical = ['PU_DO']\n",
    "    numerical = ['trip_distance']\n",
    "    train_dicts = df[categorical + numerical].to_dict(orient='records')\n",
    "    return dv.transform(train_dicts)"
   ]
  },
  {
   "cell_type": "code",
   "execution_count": 15,
   "id": "144ac4cb",
   "metadata": {},
   "outputs": [],
   "source": [
    "categorical = ['PULocationID', 'DOLocationID']\n",
    "numerical = ['trip_distance']\n",
    "dv = DictVectorizer()\n",
    "\n",
    "train_dicts = df_train[categorical + numerical].to_dict(orient='records')\n",
    "X_train = dv.fit_transform(train_dicts)\n",
    "\n",
    "X_val = preprocess(df_val, dv)"
   ]
  },
  {
   "cell_type": "code",
   "execution_count": 16,
   "id": "4d6bc016",
   "metadata": {},
   "outputs": [],
   "source": [
    "target = 'duration'\n",
    "y_train = df_train[target].values\n",
    "y_val = df_val[target].values"
   ]
  },
  {
   "cell_type": "code",
   "execution_count": 17,
   "id": "29e4977e",
   "metadata": {},
   "outputs": [],
   "source": [
    "training_dataset = mlflow.data.from_numpy(X_train.data, targets=y_train, name=\"green_tripdata_2025-01\")\n",
    "validation_dataset = mlflow.data.from_numpy(X_val.data, targets=y_val, name=\"green_tripdata_2025-02\")"
   ]
  },
  {
   "cell_type": "markdown",
   "id": "9ffb2944",
   "metadata": {},
   "source": [
    "## Optimización de hiperparámetros usando Optuna"
   ]
  },
  {
   "cell_type": "code",
   "execution_count": 18,
   "id": "9327773d",
   "metadata": {},
   "outputs": [],
   "source": [
    "import math\n",
    "import optuna\n",
    "import pathlib\n",
    "import xgboost as xgb\n",
    "from optuna.samplers import TPESampler\n",
    "from mlflow.models.signature import infer_signature"
   ]
  },
  {
   "cell_type": "code",
   "execution_count": 19,
   "id": "e1aba777",
   "metadata": {},
   "outputs": [],
   "source": [
    "train = xgb.DMatrix(X_train, label=y_train)\n",
    "valid = xgb.DMatrix(X_val, label=y_val)"
   ]
  },
  {
   "cell_type": "markdown",
   "id": "77bbc7a0",
   "metadata": {},
   "source": [
    "## Función objetivo"
   ]
  },
  {
   "cell_type": "code",
   "execution_count": 20,
   "id": "5da86869",
   "metadata": {},
   "outputs": [],
   "source": [
    "# ------------------------------------------------------------\n",
    "# Definir la función objetivo para Optuna\n",
    "#    - Recibe un `trial`, que se usa para proponer hiperparámetros.\n",
    "#    - Entrena un modelo con esos hiperparámetros.\n",
    "#    - Calcula la métrica de validación (RMSE) y la retorna (Optuna la minimizará).\n",
    "#    - Abrimos un run anidado de MLflow para registrar cada trial.\n",
    "# ------------------------------------------------------------\n",
    "def objective(trial: optuna.trial.Trial):\n",
    "    # Hiperparámetros MUESTREADOS por Optuna en CADA trial.\n",
    "    # Nota: usamos log=True para emular rangos log-uniformes (similar a loguniform).\n",
    "    params = {\n",
    "        \"max_depth\": trial.suggest_int(\"max_depth\", 4, 100),\n",
    "        \"learning_rate\": trial.suggest_float(\"learning_rate\", math.exp(-3), 1.0, log=True),\n",
    "        \"reg_alpha\": trial.suggest_float(\"reg_alpha\",   math.exp(-5), math.exp(-1), log=True),\n",
    "        \"reg_lambda\": trial.suggest_float(\"reg_lambda\", math.exp(-6), math.exp(-1), log=True),\n",
    "        \"min_child_weight\": trial.suggest_float(\"min_child_weight\", math.exp(-1), math.exp(3), log=True),\n",
    "        \"objective\": \"reg:squarederror\",  \n",
    "        \"seed\": 42,                      \n",
    "    }\n",
    "\n",
    "    # Run anidado para dejar rastro de cada trial en MLflow\n",
    "    with mlflow.start_run(nested=True):\n",
    "        mlflow.set_tag(\"model_family\", \"xgboost\")  # etiqueta informativa\n",
    "        mlflow.log_params(params)                  # registra hiperparámetros del trial\n",
    "\n",
    "        # Entrenamiento con early stopping en el conjunto de validación\n",
    "        booster = xgb.train(\n",
    "            params=params,\n",
    "            dtrain=train,\n",
    "            num_boost_round=100,\n",
    "            evals=[(valid, \"validation\")],\n",
    "            early_stopping_rounds=10,\n",
    "        )\n",
    "\n",
    "        # Predicción y métrica en validación\n",
    "        y_pred = booster.predict(valid)\n",
    "        rmse = root_mean_squared_error(y_val, y_pred)\n",
    "\n",
    "        # Registrar la métrica principal\n",
    "        mlflow.log_metric(\"rmse\", rmse)\n",
    "\n",
    "        # La \"signature\" describe la estructura esperada de entrada y salida del modelo:\n",
    "        # incluye los nombres, tipos y forma (shape) de las variables de entrada y el tipo de salida.\n",
    "        # MLflow la usa para validar datos en inferencia y documentar el modelo en el Model Registry.\n",
    "        signature = infer_signature(X_val, y_pred)\n",
    "\n",
    "        # Guardar el modelo del trial como artefacto en MLflow.\n",
    "        mlflow.xgboost.log_model(\n",
    "            booster,\n",
    "            name=\"model\",\n",
    "            input_example=X_val[:5],\n",
    "            signature=signature\n",
    "        )\n",
    "\n",
    "    # Optuna minimiza el valor retornado\n",
    "    return rmse"
   ]
  },
  {
   "cell_type": "markdown",
   "id": "840396f3",
   "metadata": {},
   "source": [
    "## Flujo de búsqueda"
   ]
  },
  {
   "cell_type": "code",
   "execution_count": 22,
   "id": "46659028",
   "metadata": {},
   "outputs": [
    {
     "name": "stderr",
     "output_type": "stream",
     "text": [
      "[I 2025-10-21 20:59:47,011] A new study created in memory with name: no-name-d0325820-9a0e-4eb7-9d23-2639e0b041f8\n"
     ]
    },
    {
     "name": "stdout",
     "output_type": "stream",
     "text": [
      "[0]\tvalidation-rmse:5.98960\n",
      "[1]\tvalidation-rmse:5.92413\n",
      "[2]\tvalidation-rmse:5.92287\n",
      "[3]\tvalidation-rmse:5.92324\n",
      "[4]\tvalidation-rmse:5.92483\n",
      "[5]\tvalidation-rmse:5.92489\n",
      "[6]\tvalidation-rmse:5.92498\n",
      "[7]\tvalidation-rmse:5.92343\n",
      "[8]\tvalidation-rmse:5.92347\n",
      "[9]\tvalidation-rmse:5.92467\n",
      "[10]\tvalidation-rmse:5.92456\n",
      "[11]\tvalidation-rmse:5.92460\n",
      "[12]\tvalidation-rmse:5.92458\n"
     ]
    },
    {
     "name": "stderr",
     "output_type": "stream",
     "text": [
      "c:\\Users\\prisc\\apps\\nyc-taxi-predictions-2025\\.venv\\Lib\\site-packages\\mlflow\\xgboost\\__init__.py:169: UserWarning: [20:59:56] WARNING: C:\\actions-runner\\_work\\xgboost\\xgboost\\src\\c_api\\c_api.cc:1575: Saving model in the UBJSON format as default.  You can use a file extension: `json` or `ubj` to choose between formats.\n",
      "  xgb_model.save_model(model_data_path)\n",
      "2025/10/21 21:00:01 WARNING mlflow.utils.environment: Failed to resolve installed pip version. ``pip`` will be added to conda.yaml environment spec without a version specifier.\n"
     ]
    },
    {
     "data": {
      "application/vnd.jupyter.widget-view+json": {
       "model_id": "3cc68f16d4e84bf1bbab8ffc3763e62f",
       "version_major": 2,
       "version_minor": 0
      },
      "text/plain": [
       "Downloading artifacts:   0%|          | 0/7 [00:00<?, ?it/s]"
      ]
     },
     "metadata": {},
     "output_type": "display_data"
    },
    {
     "name": "stderr",
     "output_type": "stream",
     "text": [
      "c:\\Users\\prisc\\apps\\nyc-taxi-predictions-2025\\.venv\\Lib\\site-packages\\mlflow\\xgboost\\__init__.py:321: UserWarning: [21:00:01] WARNING: C:\\actions-runner\\_work\\xgboost\\xgboost\\src\\c_api\\c_api.cc:1511: Unknown file format: `xgb`. Using UBJSON (`ubj`) as a guess.\n",
      "  model.load_model(xgb_model_path)\n",
      "[I 2025-10-21 21:00:05,676] Trial 0 finished with value: 5.924581902007077 and parameters: {'max_depth': 40, 'learning_rate': 0.8625543817410922, 'reg_alpha': 0.12593061066249622, 'reg_lambda': 0.049454235173237264, 'min_child_weight': 0.6866535292359801}. Best is trial 0 with value: 5.924581902007077.\n"
     ]
    },
    {
     "name": "stdout",
     "output_type": "stream",
     "text": [
      "🏃 View run omniscient-donkey-53 at: https://dbc-35a009eb-7ad0.cloud.databricks.com/ml/experiments/2168270428826736/runs/1810bfd389eb4cda8404f271e7bc536a\n",
      "🧪 View experiment at: https://dbc-35a009eb-7ad0.cloud.databricks.com/ml/experiments/2168270428826736\n",
      "[0]\tvalidation-rmse:8.79510\n",
      "[1]\tvalidation-rmse:8.50586\n",
      "[2]\tvalidation-rmse:8.24215\n",
      "[3]\tvalidation-rmse:8.00493\n",
      "[4]\tvalidation-rmse:7.78830\n",
      "[5]\tvalidation-rmse:7.59575\n",
      "[6]\tvalidation-rmse:7.41983\n",
      "[7]\tvalidation-rmse:7.26129\n",
      "[8]\tvalidation-rmse:7.11270\n",
      "[9]\tvalidation-rmse:6.98583\n",
      "[10]\tvalidation-rmse:6.87056\n",
      "[11]\tvalidation-rmse:6.76533\n",
      "[12]\tvalidation-rmse:6.67029\n",
      "[13]\tvalidation-rmse:6.58378\n",
      "[14]\tvalidation-rmse:6.50773\n",
      "[15]\tvalidation-rmse:6.43768\n",
      "[16]\tvalidation-rmse:6.37633\n",
      "[17]\tvalidation-rmse:6.32116\n",
      "[18]\tvalidation-rmse:6.27142\n",
      "[19]\tvalidation-rmse:6.22765\n",
      "[20]\tvalidation-rmse:6.18963\n",
      "[21]\tvalidation-rmse:6.15802\n",
      "[22]\tvalidation-rmse:6.12794\n",
      "[23]\tvalidation-rmse:6.10295\n",
      "[24]\tvalidation-rmse:6.07940\n",
      "[25]\tvalidation-rmse:6.05863\n",
      "[26]\tvalidation-rmse:6.04052\n",
      "[27]\tvalidation-rmse:6.02306\n",
      "[28]\tvalidation-rmse:6.00993\n",
      "[29]\tvalidation-rmse:5.99790\n",
      "[30]\tvalidation-rmse:5.98840\n",
      "[31]\tvalidation-rmse:5.97820\n",
      "[32]\tvalidation-rmse:5.97064\n",
      "[33]\tvalidation-rmse:5.96317\n",
      "[34]\tvalidation-rmse:5.95493\n",
      "[35]\tvalidation-rmse:5.95049\n",
      "[36]\tvalidation-rmse:5.94623\n",
      "[37]\tvalidation-rmse:5.94216\n",
      "[38]\tvalidation-rmse:5.93902\n",
      "[39]\tvalidation-rmse:5.93502\n",
      "[40]\tvalidation-rmse:5.93186\n",
      "[41]\tvalidation-rmse:5.92873\n",
      "[42]\tvalidation-rmse:5.92722\n",
      "[43]\tvalidation-rmse:5.92557\n",
      "[44]\tvalidation-rmse:5.92364\n",
      "[45]\tvalidation-rmse:5.92068\n",
      "[46]\tvalidation-rmse:5.91967\n",
      "[47]\tvalidation-rmse:5.91923\n",
      "[48]\tvalidation-rmse:5.91751\n",
      "[49]\tvalidation-rmse:5.91613\n",
      "[50]\tvalidation-rmse:5.91486\n",
      "[51]\tvalidation-rmse:5.91368\n",
      "[52]\tvalidation-rmse:5.91256\n",
      "[53]\tvalidation-rmse:5.91154\n",
      "[54]\tvalidation-rmse:5.91072\n",
      "[55]\tvalidation-rmse:5.90993\n",
      "[56]\tvalidation-rmse:5.90939\n",
      "[57]\tvalidation-rmse:5.90876\n",
      "[58]\tvalidation-rmse:5.90819\n",
      "[59]\tvalidation-rmse:5.90758\n",
      "[60]\tvalidation-rmse:5.90717\n",
      "[61]\tvalidation-rmse:5.90679\n",
      "[62]\tvalidation-rmse:5.90642\n",
      "[63]\tvalidation-rmse:5.90599\n",
      "[64]\tvalidation-rmse:5.90561\n",
      "[65]\tvalidation-rmse:5.90537\n",
      "[66]\tvalidation-rmse:5.90520\n",
      "[67]\tvalidation-rmse:5.90505\n",
      "[68]\tvalidation-rmse:5.90478\n",
      "[69]\tvalidation-rmse:5.90452\n",
      "[70]\tvalidation-rmse:5.90439\n",
      "[71]\tvalidation-rmse:5.90420\n",
      "[72]\tvalidation-rmse:5.90403\n",
      "[73]\tvalidation-rmse:5.90400\n",
      "[74]\tvalidation-rmse:5.90401\n",
      "[75]\tvalidation-rmse:5.90404\n",
      "[76]\tvalidation-rmse:5.90395\n",
      "[77]\tvalidation-rmse:5.90374\n",
      "[78]\tvalidation-rmse:5.90376\n",
      "[79]\tvalidation-rmse:5.90371\n",
      "[80]\tvalidation-rmse:5.90373\n",
      "[81]\tvalidation-rmse:5.90374\n",
      "[82]\tvalidation-rmse:5.90351\n",
      "[83]\tvalidation-rmse:5.90332\n",
      "[84]\tvalidation-rmse:5.90333\n",
      "[85]\tvalidation-rmse:5.90315\n",
      "[86]\tvalidation-rmse:5.90316\n",
      "[87]\tvalidation-rmse:5.90316\n",
      "[88]\tvalidation-rmse:5.90316\n",
      "[89]\tvalidation-rmse:5.90299\n",
      "[90]\tvalidation-rmse:5.90302\n",
      "[91]\tvalidation-rmse:5.90302\n",
      "[92]\tvalidation-rmse:5.90287\n",
      "[93]\tvalidation-rmse:5.90279\n",
      "[94]\tvalidation-rmse:5.90281\n",
      "[95]\tvalidation-rmse:5.90260\n",
      "[96]\tvalidation-rmse:5.90261\n",
      "[97]\tvalidation-rmse:5.90261\n",
      "[98]\tvalidation-rmse:5.90261\n",
      "[99]\tvalidation-rmse:5.90261\n"
     ]
    },
    {
     "name": "stderr",
     "output_type": "stream",
     "text": [
      "c:\\Users\\prisc\\apps\\nyc-taxi-predictions-2025\\.venv\\Lib\\site-packages\\mlflow\\xgboost\\__init__.py:169: UserWarning: [21:00:14] WARNING: C:\\actions-runner\\_work\\xgboost\\xgboost\\src\\c_api\\c_api.cc:1575: Saving model in the UBJSON format as default.  You can use a file extension: `json` or `ubj` to choose between formats.\n",
      "  xgb_model.save_model(model_data_path)\n",
      "2025/10/21 21:00:18 WARNING mlflow.utils.environment: Failed to resolve installed pip version. ``pip`` will be added to conda.yaml environment spec without a version specifier.\n"
     ]
    },
    {
     "data": {
      "application/vnd.jupyter.widget-view+json": {
       "model_id": "e1e58dc9df4c4a6d84dcb091b3e43d78",
       "version_major": 2,
       "version_minor": 0
      },
      "text/plain": [
       "Downloading artifacts:   0%|          | 0/7 [00:00<?, ?it/s]"
      ]
     },
     "metadata": {},
     "output_type": "display_data"
    },
    {
     "name": "stderr",
     "output_type": "stream",
     "text": [
      "c:\\Users\\prisc\\apps\\nyc-taxi-predictions-2025\\.venv\\Lib\\site-packages\\mlflow\\xgboost\\__init__.py:321: UserWarning: [21:00:18] WARNING: C:\\actions-runner\\_work\\xgboost\\xgboost\\src\\c_api\\c_api.cc:1511: Unknown file format: `xgb`. Using UBJSON (`ubj`) as a guess.\n",
      "  model.load_model(xgb_model_path)\n",
      "[I 2025-10-21 21:00:25,524] Trial 1 finished with value: 5.902611653559419 and parameters: {'max_depth': 19, 'learning_rate': 0.059264241587996896, 'reg_alpha': 0.21539205131792016, 'reg_lambda': 0.05006540936006931, 'min_child_weight': 6.248180561354165}. Best is trial 1 with value: 5.902611653559419.\n"
     ]
    },
    {
     "name": "stdout",
     "output_type": "stream",
     "text": [
      "🏃 View run abundant-boar-713 at: https://dbc-35a009eb-7ad0.cloud.databricks.com/ml/experiments/2168270428826736/runs/a265e81430f1417eb56c17b5bc088bb7\n",
      "🧪 View experiment at: https://dbc-35a009eb-7ad0.cloud.databricks.com/ml/experiments/2168270428826736\n",
      "[0]\tvalidation-rmse:5.90396\n",
      "[1]\tvalidation-rmse:5.88901\n",
      "[2]\tvalidation-rmse:5.88875\n",
      "[3]\tvalidation-rmse:5.88908\n",
      "[4]\tvalidation-rmse:5.88973\n",
      "[5]\tvalidation-rmse:5.88241\n",
      "[6]\tvalidation-rmse:5.88348\n",
      "[7]\tvalidation-rmse:5.88292\n",
      "[8]\tvalidation-rmse:5.87483\n",
      "[9]\tvalidation-rmse:5.87457\n",
      "[10]\tvalidation-rmse:5.87441\n",
      "[11]\tvalidation-rmse:5.87453\n",
      "[12]\tvalidation-rmse:5.87449\n",
      "[13]\tvalidation-rmse:5.87444\n",
      "[14]\tvalidation-rmse:5.87358\n",
      "[15]\tvalidation-rmse:5.87331\n",
      "[16]\tvalidation-rmse:5.87310\n",
      "[17]\tvalidation-rmse:5.87302\n",
      "[18]\tvalidation-rmse:5.87068\n",
      "[19]\tvalidation-rmse:5.87074\n",
      "[20]\tvalidation-rmse:5.87061\n",
      "[21]\tvalidation-rmse:5.87062\n",
      "[22]\tvalidation-rmse:5.87063\n",
      "[23]\tvalidation-rmse:5.87068\n",
      "[24]\tvalidation-rmse:5.87073\n",
      "[25]\tvalidation-rmse:5.87077\n",
      "[26]\tvalidation-rmse:5.87081\n",
      "[27]\tvalidation-rmse:5.87078\n",
      "[28]\tvalidation-rmse:5.87063\n",
      "[29]\tvalidation-rmse:5.87063\n"
     ]
    },
    {
     "name": "stderr",
     "output_type": "stream",
     "text": [
      "c:\\Users\\prisc\\apps\\nyc-taxi-predictions-2025\\.venv\\Lib\\site-packages\\mlflow\\xgboost\\__init__.py:169: UserWarning: [21:00:30] WARNING: C:\\actions-runner\\_work\\xgboost\\xgboost\\src\\c_api\\c_api.cc:1575: Saving model in the UBJSON format as default.  You can use a file extension: `json` or `ubj` to choose between formats.\n",
      "  xgb_model.save_model(model_data_path)\n",
      "2025/10/21 21:00:35 WARNING mlflow.utils.environment: Failed to resolve installed pip version. ``pip`` will be added to conda.yaml environment spec without a version specifier.\n"
     ]
    },
    {
     "data": {
      "application/vnd.jupyter.widget-view+json": {
       "model_id": "ebe4b527cb4048b8a02e42d5d21f6be1",
       "version_major": 2,
       "version_minor": 0
      },
      "text/plain": [
       "Downloading artifacts:   0%|          | 0/7 [00:00<?, ?it/s]"
      ]
     },
     "metadata": {},
     "output_type": "display_data"
    },
    {
     "name": "stderr",
     "output_type": "stream",
     "text": [
      "c:\\Users\\prisc\\apps\\nyc-taxi-predictions-2025\\.venv\\Lib\\site-packages\\mlflow\\xgboost\\__init__.py:321: UserWarning: [21:00:35] WARNING: C:\\actions-runner\\_work\\xgboost\\xgboost\\src\\c_api\\c_api.cc:1511: Unknown file format: `xgb`. Using UBJSON (`ubj`) as a guess.\n",
      "  model.load_model(xgb_model_path)\n",
      "[I 2025-10-21 21:00:37,199] Trial 2 finished with value: 5.873624736518469 and parameters: {'max_depth': 5, 'learning_rate': 0.9136840519292247, 'reg_alpha': 0.18820387978911576, 'reg_lambda': 0.007166739666045858, 'min_child_weight': 0.7613210498541186}. Best is trial 2 with value: 5.873624736518469.\n"
     ]
    },
    {
     "name": "stdout",
     "output_type": "stream",
     "text": [
      "🏃 View run rebellious-ant-309 at: https://dbc-35a009eb-7ad0.cloud.databricks.com/ml/experiments/2168270428826736/runs/7e25ec14808a458f912b7c2f9edbff1b\n",
      "🧪 View experiment at: https://dbc-35a009eb-7ad0.cloud.databricks.com/ml/experiments/2168270428826736\n",
      "[0]\tvalidation-rmse:8.46241\n",
      "[1]\tvalidation-rmse:7.91472\n",
      "[2]\tvalidation-rmse:7.48600\n",
      "[3]\tvalidation-rmse:7.13502\n",
      "[4]\tvalidation-rmse:6.85854\n",
      "[5]\tvalidation-rmse:6.63463\n",
      "[6]\tvalidation-rmse:6.46571\n",
      "[7]\tvalidation-rmse:6.33570\n",
      "[8]\tvalidation-rmse:6.22592\n",
      "[9]\tvalidation-rmse:6.14853\n",
      "[10]\tvalidation-rmse:6.08544\n",
      "[11]\tvalidation-rmse:6.02964\n",
      "[12]\tvalidation-rmse:5.99678\n",
      "[13]\tvalidation-rmse:5.96951\n",
      "[14]\tvalidation-rmse:5.94694\n",
      "[15]\tvalidation-rmse:5.92906\n",
      "[16]\tvalidation-rmse:5.91642\n",
      "[17]\tvalidation-rmse:5.90839\n",
      "[18]\tvalidation-rmse:5.90074\n",
      "[19]\tvalidation-rmse:5.89693\n",
      "[20]\tvalidation-rmse:5.89365\n",
      "[21]\tvalidation-rmse:5.88900\n",
      "[22]\tvalidation-rmse:5.88617\n",
      "[23]\tvalidation-rmse:5.88358\n",
      "[24]\tvalidation-rmse:5.88146\n",
      "[25]\tvalidation-rmse:5.87956\n",
      "[26]\tvalidation-rmse:5.87822\n",
      "[27]\tvalidation-rmse:5.87674\n",
      "[28]\tvalidation-rmse:5.87494\n",
      "[29]\tvalidation-rmse:5.87403\n",
      "[30]\tvalidation-rmse:5.87332\n",
      "[31]\tvalidation-rmse:5.87302\n",
      "[32]\tvalidation-rmse:5.87288\n",
      "[33]\tvalidation-rmse:5.87230\n",
      "[34]\tvalidation-rmse:5.87194\n",
      "[35]\tvalidation-rmse:5.87169\n",
      "[36]\tvalidation-rmse:5.87155\n",
      "[37]\tvalidation-rmse:5.87161\n",
      "[38]\tvalidation-rmse:5.87128\n",
      "[39]\tvalidation-rmse:5.87103\n",
      "[40]\tvalidation-rmse:5.87066\n",
      "[41]\tvalidation-rmse:5.87063\n",
      "[42]\tvalidation-rmse:5.87037\n",
      "[43]\tvalidation-rmse:5.86998\n",
      "[44]\tvalidation-rmse:5.86998\n",
      "[45]\tvalidation-rmse:5.87002\n",
      "[46]\tvalidation-rmse:5.86974\n",
      "[47]\tvalidation-rmse:5.86972\n",
      "[48]\tvalidation-rmse:5.86944\n",
      "[49]\tvalidation-rmse:5.86947\n",
      "[50]\tvalidation-rmse:5.86921\n",
      "[51]\tvalidation-rmse:5.86911\n",
      "[52]\tvalidation-rmse:5.86896\n",
      "[53]\tvalidation-rmse:5.86895\n",
      "[54]\tvalidation-rmse:5.86867\n",
      "[55]\tvalidation-rmse:5.86846\n",
      "[56]\tvalidation-rmse:5.86848\n",
      "[57]\tvalidation-rmse:5.86827\n",
      "[58]\tvalidation-rmse:5.86819\n",
      "[59]\tvalidation-rmse:5.86816\n",
      "[60]\tvalidation-rmse:5.86805\n",
      "[61]\tvalidation-rmse:5.86773\n",
      "[62]\tvalidation-rmse:5.86752\n",
      "[63]\tvalidation-rmse:5.86732\n",
      "[64]\tvalidation-rmse:5.86735\n",
      "[65]\tvalidation-rmse:5.86732\n",
      "[66]\tvalidation-rmse:5.86730\n",
      "[67]\tvalidation-rmse:5.86728\n",
      "[68]\tvalidation-rmse:5.86707\n",
      "[69]\tvalidation-rmse:5.86688\n",
      "[70]\tvalidation-rmse:5.86690\n",
      "[71]\tvalidation-rmse:5.86693\n",
      "[72]\tvalidation-rmse:5.86672\n",
      "[73]\tvalidation-rmse:5.86654\n",
      "[74]\tvalidation-rmse:5.86634\n",
      "[75]\tvalidation-rmse:5.86632\n",
      "[76]\tvalidation-rmse:5.86632\n",
      "[77]\tvalidation-rmse:5.86612\n",
      "[78]\tvalidation-rmse:5.86609\n",
      "[79]\tvalidation-rmse:5.86611\n",
      "[80]\tvalidation-rmse:5.86599\n",
      "[81]\tvalidation-rmse:5.86603\n",
      "[82]\tvalidation-rmse:5.86597\n",
      "[83]\tvalidation-rmse:5.86585\n",
      "[84]\tvalidation-rmse:5.86577\n",
      "[85]\tvalidation-rmse:5.86575\n",
      "[86]\tvalidation-rmse:5.86568\n",
      "[87]\tvalidation-rmse:5.86566\n",
      "[88]\tvalidation-rmse:5.86546\n",
      "[89]\tvalidation-rmse:5.86522\n",
      "[90]\tvalidation-rmse:5.86519\n",
      "[91]\tvalidation-rmse:5.86514\n",
      "[92]\tvalidation-rmse:5.86513\n",
      "[93]\tvalidation-rmse:5.86511\n",
      "[94]\tvalidation-rmse:5.86512\n",
      "[95]\tvalidation-rmse:5.86514\n",
      "[96]\tvalidation-rmse:5.86495\n",
      "[97]\tvalidation-rmse:5.86488\n",
      "[98]\tvalidation-rmse:5.86486\n",
      "[99]\tvalidation-rmse:5.86484\n"
     ]
    },
    {
     "name": "stderr",
     "output_type": "stream",
     "text": [
      "c:\\Users\\prisc\\apps\\nyc-taxi-predictions-2025\\.venv\\Lib\\site-packages\\mlflow\\xgboost\\__init__.py:169: UserWarning: [21:00:46] WARNING: C:\\actions-runner\\_work\\xgboost\\xgboost\\src\\c_api\\c_api.cc:1575: Saving model in the UBJSON format as default.  You can use a file extension: `json` or `ubj` to choose between formats.\n",
      "  xgb_model.save_model(model_data_path)\n",
      "2025/10/21 21:00:51 WARNING mlflow.utils.environment: Failed to resolve installed pip version. ``pip`` will be added to conda.yaml environment spec without a version specifier.\n"
     ]
    },
    {
     "data": {
      "application/vnd.jupyter.widget-view+json": {
       "model_id": "97734e1779c6416baa7bc780768c74cf",
       "version_major": 2,
       "version_minor": 0
      },
      "text/plain": [
       "Downloading artifacts:   0%|          | 0/7 [00:00<?, ?it/s]"
      ]
     },
     "metadata": {},
     "output_type": "display_data"
    },
    {
     "name": "stderr",
     "output_type": "stream",
     "text": [
      "c:\\Users\\prisc\\apps\\nyc-taxi-predictions-2025\\.venv\\Lib\\site-packages\\mlflow\\xgboost\\__init__.py:321: UserWarning: [21:00:51] WARNING: C:\\actions-runner\\_work\\xgboost\\xgboost\\src\\c_api\\c_api.cc:1511: Unknown file format: `xgb`. Using UBJSON (`ubj`) as a guess.\n",
      "  model.load_model(xgb_model_path)\n",
      "[I 2025-10-21 21:00:58,326] Trial 3 finished with value: 5.864844695204969 and parameters: {'max_depth': 21, 'learning_rate': 0.12402485733085497, 'reg_alpha': 0.054969638498598095, 'reg_lambda': 0.02148769342025257, 'min_child_weight': 1.1792947151892554}. Best is trial 3 with value: 5.864844695204969.\n"
     ]
    },
    {
     "name": "stdout",
     "output_type": "stream",
     "text": [
      "🏃 View run rebellious-hen-609 at: https://dbc-35a009eb-7ad0.cloud.databricks.com/ml/experiments/2168270428826736/runs/50d44297d784425e9974dca21d62505c\n",
      "🧪 View experiment at: https://dbc-35a009eb-7ad0.cloud.databricks.com/ml/experiments/2168270428826736\n",
      "[0]\tvalidation-rmse:8.71345\n",
      "[1]\tvalidation-rmse:8.36334\n",
      "[2]\tvalidation-rmse:8.04501\n",
      "[3]\tvalidation-rmse:7.76755\n",
      "[4]\tvalidation-rmse:7.52872\n",
      "[5]\tvalidation-rmse:7.31340\n",
      "[6]\tvalidation-rmse:7.12851\n",
      "[7]\tvalidation-rmse:6.97028\n",
      "[8]\tvalidation-rmse:6.84009\n",
      "[9]\tvalidation-rmse:6.72166\n",
      "[10]\tvalidation-rmse:6.62237\n",
      "[11]\tvalidation-rmse:6.53410\n",
      "[12]\tvalidation-rmse:6.45743\n",
      "[13]\tvalidation-rmse:6.39329\n",
      "[14]\tvalidation-rmse:6.34602\n",
      "[15]\tvalidation-rmse:6.30134\n",
      "[16]\tvalidation-rmse:6.26784\n",
      "[17]\tvalidation-rmse:6.23305\n",
      "[18]\tvalidation-rmse:6.20800\n",
      "[19]\tvalidation-rmse:6.18572\n",
      "[20]\tvalidation-rmse:6.16471\n",
      "[21]\tvalidation-rmse:6.14918\n",
      "[22]\tvalidation-rmse:6.13697\n",
      "[23]\tvalidation-rmse:6.12587\n",
      "[24]\tvalidation-rmse:6.11877\n",
      "[25]\tvalidation-rmse:6.11067\n",
      "[26]\tvalidation-rmse:6.10364\n",
      "[27]\tvalidation-rmse:6.10131\n",
      "[28]\tvalidation-rmse:6.09675\n",
      "[29]\tvalidation-rmse:6.09166\n",
      "[30]\tvalidation-rmse:6.08852\n",
      "[31]\tvalidation-rmse:6.08488\n",
      "[32]\tvalidation-rmse:6.08378\n",
      "[33]\tvalidation-rmse:6.08315\n",
      "[34]\tvalidation-rmse:6.08050\n",
      "[35]\tvalidation-rmse:6.08000\n",
      "[36]\tvalidation-rmse:6.07844\n",
      "[37]\tvalidation-rmse:6.07555\n",
      "[38]\tvalidation-rmse:6.07562\n",
      "[39]\tvalidation-rmse:6.07426\n",
      "[40]\tvalidation-rmse:6.07458\n",
      "[41]\tvalidation-rmse:6.07240\n",
      "[42]\tvalidation-rmse:6.07312\n",
      "[43]\tvalidation-rmse:6.07259\n",
      "[44]\tvalidation-rmse:6.07267\n",
      "[45]\tvalidation-rmse:6.07266\n",
      "[46]\tvalidation-rmse:6.07270\n",
      "[47]\tvalidation-rmse:6.07260\n",
      "[48]\tvalidation-rmse:6.07198\n",
      "[49]\tvalidation-rmse:6.07189\n",
      "[50]\tvalidation-rmse:6.07203\n",
      "[51]\tvalidation-rmse:6.07217\n",
      "[52]\tvalidation-rmse:6.07252\n",
      "[53]\tvalidation-rmse:6.07328\n",
      "[54]\tvalidation-rmse:6.07286\n",
      "[55]\tvalidation-rmse:6.07325\n",
      "[56]\tvalidation-rmse:6.07395\n",
      "[57]\tvalidation-rmse:6.07360\n",
      "[58]\tvalidation-rmse:6.07332\n"
     ]
    },
    {
     "name": "stderr",
     "output_type": "stream",
     "text": [
      "c:\\Users\\prisc\\apps\\nyc-taxi-predictions-2025\\.venv\\Lib\\site-packages\\mlflow\\xgboost\\__init__.py:169: UserWarning: [21:01:18] WARNING: C:\\actions-runner\\_work\\xgboost\\xgboost\\src\\c_api\\c_api.cc:1575: Saving model in the UBJSON format as default.  You can use a file extension: `json` or `ubj` to choose between formats.\n",
      "  xgb_model.save_model(model_data_path)\n",
      "2025/10/21 21:01:22 WARNING mlflow.utils.environment: Failed to resolve installed pip version. ``pip`` will be added to conda.yaml environment spec without a version specifier.\n"
     ]
    },
    {
     "data": {
      "application/vnd.jupyter.widget-view+json": {
       "model_id": "13d8bc2a453f4e1dba4636b60f4e4f85",
       "version_major": 2,
       "version_minor": 0
      },
      "text/plain": [
       "Downloading artifacts:   0%|          | 0/7 [00:00<?, ?it/s]"
      ]
     },
     "metadata": {},
     "output_type": "display_data"
    },
    {
     "name": "stderr",
     "output_type": "stream",
     "text": [
      "c:\\Users\\prisc\\apps\\nyc-taxi-predictions-2025\\.venv\\Lib\\site-packages\\mlflow\\xgboost\\__init__.py:321: UserWarning: [21:01:22] WARNING: C:\\actions-runner\\_work\\xgboost\\xgboost\\src\\c_api\\c_api.cc:1511: Unknown file format: `xgb`. Using UBJSON (`ubj`) as a guess.\n",
      "  model.load_model(xgb_model_path)\n",
      "[I 2025-10-21 21:01:51,225] Trial 4 finished with value: 6.073036521827848 and parameters: {'max_depth': 63, 'learning_rate': 0.07565903471570516, 'reg_alpha': 0.021678779375600917, 'reg_lambda': 0.015480241912324163, 'min_child_weight': 2.2802382585441565}. Best is trial 3 with value: 5.864844695204969.\n"
     ]
    },
    {
     "name": "stdout",
     "output_type": "stream",
     "text": [
      "🏃 View run calm-jay-905 at: https://dbc-35a009eb-7ad0.cloud.databricks.com/ml/experiments/2168270428826736/runs/2313b08d4a14405aa4f860c807e2f317\n",
      "🧪 View experiment at: https://dbc-35a009eb-7ad0.cloud.databricks.com/ml/experiments/2168270428826736\n",
      "[0]\tvalidation-rmse:8.59780\n",
      "[1]\tvalidation-rmse:8.16119\n",
      "[2]\tvalidation-rmse:7.79831\n",
      "[3]\tvalidation-rmse:7.48799\n",
      "[4]\tvalidation-rmse:7.22840\n",
      "[5]\tvalidation-rmse:7.00633\n",
      "[6]\tvalidation-rmse:6.83299\n",
      "[7]\tvalidation-rmse:6.68783\n",
      "[8]\tvalidation-rmse:6.55593\n",
      "[9]\tvalidation-rmse:6.45251\n",
      "[10]\tvalidation-rmse:6.37103\n",
      "[11]\tvalidation-rmse:6.30053\n",
      "[12]\tvalidation-rmse:6.23849\n",
      "[13]\tvalidation-rmse:6.19291\n",
      "[14]\tvalidation-rmse:6.15025\n",
      "[15]\tvalidation-rmse:6.12218\n",
      "[16]\tvalidation-rmse:6.09826\n",
      "[17]\tvalidation-rmse:6.08039\n",
      "[18]\tvalidation-rmse:6.06759\n",
      "[19]\tvalidation-rmse:6.05658\n",
      "[20]\tvalidation-rmse:6.05018\n",
      "[21]\tvalidation-rmse:6.04127\n",
      "[22]\tvalidation-rmse:6.03601\n",
      "[23]\tvalidation-rmse:6.03347\n",
      "[24]\tvalidation-rmse:6.02894\n",
      "[25]\tvalidation-rmse:6.02623\n",
      "[26]\tvalidation-rmse:6.02631\n",
      "[27]\tvalidation-rmse:6.02562\n",
      "[28]\tvalidation-rmse:6.02819\n",
      "[29]\tvalidation-rmse:6.02841\n",
      "[30]\tvalidation-rmse:6.02849\n",
      "[31]\tvalidation-rmse:6.03089\n",
      "[32]\tvalidation-rmse:6.03142\n",
      "[33]\tvalidation-rmse:6.03200\n",
      "[34]\tvalidation-rmse:6.03363\n",
      "[35]\tvalidation-rmse:6.03494\n",
      "[36]\tvalidation-rmse:6.03601\n"
     ]
    },
    {
     "name": "stderr",
     "output_type": "stream",
     "text": [
      "c:\\Users\\prisc\\apps\\nyc-taxi-predictions-2025\\.venv\\Lib\\site-packages\\mlflow\\xgboost\\__init__.py:169: UserWarning: [21:02:20] WARNING: C:\\actions-runner\\_work\\xgboost\\xgboost\\src\\c_api\\c_api.cc:1575: Saving model in the UBJSON format as default.  You can use a file extension: `json` or `ubj` to choose between formats.\n",
      "  xgb_model.save_model(model_data_path)\n",
      "2025/10/21 21:02:24 WARNING mlflow.utils.environment: Failed to resolve installed pip version. ``pip`` will be added to conda.yaml environment spec without a version specifier.\n"
     ]
    },
    {
     "data": {
      "application/vnd.jupyter.widget-view+json": {
       "model_id": "fd7ccfeeb9bb478c83d898a9adfc6267",
       "version_major": 2,
       "version_minor": 0
      },
      "text/plain": [
       "Downloading artifacts:   0%|          | 0/7 [00:00<?, ?it/s]"
      ]
     },
     "metadata": {},
     "output_type": "display_data"
    },
    {
     "name": "stderr",
     "output_type": "stream",
     "text": [
      "c:\\Users\\prisc\\apps\\nyc-taxi-predictions-2025\\.venv\\Lib\\site-packages\\mlflow\\xgboost\\__init__.py:321: UserWarning: [21:02:24] WARNING: C:\\actions-runner\\_work\\xgboost\\xgboost\\src\\c_api\\c_api.cc:1511: Unknown file format: `xgb`. Using UBJSON (`ubj`) as a guess.\n",
      "  model.load_model(xgb_model_path)\n",
      "[I 2025-10-21 21:03:04,099] Trial 5 finished with value: 6.036797300854083 and parameters: {'max_depth': 80, 'learning_rate': 0.0906292152736207, 'reg_alpha': 0.05270408847118816, 'reg_lambda': 0.04793414660944966, 'min_child_weight': 0.4429943118354462}. Best is trial 3 with value: 5.864844695204969.\n"
     ]
    },
    {
     "name": "stdout",
     "output_type": "stream",
     "text": [
      "🏃 View run orderly-kite-739 at: https://dbc-35a009eb-7ad0.cloud.databricks.com/ml/experiments/2168270428826736/runs/4a9bc422f5ef41a999c14f2268e55c01\n",
      "🧪 View experiment at: https://dbc-35a009eb-7ad0.cloud.databricks.com/ml/experiments/2168270428826736\n",
      "[0]\tvalidation-rmse:8.66674\n",
      "[1]\tvalidation-rmse:8.28130\n",
      "[2]\tvalidation-rmse:7.94388\n",
      "[3]\tvalidation-rmse:7.65203\n",
      "[4]\tvalidation-rmse:7.39768\n",
      "[5]\tvalidation-rmse:7.17932\n",
      "[6]\tvalidation-rmse:6.99064\n",
      "[7]\tvalidation-rmse:6.82788\n",
      "[8]\tvalidation-rmse:6.68845\n",
      "[9]\tvalidation-rmse:6.56954\n",
      "[10]\tvalidation-rmse:6.47247\n",
      "[11]\tvalidation-rmse:6.38585\n",
      "[12]\tvalidation-rmse:6.31795\n",
      "[13]\tvalidation-rmse:6.25891\n",
      "[14]\tvalidation-rmse:6.21037\n",
      "[15]\tvalidation-rmse:6.17153\n",
      "[16]\tvalidation-rmse:6.13977\n",
      "[17]\tvalidation-rmse:6.11184\n",
      "[18]\tvalidation-rmse:6.09137\n",
      "[19]\tvalidation-rmse:6.07189\n",
      "[20]\tvalidation-rmse:6.05592\n",
      "[21]\tvalidation-rmse:6.04469\n",
      "[22]\tvalidation-rmse:6.03666\n",
      "[23]\tvalidation-rmse:6.03048\n",
      "[24]\tvalidation-rmse:6.02557\n",
      "[25]\tvalidation-rmse:6.02108\n",
      "[26]\tvalidation-rmse:6.01829\n",
      "[27]\tvalidation-rmse:6.01556\n",
      "[28]\tvalidation-rmse:6.01392\n",
      "[29]\tvalidation-rmse:6.01174\n",
      "[30]\tvalidation-rmse:6.01095\n",
      "[31]\tvalidation-rmse:6.01145\n",
      "[32]\tvalidation-rmse:6.01028\n",
      "[33]\tvalidation-rmse:6.01141\n",
      "[34]\tvalidation-rmse:6.01136\n",
      "[35]\tvalidation-rmse:6.01183\n",
      "[36]\tvalidation-rmse:6.01312\n",
      "[37]\tvalidation-rmse:6.01446\n",
      "[38]\tvalidation-rmse:6.01465\n",
      "[39]\tvalidation-rmse:6.01881\n",
      "[40]\tvalidation-rmse:6.02159\n",
      "[41]\tvalidation-rmse:6.02202\n"
     ]
    },
    {
     "name": "stderr",
     "output_type": "stream",
     "text": [
      "c:\\Users\\prisc\\apps\\nyc-taxi-predictions-2025\\.venv\\Lib\\site-packages\\mlflow\\xgboost\\__init__.py:169: UserWarning: [21:03:14] WARNING: C:\\actions-runner\\_work\\xgboost\\xgboost\\src\\c_api\\c_api.cc:1575: Saving model in the UBJSON format as default.  You can use a file extension: `json` or `ubj` to choose between formats.\n",
      "  xgb_model.save_model(model_data_path)\n",
      "2025/10/21 21:03:18 WARNING mlflow.utils.environment: Failed to resolve installed pip version. ``pip`` will be added to conda.yaml environment spec without a version specifier.\n"
     ]
    },
    {
     "data": {
      "application/vnd.jupyter.widget-view+json": {
       "model_id": "d80987e05da8403fa17c52b08bee475a",
       "version_major": 2,
       "version_minor": 0
      },
      "text/plain": [
       "Downloading artifacts:   0%|          | 0/7 [00:00<?, ?it/s]"
      ]
     },
     "metadata": {},
     "output_type": "display_data"
    },
    {
     "name": "stderr",
     "output_type": "stream",
     "text": [
      "c:\\Users\\prisc\\apps\\nyc-taxi-predictions-2025\\.venv\\Lib\\site-packages\\mlflow\\xgboost\\__init__.py:321: UserWarning: [21:03:18] WARNING: C:\\actions-runner\\_work\\xgboost\\xgboost\\src\\c_api\\c_api.cc:1511: Unknown file format: `xgb`. Using UBJSON (`ubj`) as a guess.\n",
      "  model.load_model(xgb_model_path)\n",
      "[I 2025-10-21 21:03:24,443] Trial 6 finished with value: 6.024001572606648 and parameters: {'max_depth': 62, 'learning_rate': 0.08304043435235499, 'reg_alpha': 0.008740449782948887, 'reg_lambda': 0.28491274207986833, 'min_child_weight': 17.505727836123448}. Best is trial 3 with value: 5.864844695204969.\n"
     ]
    },
    {
     "name": "stdout",
     "output_type": "stream",
     "text": [
      "🏃 View run able-frog-656 at: https://dbc-35a009eb-7ad0.cloud.databricks.com/ml/experiments/2168270428826736/runs/72ac1f04420d4c4cbe0dad5816d8543e\n",
      "🧪 View experiment at: https://dbc-35a009eb-7ad0.cloud.databricks.com/ml/experiments/2168270428826736\n",
      "[0]\tvalidation-rmse:8.45358\n",
      "[1]\tvalidation-rmse:7.91575\n",
      "[2]\tvalidation-rmse:7.48583\n",
      "[3]\tvalidation-rmse:7.13998\n",
      "[4]\tvalidation-rmse:6.87703\n",
      "[5]\tvalidation-rmse:6.67951\n",
      "[6]\tvalidation-rmse:6.52718\n",
      "[7]\tvalidation-rmse:6.41368\n",
      "[8]\tvalidation-rmse:6.33050\n",
      "[9]\tvalidation-rmse:6.27070\n",
      "[10]\tvalidation-rmse:6.23098\n",
      "[11]\tvalidation-rmse:6.19687\n",
      "[12]\tvalidation-rmse:6.17169\n",
      "[13]\tvalidation-rmse:6.16418\n",
      "[14]\tvalidation-rmse:6.16001\n",
      "[15]\tvalidation-rmse:6.15569\n",
      "[16]\tvalidation-rmse:6.15360\n",
      "[17]\tvalidation-rmse:6.15365\n",
      "[18]\tvalidation-rmse:6.15601\n",
      "[19]\tvalidation-rmse:6.15932\n",
      "[20]\tvalidation-rmse:6.16316\n",
      "[21]\tvalidation-rmse:6.16303\n",
      "[22]\tvalidation-rmse:6.16401\n",
      "[23]\tvalidation-rmse:6.17012\n",
      "[24]\tvalidation-rmse:6.16999\n",
      "[25]\tvalidation-rmse:6.17199\n"
     ]
    },
    {
     "name": "stderr",
     "output_type": "stream",
     "text": [
      "c:\\Users\\prisc\\apps\\nyc-taxi-predictions-2025\\.venv\\Lib\\site-packages\\mlflow\\xgboost\\__init__.py:169: UserWarning: [21:03:43] WARNING: C:\\actions-runner\\_work\\xgboost\\xgboost\\src\\c_api\\c_api.cc:1575: Saving model in the UBJSON format as default.  You can use a file extension: `json` or `ubj` to choose between formats.\n",
      "  xgb_model.save_model(model_data_path)\n",
      "2025/10/21 21:03:48 WARNING mlflow.utils.environment: Failed to resolve installed pip version. ``pip`` will be added to conda.yaml environment spec without a version specifier.\n"
     ]
    },
    {
     "data": {
      "application/vnd.jupyter.widget-view+json": {
       "model_id": "c226bdafcab143c696390bb329849997",
       "version_major": 2,
       "version_minor": 0
      },
      "text/plain": [
       "Downloading artifacts:   0%|          | 0/7 [00:00<?, ?it/s]"
      ]
     },
     "metadata": {},
     "output_type": "display_data"
    },
    {
     "name": "stderr",
     "output_type": "stream",
     "text": [
      "c:\\Users\\prisc\\apps\\nyc-taxi-predictions-2025\\.venv\\Lib\\site-packages\\mlflow\\xgboost\\__init__.py:321: UserWarning: [21:03:48] WARNING: C:\\actions-runner\\_work\\xgboost\\xgboost\\src\\c_api\\c_api.cc:1511: Unknown file format: `xgb`. Using UBJSON (`ubj`) as a guess.\n",
      "  model.load_model(xgb_model_path)\n",
      "[I 2025-10-21 21:04:05,918] Trial 7 finished with value: 6.172334932747793 and parameters: {'max_depth': 82, 'learning_rate': 0.12416316985362412, 'reg_alpha': 0.009958672056108932, 'reg_lambda': 0.0758623422350637, 'min_child_weight': 2.1395809133199974}. Best is trial 3 with value: 5.864844695204969.\n"
     ]
    },
    {
     "name": "stdout",
     "output_type": "stream",
     "text": [
      "🏃 View run glamorous-deer-507 at: https://dbc-35a009eb-7ad0.cloud.databricks.com/ml/experiments/2168270428826736/runs/24311053aab645ed8ad188d235314b09\n",
      "🧪 View experiment at: https://dbc-35a009eb-7ad0.cloud.databricks.com/ml/experiments/2168270428826736\n",
      "[0]\tvalidation-rmse:7.96125\n",
      "[1]\tvalidation-rmse:7.19956\n",
      "[2]\tvalidation-rmse:6.69631\n",
      "[3]\tvalidation-rmse:6.37886\n",
      "[4]\tvalidation-rmse:6.17661\n",
      "[5]\tvalidation-rmse:6.05039\n",
      "[6]\tvalidation-rmse:5.98463\n",
      "[7]\tvalidation-rmse:5.93473\n",
      "[8]\tvalidation-rmse:5.90786\n",
      "[9]\tvalidation-rmse:5.89293\n",
      "[10]\tvalidation-rmse:5.88940\n",
      "[11]\tvalidation-rmse:5.88270\n",
      "[12]\tvalidation-rmse:5.87865\n",
      "[13]\tvalidation-rmse:5.87724\n",
      "[14]\tvalidation-rmse:5.87452\n",
      "[15]\tvalidation-rmse:5.87431\n",
      "[16]\tvalidation-rmse:5.87284\n",
      "[17]\tvalidation-rmse:5.87217\n",
      "[18]\tvalidation-rmse:5.87229\n",
      "[19]\tvalidation-rmse:5.87087\n",
      "[20]\tvalidation-rmse:5.87091\n",
      "[21]\tvalidation-rmse:5.87085\n",
      "[22]\tvalidation-rmse:5.87091\n",
      "[23]\tvalidation-rmse:5.86997\n",
      "[24]\tvalidation-rmse:5.86922\n",
      "[25]\tvalidation-rmse:5.86934\n",
      "[26]\tvalidation-rmse:5.86934\n",
      "[27]\tvalidation-rmse:5.86942\n",
      "[28]\tvalidation-rmse:5.86932\n",
      "[29]\tvalidation-rmse:5.86931\n",
      "[30]\tvalidation-rmse:5.86861\n",
      "[31]\tvalidation-rmse:5.86848\n",
      "[32]\tvalidation-rmse:5.86775\n",
      "[33]\tvalidation-rmse:5.86781\n",
      "[34]\tvalidation-rmse:5.86779\n",
      "[35]\tvalidation-rmse:5.86770\n",
      "[36]\tvalidation-rmse:5.86745\n",
      "[37]\tvalidation-rmse:5.86744\n",
      "[38]\tvalidation-rmse:5.86734\n",
      "[39]\tvalidation-rmse:5.86733\n",
      "[40]\tvalidation-rmse:5.86724\n",
      "[41]\tvalidation-rmse:5.86729\n",
      "[42]\tvalidation-rmse:5.86722\n",
      "[43]\tvalidation-rmse:5.86721\n",
      "[44]\tvalidation-rmse:5.86637\n",
      "[45]\tvalidation-rmse:5.86609\n",
      "[46]\tvalidation-rmse:5.86606\n",
      "[47]\tvalidation-rmse:5.86583\n",
      "[48]\tvalidation-rmse:5.86586\n",
      "[49]\tvalidation-rmse:5.86592\n",
      "[50]\tvalidation-rmse:5.86597\n",
      "[51]\tvalidation-rmse:5.86562\n",
      "[52]\tvalidation-rmse:5.86533\n",
      "[53]\tvalidation-rmse:5.86498\n",
      "[54]\tvalidation-rmse:5.86484\n",
      "[55]\tvalidation-rmse:5.86481\n",
      "[56]\tvalidation-rmse:5.86481\n",
      "[57]\tvalidation-rmse:5.86446\n",
      "[58]\tvalidation-rmse:5.86442\n",
      "[59]\tvalidation-rmse:5.86442\n",
      "[60]\tvalidation-rmse:5.86442\n",
      "[61]\tvalidation-rmse:5.86438\n",
      "[62]\tvalidation-rmse:5.86401\n",
      "[63]\tvalidation-rmse:5.86373\n",
      "[64]\tvalidation-rmse:5.86375\n",
      "[65]\tvalidation-rmse:5.86374\n",
      "[66]\tvalidation-rmse:5.86348\n",
      "[67]\tvalidation-rmse:5.86346\n",
      "[68]\tvalidation-rmse:5.86327\n",
      "[69]\tvalidation-rmse:5.86328\n",
      "[70]\tvalidation-rmse:5.86318\n",
      "[71]\tvalidation-rmse:5.86317\n",
      "[72]\tvalidation-rmse:5.86320\n",
      "[73]\tvalidation-rmse:5.86323\n",
      "[74]\tvalidation-rmse:5.86322\n",
      "[75]\tvalidation-rmse:5.86294\n",
      "[76]\tvalidation-rmse:5.86294\n",
      "[77]\tvalidation-rmse:5.86293\n",
      "[78]\tvalidation-rmse:5.86249\n",
      "[79]\tvalidation-rmse:5.86227\n",
      "[80]\tvalidation-rmse:5.86210\n",
      "[81]\tvalidation-rmse:5.86229\n",
      "[82]\tvalidation-rmse:5.86233\n",
      "[83]\tvalidation-rmse:5.86232\n",
      "[84]\tvalidation-rmse:5.86223\n",
      "[85]\tvalidation-rmse:5.86218\n",
      "[86]\tvalidation-rmse:5.86219\n",
      "[87]\tvalidation-rmse:5.86218\n",
      "[88]\tvalidation-rmse:5.86220\n",
      "[89]\tvalidation-rmse:5.86219\n"
     ]
    },
    {
     "name": "stderr",
     "output_type": "stream",
     "text": [
      "c:\\Users\\prisc\\apps\\nyc-taxi-predictions-2025\\.venv\\Lib\\site-packages\\mlflow\\xgboost\\__init__.py:169: UserWarning: [21:04:13] WARNING: C:\\actions-runner\\_work\\xgboost\\xgboost\\src\\c_api\\c_api.cc:1575: Saving model in the UBJSON format as default.  You can use a file extension: `json` or `ubj` to choose between formats.\n",
      "  xgb_model.save_model(model_data_path)\n",
      "2025/10/21 21:04:17 WARNING mlflow.utils.environment: Failed to resolve installed pip version. ``pip`` will be added to conda.yaml environment spec without a version specifier.\n"
     ]
    },
    {
     "data": {
      "application/vnd.jupyter.widget-view+json": {
       "model_id": "9bdbd8ffe64b45f2bc6a53cb96a92cb1",
       "version_major": 2,
       "version_minor": 0
      },
      "text/plain": [
       "Downloading artifacts:   0%|          | 0/7 [00:00<?, ?it/s]"
      ]
     },
     "metadata": {},
     "output_type": "display_data"
    },
    {
     "name": "stderr",
     "output_type": "stream",
     "text": [
      "c:\\Users\\prisc\\apps\\nyc-taxi-predictions-2025\\.venv\\Lib\\site-packages\\mlflow\\xgboost\\__init__.py:321: UserWarning: [21:04:17] WARNING: C:\\actions-runner\\_work\\xgboost\\xgboost\\src\\c_api\\c_api.cc:1511: Unknown file format: `xgb`. Using UBJSON (`ubj`) as a guess.\n",
      "  model.load_model(xgb_model_path)\n",
      "[I 2025-10-21 21:04:20,557] Trial 8 finished with value: 5.862230443089824 and parameters: {'max_depth': 15, 'learning_rate': 0.21992487468175848, 'reg_alpha': 0.007731550026907306, 'reg_lambda': 0.23377457337376373, 'min_child_weight': 1.0357439143907545}. Best is trial 8 with value: 5.862230443089824.\n"
     ]
    },
    {
     "name": "stdout",
     "output_type": "stream",
     "text": [
      "🏃 View run bold-auk-756 at: https://dbc-35a009eb-7ad0.cloud.databricks.com/ml/experiments/2168270428826736/runs/94233b2dec3445f18950c0e1de6f1936\n",
      "🧪 View experiment at: https://dbc-35a009eb-7ad0.cloud.databricks.com/ml/experiments/2168270428826736\n",
      "[0]\tvalidation-rmse:8.41579\n",
      "[1]\tvalidation-rmse:7.85713\n",
      "[2]\tvalidation-rmse:7.42170\n",
      "[3]\tvalidation-rmse:7.07938\n",
      "[4]\tvalidation-rmse:6.80816\n",
      "[5]\tvalidation-rmse:6.60651\n",
      "[6]\tvalidation-rmse:6.45200\n",
      "[7]\tvalidation-rmse:6.32855\n",
      "[8]\tvalidation-rmse:6.24433\n",
      "[9]\tvalidation-rmse:6.18085\n",
      "[10]\tvalidation-rmse:6.11653\n",
      "[11]\tvalidation-rmse:6.07718\n",
      "[12]\tvalidation-rmse:6.04368\n",
      "[13]\tvalidation-rmse:6.02265\n",
      "[14]\tvalidation-rmse:6.01240\n",
      "[15]\tvalidation-rmse:6.00241\n",
      "[16]\tvalidation-rmse:5.99576\n",
      "[17]\tvalidation-rmse:5.99117\n",
      "[18]\tvalidation-rmse:5.98779\n",
      "[19]\tvalidation-rmse:5.98629\n",
      "[20]\tvalidation-rmse:5.98758\n",
      "[21]\tvalidation-rmse:5.98578\n",
      "[22]\tvalidation-rmse:5.98501\n",
      "[23]\tvalidation-rmse:5.98725\n",
      "[24]\tvalidation-rmse:5.98845\n",
      "[25]\tvalidation-rmse:5.99028\n",
      "[26]\tvalidation-rmse:5.99097\n",
      "[27]\tvalidation-rmse:5.99184\n",
      "[28]\tvalidation-rmse:5.99364\n",
      "[29]\tvalidation-rmse:5.99561\n",
      "[30]\tvalidation-rmse:5.99619\n",
      "[31]\tvalidation-rmse:5.99808\n"
     ]
    },
    {
     "name": "stderr",
     "output_type": "stream",
     "text": [
      "c:\\Users\\prisc\\apps\\nyc-taxi-predictions-2025\\.venv\\Lib\\site-packages\\mlflow\\xgboost\\__init__.py:169: UserWarning: [21:04:41] WARNING: C:\\actions-runner\\_work\\xgboost\\xgboost\\src\\c_api\\c_api.cc:1575: Saving model in the UBJSON format as default.  You can use a file extension: `json` or `ubj` to choose between formats.\n",
      "  xgb_model.save_model(model_data_path)\n",
      "2025/10/21 21:04:47 WARNING mlflow.utils.environment: Failed to resolve installed pip version. ``pip`` will be added to conda.yaml environment spec without a version specifier.\n"
     ]
    },
    {
     "data": {
      "application/vnd.jupyter.widget-view+json": {
       "model_id": "dee16c46cf1440cca98197ef6a7af63f",
       "version_major": 2,
       "version_minor": 0
      },
      "text/plain": [
       "Downloading artifacts:   0%|          | 0/7 [00:00<?, ?it/s]"
      ]
     },
     "metadata": {},
     "output_type": "display_data"
    },
    {
     "name": "stderr",
     "output_type": "stream",
     "text": [
      "c:\\Users\\prisc\\apps\\nyc-taxi-predictions-2025\\.venv\\Lib\\site-packages\\mlflow\\xgboost\\__init__.py:321: UserWarning: [21:04:47] WARNING: C:\\actions-runner\\_work\\xgboost\\xgboost\\src\\c_api\\c_api.cc:1511: Unknown file format: `xgb`. Using UBJSON (`ubj`) as a guess.\n",
      "  model.load_model(xgb_model_path)\n",
      "[I 2025-10-21 21:05:16,436] Trial 9 finished with value: 5.999083279452748 and parameters: {'max_depth': 68, 'learning_rate': 0.1268351874747755, 'reg_alpha': 0.05394836382863035, 'reg_lambda': 0.03814164293595655, 'min_child_weight': 0.7706028272535065}. Best is trial 8 with value: 5.862230443089824.\n"
     ]
    },
    {
     "name": "stdout",
     "output_type": "stream",
     "text": [
      "🏃 View run chill-crane-139 at: https://dbc-35a009eb-7ad0.cloud.databricks.com/ml/experiments/2168270428826736/runs/99e0ad87806f4714bb76944a00b56e9b\n",
      "🧪 View experiment at: https://dbc-35a009eb-7ad0.cloud.databricks.com/ml/experiments/2168270428826736\n",
      "[0]\tvalidation-rmse:7.96125\n",
      "[1]\tvalidation-rmse:7.19956\n",
      "[2]\tvalidation-rmse:6.69631\n",
      "[3]\tvalidation-rmse:6.37886\n",
      "[4]\tvalidation-rmse:6.17661\n",
      "[5]\tvalidation-rmse:6.05039\n",
      "[6]\tvalidation-rmse:5.98463\n",
      "[7]\tvalidation-rmse:5.93473\n",
      "[8]\tvalidation-rmse:5.90786\n",
      "[9]\tvalidation-rmse:5.89293\n",
      "[10]\tvalidation-rmse:5.88940\n",
      "[11]\tvalidation-rmse:5.88270\n",
      "[12]\tvalidation-rmse:5.87865\n",
      "[13]\tvalidation-rmse:5.87724\n",
      "[14]\tvalidation-rmse:5.87452\n",
      "[15]\tvalidation-rmse:5.87431\n",
      "[16]\tvalidation-rmse:5.87284\n",
      "[17]\tvalidation-rmse:5.87217\n",
      "[18]\tvalidation-rmse:5.87229\n",
      "[19]\tvalidation-rmse:5.87087\n",
      "[20]\tvalidation-rmse:5.87091\n",
      "[21]\tvalidation-rmse:5.87085\n",
      "[22]\tvalidation-rmse:5.87091\n",
      "[23]\tvalidation-rmse:5.86997\n",
      "[24]\tvalidation-rmse:5.86922\n",
      "[25]\tvalidation-rmse:5.86934\n",
      "[26]\tvalidation-rmse:5.86934\n",
      "[27]\tvalidation-rmse:5.86942\n",
      "[28]\tvalidation-rmse:5.86932\n",
      "[29]\tvalidation-rmse:5.86931\n",
      "[30]\tvalidation-rmse:5.86861\n",
      "[31]\tvalidation-rmse:5.86848\n",
      "[32]\tvalidation-rmse:5.86775\n",
      "[33]\tvalidation-rmse:5.86781\n",
      "[34]\tvalidation-rmse:5.86779\n",
      "[35]\tvalidation-rmse:5.86770\n",
      "[36]\tvalidation-rmse:5.86745\n",
      "[37]\tvalidation-rmse:5.86744\n",
      "[38]\tvalidation-rmse:5.86734\n",
      "[39]\tvalidation-rmse:5.86733\n",
      "[40]\tvalidation-rmse:5.86724\n",
      "[41]\tvalidation-rmse:5.86729\n",
      "[42]\tvalidation-rmse:5.86722\n",
      "[43]\tvalidation-rmse:5.86721\n",
      "[44]\tvalidation-rmse:5.86637\n",
      "[45]\tvalidation-rmse:5.86609\n",
      "[46]\tvalidation-rmse:5.86606\n",
      "[47]\tvalidation-rmse:5.86583\n",
      "[48]\tvalidation-rmse:5.86586\n",
      "[49]\tvalidation-rmse:5.86592\n",
      "[50]\tvalidation-rmse:5.86597\n",
      "[51]\tvalidation-rmse:5.86562\n",
      "[52]\tvalidation-rmse:5.86533\n",
      "[53]\tvalidation-rmse:5.86498\n",
      "[54]\tvalidation-rmse:5.86484\n",
      "[55]\tvalidation-rmse:5.86481\n",
      "[56]\tvalidation-rmse:5.86481\n",
      "[57]\tvalidation-rmse:5.86446\n",
      "[58]\tvalidation-rmse:5.86442\n",
      "[59]\tvalidation-rmse:5.86442\n",
      "[60]\tvalidation-rmse:5.86442\n",
      "[61]\tvalidation-rmse:5.86438\n",
      "[62]\tvalidation-rmse:5.86401\n",
      "[63]\tvalidation-rmse:5.86373\n",
      "[64]\tvalidation-rmse:5.86375\n",
      "[65]\tvalidation-rmse:5.86374\n",
      "[66]\tvalidation-rmse:5.86348\n",
      "[67]\tvalidation-rmse:5.86346\n",
      "[68]\tvalidation-rmse:5.86327\n",
      "[69]\tvalidation-rmse:5.86328\n",
      "[70]\tvalidation-rmse:5.86318\n",
      "[71]\tvalidation-rmse:5.86317\n",
      "[72]\tvalidation-rmse:5.86320\n",
      "[73]\tvalidation-rmse:5.86323\n",
      "[74]\tvalidation-rmse:5.86322\n",
      "[75]\tvalidation-rmse:5.86294\n",
      "[76]\tvalidation-rmse:5.86294\n",
      "[77]\tvalidation-rmse:5.86293\n",
      "[78]\tvalidation-rmse:5.86249\n",
      "[79]\tvalidation-rmse:5.86227\n",
      "[80]\tvalidation-rmse:5.86210\n",
      "[81]\tvalidation-rmse:5.86229\n",
      "[82]\tvalidation-rmse:5.86233\n",
      "[83]\tvalidation-rmse:5.86232\n",
      "[84]\tvalidation-rmse:5.86223\n",
      "[85]\tvalidation-rmse:5.86218\n",
      "[86]\tvalidation-rmse:5.86219\n",
      "[87]\tvalidation-rmse:5.86218\n",
      "[88]\tvalidation-rmse:5.86220\n",
      "[89]\tvalidation-rmse:5.86219\n"
     ]
    },
    {
     "name": "stderr",
     "output_type": "stream",
     "text": [
      "c:\\Users\\prisc\\apps\\nyc-taxi-predictions-2025\\.venv\\Lib\\site-packages\\mlflow\\xgboost\\__init__.py:169: UserWarning: [21:05:24] WARNING: C:\\actions-runner\\_work\\xgboost\\xgboost\\src\\c_api\\c_api.cc:1575: Saving model in the UBJSON format as default.  You can use a file extension: `json` or `ubj` to choose between formats.\n",
      "  xgb_model.save_model(model_data_path)\n",
      "2025/10/21 21:05:28 WARNING mlflow.utils.environment: Failed to resolve installed pip version. ``pip`` will be added to conda.yaml environment spec without a version specifier.\n"
     ]
    },
    {
     "data": {
      "application/vnd.jupyter.widget-view+json": {
       "model_id": "0bb49ab54dc64294b41560e1d378a170",
       "version_major": 2,
       "version_minor": 0
      },
      "text/plain": [
       "Downloading artifacts:   0%|          | 0/7 [00:00<?, ?it/s]"
      ]
     },
     "metadata": {},
     "output_type": "display_data"
    },
    {
     "name": "stderr",
     "output_type": "stream",
     "text": [
      "c:\\Users\\prisc\\apps\\nyc-taxi-predictions-2025\\.venv\\Lib\\site-packages\\mlflow\\xgboost\\__init__.py:321: UserWarning: [21:05:28] WARNING: C:\\actions-runner\\_work\\xgboost\\xgboost\\src\\c_api\\c_api.cc:1511: Unknown file format: `xgb`. Using UBJSON (`ubj`) as a guess.\n",
      "  model.load_model(xgb_model_path)\n"
     ]
    },
    {
     "name": "stdout",
     "output_type": "stream",
     "text": [
      "🏃 View run XGBoost Hyperparameter Optimization (Optuna) at: https://dbc-35a009eb-7ad0.cloud.databricks.com/ml/experiments/2168270428826736/runs/1caa88fd4fa8439c9a5fca8f428589a5\n",
      "🧪 View experiment at: https://dbc-35a009eb-7ad0.cloud.databricks.com/ml/experiments/2168270428826736\n"
     ]
    }
   ],
   "source": [
    "mlflow.xgboost.autolog(log_models=False)\n",
    "\n",
    "# ------------------------------------------------------------\n",
    "# Crear el estudio de Optuna\n",
    "#    - Usamos TPE (Tree-structured Parzen Estimator) como sampler.\n",
    "#    - direction=\"minimize\" porque queremos minimizar el RMSE.\n",
    "# ------------------------------------------------------------\n",
    "sampler = TPESampler(seed=42)\n",
    "study = optuna.create_study(direction=\"minimize\", sampler=sampler)\n",
    "\n",
    "# ------------------------------------------------------------\n",
    "# Ejecutar la optimización (n_trials = número de intentos)\n",
    "#    - Cada trial ejecuta la función objetivo con un set distinto de hiperparámetros.\n",
    "#    - Abrimos un run \"padre\" para agrupar toda la búsqueda.\n",
    "# ------------------------------------------------------------\n",
    "with mlflow.start_run(run_name=\"XGBoost Hyperparameter Optimization (Optuna)\", nested=True):\n",
    "    study.optimize(objective, n_trials=10)\n",
    "\n",
    "    # --------------------------------------------------------\n",
    "    # Recuperar y registrar los mejores hiperparámetros\n",
    "    # --------------------------------------------------------\n",
    "    best_params = study.best_params\n",
    "    # Asegurar tipos/campos fijos (por claridad y consistencia)\n",
    "    best_params[\"max_depth\"] = int(best_params[\"max_depth\"])\n",
    "    best_params[\"seed\"] = 42\n",
    "    best_params[\"objective\"] = \"reg:squarederror\"\n",
    "\n",
    "    mlflow.log_params(best_params)\n",
    "\n",
    "    # Etiquetas del run \"padre\" (metadatos del experimento)\n",
    "    mlflow.set_tags({\n",
    "        \"project\": \"NYC Taxi Time Prediction Project\",\n",
    "        \"optimizer_engine\": \"optuna\",\n",
    "        \"model_family\": \"xgboost\",\n",
    "        \"feature_set_version\": 1,\n",
    "    })\n",
    "\n",
    "    # --------------------------------------------------------\n",
    "    # 7) Entrenar un modelo FINAL con los mejores hiperparámetros\n",
    "    #    (normalmente se haría sobre train+val o con CV; aquí mantenemos el patrón original)\n",
    "    # --------------------------------------------------------\n",
    "    booster = xgb.train(\n",
    "        params=best_params,\n",
    "        dtrain=train,\n",
    "        num_boost_round=100,\n",
    "        evals=[(valid, \"validation\")],\n",
    "        early_stopping_rounds=10,\n",
    "    )\n",
    "\n",
    "    # Evaluar y registrar la métrica final en validación\n",
    "    y_pred = booster.predict(valid)\n",
    "    rmse = root_mean_squared_error(y_val, y_pred)\n",
    "    mlflow.log_metric(\"rmse\", rmse)\n",
    "\n",
    "    # --------------------------------------------------------\n",
    "    # 8) Guardar artefactos adicionales (p. ej. el preprocesador)\n",
    "    # --------------------------------------------------------\n",
    "    pathlib.Path(\"preprocessor\").mkdir(exist_ok=True)\n",
    "    with open(\"preprocessor/preprocessor.b\", \"wb\") as f_out:\n",
    "        pickle.dump(dv, f_out)\n",
    "\n",
    "    mlflow.log_artifact(\"preprocessor/preprocessor.b\", artifact_path=\"preprocessor\")\n",
    "\n",
    "    # La \"signature\" describe la estructura esperada de entrada y salida del modelo:\n",
    "    # incluye los nombres, tipos y forma (shape) de las variables de entrada y el tipo de salida.\n",
    "    # MLflow la usa para validar datos en inferencia y documentar el modelo en el Model Registry.\n",
    "    # Si X_val es la matriz dispersa (scipy.sparse) salida de DictVectorizer:\n",
    "    feature_names = dv.get_feature_names_out()\n",
    "    input_example = pd.DataFrame(X_val[:5].toarray(), columns=feature_names)\n",
    "\n",
    "    # Para que las longitudes coincidan, usa el mismo slice en y_pred\n",
    "    signature = infer_signature(input_example, y_val[:5])\n",
    "\n",
    "    # Guardar el modelo del trial como artefacto en MLflow.\n",
    "    mlflow.xgboost.log_model(\n",
    "        booster,\n",
    "        name=\"model\",\n",
    "        input_example=input_example,\n",
    "        signature=signature\n",
    "    )"
   ]
  },
  {
   "cell_type": "markdown",
   "id": "9dfd996a",
   "metadata": {},
   "source": [
    "## Registrar modelo en 'Model Registry'"
   ]
  },
  {
   "cell_type": "markdown",
   "id": "8c4f3cf7",
   "metadata": {},
   "source": [
    "### Método 1: Manual"
   ]
  },
  {
   "cell_type": "code",
   "execution_count": 23,
   "id": "4bda565e",
   "metadata": {},
   "outputs": [],
   "source": [
    "model_name = \"workspace.default.nyc-taxi-model\""
   ]
  },
  {
   "cell_type": "code",
   "execution_count": 24,
   "id": "bae1e6f9",
   "metadata": {},
   "outputs": [
    {
     "name": "stderr",
     "output_type": "stream",
     "text": [
      "Successfully registered model 'workspace.default.nyc-taxi-model'.\n",
      "2025/10/21 21:14:50 WARNING mlflow.tracking._model_registry.fluent: Run with id 1caa88fd4fa8439c9a5fca8f428589a5 has no artifacts at artifact path 'model', registering model based on models:/m-b79602fe0e034844ab0f8dbe9d70de15 instead\n"
     ]
    },
    {
     "data": {
      "application/vnd.jupyter.widget-view+json": {
       "model_id": "9ebda185c33147b781e0f6495c44997b",
       "version_major": 2,
       "version_minor": 0
      },
      "text/plain": [
       "Downloading artifacts:   0%|          | 0/7 [00:00<?, ?it/s]"
      ]
     },
     "metadata": {},
     "output_type": "display_data"
    },
    {
     "data": {
      "application/vnd.jupyter.widget-view+json": {
       "model_id": "4d36ed63b4eb4d3d9f16f9b486f298ea",
       "version_major": 2,
       "version_minor": 0
      },
      "text/plain": [
       "Uploading artifacts:   0%|          | 0/8 [00:00<?, ?it/s]"
      ]
     },
     "metadata": {},
     "output_type": "display_data"
    },
    {
     "name": "stderr",
     "output_type": "stream",
     "text": [
      "Created version '1' of model 'workspace.default.nyc-taxi-model'.\n"
     ]
    }
   ],
   "source": [
    "run_id = input(\"Ingrese el run_id\")\n",
    "run_uri = f\"runs:/{run_id}/model\"\n",
    "\n",
    "result = mlflow.register_model(\n",
    "    model_uri=run_uri,\n",
    "    name=\"workspace.default.nyc-taxi-model\"\n",
    ")"
   ]
  },
  {
   "cell_type": "markdown",
   "id": "dfa1dbcc",
   "metadata": {},
   "source": [
    "### Método 2: Automático"
   ]
  },
  {
   "cell_type": "code",
   "execution_count": 25,
   "id": "c1ad38f1",
   "metadata": {},
   "outputs": [
    {
     "name": "stdout",
     "output_type": "stream",
     "text": [
      "🏆 Champion Run encontrado:\n",
      "Run ID: 94233b2dec3445f18950c0e1de6f1936\n",
      "RMSE: 5.862230443089824\n",
      "Params: {'custom_metric': 'None', 'early_stopping_rounds': '10', 'learning_rate': '0.21992487468175848', 'max_depth': '15', 'maximize': 'None', 'min_child_weight': '1.0357439143907545', 'num_boost_round': '100', 'objective': 'reg:squarederror', 'reg_alpha': '0.007731550026907306', 'reg_lambda': '0.23377457337376373', 'seed': '42', 'verbose_eval': 'True'}\n"
     ]
    }
   ],
   "source": [
    "runs = mlflow.search_runs(\n",
    "    experiment_names=[EXPERIMENT_NAME],\n",
    "    order_by=[\"metrics.rmse ASC\"],\n",
    "    output_format=\"list\"\n",
    ")\n",
    "\n",
    "# Obtener el mejor run\n",
    "if len(runs) > 0:\n",
    "    best_run = runs[0]\n",
    "    print(\"🏆 Champion Run encontrado:\")\n",
    "    print(f\"Run ID: {best_run.info.run_id}\")\n",
    "    print(f\"RMSE: {best_run.data.metrics['rmse']}\")\n",
    "    print(f\"Params: {best_run.data.params}\")\n",
    "else:\n",
    "    print(\"⚠️ No se encontraron runs con métrica RMSE.\")"
   ]
  },
  {
   "cell_type": "code",
   "execution_count": 28,
   "id": "10ca28ac",
   "metadata": {},
   "outputs": [],
   "source": [
    "run_id = best_run.info.run_id"
   ]
  },
  {
   "cell_type": "code",
   "execution_count": 29,
   "id": "b9be3da7",
   "metadata": {},
   "outputs": [
    {
     "name": "stderr",
     "output_type": "stream",
     "text": [
      "Registered model 'workspace.default.nyc-taxi-model' already exists. Creating a new version of this model...\n",
      "2025/10/21 21:23:56 WARNING mlflow.tracking._model_registry.fluent: Run with id 94233b2dec3445f18950c0e1de6f1936 has no artifacts at artifact path 'model', registering model based on models:/m-d31189e8f1c1476ea3647dce3e689985 instead\n"
     ]
    },
    {
     "data": {
      "application/vnd.jupyter.widget-view+json": {
       "model_id": "c3df71bc3a9342da9b503f5e335c99e8",
       "version_major": 2,
       "version_minor": 0
      },
      "text/plain": [
       "Downloading artifacts:   0%|          | 0/7 [00:00<?, ?it/s]"
      ]
     },
     "metadata": {},
     "output_type": "display_data"
    },
    {
     "data": {
      "application/vnd.jupyter.widget-view+json": {
       "model_id": "9456c13760ae4c26ad6623f35a9cee1a",
       "version_major": 2,
       "version_minor": 0
      },
      "text/plain": [
       "Uploading artifacts:   0%|          | 0/8 [00:00<?, ?it/s]"
      ]
     },
     "metadata": {},
     "output_type": "display_data"
    },
    {
     "name": "stderr",
     "output_type": "stream",
     "text": [
      "Created version '2' of model 'workspace.default.nyc-taxi-model'.\n"
     ]
    }
   ],
   "source": [
    "result = mlflow.register_model(\n",
    "    model_uri=f\"runs:/{best_run.info.run_id}/model\",\n",
    "    name=model_name\n",
    ")"
   ]
  },
  {
   "cell_type": "markdown",
   "id": "d99680ac",
   "metadata": {},
   "source": [
    "## Asignar alias"
   ]
  },
  {
   "cell_type": "code",
   "execution_count": 30,
   "id": "caad8898",
   "metadata": {},
   "outputs": [],
   "source": [
    "from mlflow import MlflowClient\n",
    "\n",
    "client = MlflowClient()"
   ]
  },
  {
   "cell_type": "code",
   "execution_count": 31,
   "id": "581eb851",
   "metadata": {},
   "outputs": [],
   "source": [
    "model_version = result.version\n",
    "new_alias = \"Champion\"\n",
    "\n",
    "client.set_registered_model_alias(\n",
    "    name=model_name,\n",
    "    alias=new_alias,\n",
    "    version=result.version\n",
    ")"
   ]
  },
  {
   "cell_type": "code",
   "execution_count": 32,
   "id": "49b42955",
   "metadata": {},
   "outputs": [
    {
     "data": {
      "text/plain": [
       "<ModelVersion: aliases=[], creation_timestamp=1761103441005, current_stage=None, deployment_job_state=<ModelVersionDeploymentJobState: current_task_name='', job_id='', job_state='DEPLOYMENT_JOB_CONNECTION_STATE_UNSPECIFIED', run_id='', run_state='DEPLOYMENT_JOB_RUN_STATE_UNSPECIFIED'>, description='The model version 2 was transitioned to Champion on 2025-10-21 21:25:48.197178', last_updated_timestamp=1761103548031, metrics=[<Metric: dataset_digest='', dataset_name='', key='best_iteration', model_id='m-d31189e8f1c1476ea3647dce3e689985', run_id='94233b2dec3445f18950c0e1de6f1936', step=0, timestamp=1761102248277, value=80.0>,\n",
       " <Metric: dataset_digest='', dataset_name='', key='rmse', model_id='m-d31189e8f1c1476ea3647dce3e689985', run_id='94233b2dec3445f18950c0e1de6f1936', step=0, timestamp=1761102251839, value=5.862230443089824>,\n",
       " <Metric: dataset_digest='', dataset_name='', key='stopped_iteration', model_id='m-d31189e8f1c1476ea3647dce3e689985', run_id='94233b2dec3445f18950c0e1de6f1936', step=0, timestamp=1761102248277, value=89.0>,\n",
       " <Metric: dataset_digest='', dataset_name='', key='validation-rmse', model_id='m-d31189e8f1c1476ea3647dce3e689985', run_id='94233b2dec3445f18950c0e1de6f1936', step=0, timestamp=1761102246766, value=7.961251487435976>], model_id='m-d31189e8f1c1476ea3647dce3e689985', name='workspace.default.nyc-taxi-model', params=[<LoggedModelParameter: key='reg_lambda', value='0.23377457337376373'>,\n",
       " <LoggedModelParameter: key='learning_rate', value='0.21992487468175848'>,\n",
       " <LoggedModelParameter: key='reg_alpha', value='0.007731550026907306'>,\n",
       " <LoggedModelParameter: key='verbose_eval', value='True'>,\n",
       " <LoggedModelParameter: key='num_boost_round', value='100'>,\n",
       " <LoggedModelParameter: key='early_stopping_rounds', value='10'>,\n",
       " <LoggedModelParameter: key='max_depth', value='15'>,\n",
       " <LoggedModelParameter: key='custom_metric', value='None'>,\n",
       " <LoggedModelParameter: key='min_child_weight', value='1.0357439143907545'>,\n",
       " <LoggedModelParameter: key='maximize', value='None'>,\n",
       " <LoggedModelParameter: key='objective', value='reg:squarederror'>,\n",
       " <LoggedModelParameter: key='seed', value='42'>], run_id='94233b2dec3445f18950c0e1de6f1936', run_link=None, source='models:/m-d31189e8f1c1476ea3647dce3e689985', status='READY', status_message='', tags={}, user_id='priscila.cervantes@iteso.mx', version='2'>"
      ]
     },
     "execution_count": 32,
     "metadata": {},
     "output_type": "execute_result"
    }
   ],
   "source": [
    "from datetime import datetime\n",
    "\n",
    "date = datetime.today()\n",
    "\n",
    "client.update_model_version(\n",
    "    name=model_name,\n",
    "    version=model_version,\n",
    "    description=f\"The model version {model_version} was transitioned to {new_alias} on {date}\",\n",
    ")"
   ]
  },
  {
   "cell_type": "markdown",
   "id": "9eae07b6",
   "metadata": {},
   "source": [
    "## Obteniendo modelos de model registry"
   ]
  },
  {
   "cell_type": "code",
   "execution_count": 33,
   "id": "e257898d",
   "metadata": {},
   "outputs": [
    {
     "data": {
      "application/vnd.jupyter.widget-view+json": {
       "model_id": "85bc8519c65e44f2be5bdcfecd7f22e6",
       "version_major": 2,
       "version_minor": 0
      },
      "text/plain": [
       "Downloading artifacts:   0%|          | 0/8 [00:00<?, ?it/s]"
      ]
     },
     "metadata": {},
     "output_type": "display_data"
    },
    {
     "name": "stderr",
     "output_type": "stream",
     "text": [
      "c:\\Users\\prisc\\apps\\nyc-taxi-predictions-2025\\.venv\\Lib\\site-packages\\mlflow\\xgboost\\__init__.py:321: UserWarning: [21:28:52] WARNING: C:\\actions-runner\\_work\\xgboost\\xgboost\\src\\c_api\\c_api.cc:1511: Unknown file format: `xgb`. Using UBJSON (`ubj`) as a guess.\n",
      "  model.load_model(xgb_model_path)\n"
     ]
    },
    {
     "data": {
      "text/plain": [
       "array([ 5.0574026, 24.71894  , 28.723047 , ..., 20.382122 , 13.796955 ,\n",
       "       22.728203 ], shape=(44218,), dtype=float32)"
      ]
     },
     "execution_count": 33,
     "metadata": {},
     "output_type": "execute_result"
    }
   ],
   "source": [
    "import mlflow.pyfunc\n",
    "\n",
    "model_version_uri = f\"models:/{model_name}@Champion\"\n",
    "\n",
    "champion_version = mlflow.pyfunc.load_model(model_version_uri)\n",
    "champion_version.predict(X_val)"
   ]
  }
 ],
 "metadata": {
  "kernelspec": {
   "display_name": "nyc-taxi-predictions-2025 (3.11.13)",
   "language": "python",
   "name": "python3"
  },
  "language_info": {
   "codemirror_mode": {
    "name": "ipython",
    "version": 3
   },
   "file_extension": ".py",
   "mimetype": "text/x-python",
   "name": "python",
   "nbconvert_exporter": "python",
   "pygments_lexer": "ipython3",
   "version": "3.11.13"
  }
 },
 "nbformat": 4,
 "nbformat_minor": 5
}
