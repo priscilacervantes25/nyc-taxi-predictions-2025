{
 "cells": [
  {
   "cell_type": "markdown",
   "id": "23cfb7ab",
   "metadata": {},
   "source": [
    "## Tarea "
   ]
  },
  {
   "cell_type": "code",
   "execution_count": 220,
   "id": "b013e0c6",
   "metadata": {},
   "outputs": [],
   "source": [
    "import os, mlflow\n",
    "from dotenv import load_dotenv\n",
    "import pickle\n",
    "import pandas as pd\n",
    "from sklearn.metrics import root_mean_squared_error\n",
    "from sklearn.feature_extraction import DictVectorizer"
   ]
  },
  {
   "cell_type": "markdown",
   "id": "69b79599",
   "metadata": {},
   "source": [
    "## Configuración de MLFlow "
   ]
  },
  {
   "cell_type": "code",
   "execution_count": 221,
   "id": "21b5f69a",
   "metadata": {},
   "outputs": [],
   "source": [
    "load_dotenv(override=True)\n",
    "EXPERIMENT_NAME = \"/Users/priscila.cervantes@iteso.mx/nyc-taxi-experiments\"\n",
    "\n",
    "mlflow.set_tracking_uri(\"databricks\")\n",
    "experiment =  mlflow.set_experiment(experiment_name=EXPERIMENT_NAME)"
   ]
  },
  {
   "cell_type": "markdown",
   "id": "9aafcf6d",
   "metadata": {},
   "source": [
    "## Pre-procesamiento"
   ]
  },
  {
   "cell_type": "code",
   "execution_count": 222,
   "id": "082a0cea",
   "metadata": {},
   "outputs": [],
   "source": [
    "def read_dataframe(filename):\n",
    "\n",
    "    df = pd.read_parquet(filename)\n",
    "\n",
    "    df['duration'] = df.lpep_dropoff_datetime - df.lpep_pickup_datetime\n",
    "    df.duration = df.duration.apply(lambda td: td.total_seconds() / 60)\n",
    "\n",
    "    df = df[(df.duration >= 1) & (df.duration <= 60)]\n",
    "\n",
    "    categorical = ['PULocationID', 'DOLocationID']\n",
    "    df[categorical] = df[categorical].astype(str)\n",
    "\n",
    "    return df"
   ]
  },
  {
   "cell_type": "code",
   "execution_count": 223,
   "id": "715238f2",
   "metadata": {},
   "outputs": [],
   "source": [
    "df_train = read_dataframe(\"../data/green_tripdata_2025-01.parquet\")\n",
    "df_val = read_dataframe(\"../data/green_tripdata_2025-02.parquet\")\n"
   ]
  },
  {
   "cell_type": "code",
   "execution_count": 224,
   "id": "426b7a56",
   "metadata": {},
   "outputs": [],
   "source": [
    "def preprocess(df, dv):\n",
    "    df['PU_DO'] = df['PULocationID'] + '_' + df['DOLocationID']\n",
    "    categorical = ['PU_DO']\n",
    "    numerical = ['trip_distance']\n",
    "    train_dicts = df[categorical + numerical].to_dict(orient='records')\n",
    "    return dv.transform(train_dicts)\n",
    "\n",
    "df_train['PU_DO'] = df_train['PULocationID'] + '_' + df_train['DOLocationID']\n",
    "categorical = ['PU_DO']\n",
    "numerical = ['trip_distance']\n",
    "dv = DictVectorizer()\n",
    "\n",
    "train_dicts = df_train[categorical + numerical].to_dict(orient='records')\n",
    "X_train = dv.fit_transform(train_dicts)\n",
    "\n",
    "X_val = preprocess(df_val, dv)"
   ]
  },
  {
   "cell_type": "code",
   "execution_count": 225,
   "id": "22dd1141",
   "metadata": {},
   "outputs": [],
   "source": [
    "target = 'duration'\n",
    "y_train = df_train[target].values\n",
    "y_val = df_val[target].values"
   ]
  },
  {
   "cell_type": "code",
   "execution_count": 226,
   "id": "6b9fa63b",
   "metadata": {},
   "outputs": [],
   "source": [
    "training_dataset = mlflow.data.from_numpy(X_train.data, targets=y_train, name=\"green_tripdata_2025-01\")\n",
    "validation_dataset = mlflow.data.from_numpy(X_val.data, targets=y_val, name=\"green_tripdata_2025-02\")"
   ]
  },
  {
   "cell_type": "markdown",
   "id": "a6198263",
   "metadata": {},
   "source": [
    "## Optuna"
   ]
  },
  {
   "cell_type": "code",
   "execution_count": 227,
   "id": "eaad69a4",
   "metadata": {},
   "outputs": [],
   "source": [
    "import math\n",
    "import optuna\n",
    "import pathlib\n",
    "from optuna.samplers import TPESampler\n",
    "from mlflow.models.signature import infer_signature\n",
    "from sklearn.ensemble import GradientBoostingRegressor, RandomForestRegressor\n"
   ]
  },
  {
   "cell_type": "markdown",
   "id": "8a75bfb0",
   "metadata": {},
   "source": [
    "## objetivo GB"
   ]
  },
  {
   "cell_type": "code",
   "execution_count": null,
   "id": "fb469b4d",
   "metadata": {},
   "outputs": [],
   "source": [
    "def objective_gb(trial: optuna.trial.Trial):\n",
    "    params = {\n",
    "        \"learning_rate\": trial.suggest_float(\"learning_rate\", math.exp(-7), 0.3, log=True),\n",
    "        \"max_leaf_nodes\": trial.suggest_int(\"max_leaf_nodes\", 10, 80),\n",
    "        \"max_depth\": trial.suggest_int(\"max_depth\", 3, 12),\n",
    "        \"min_samples_leaf\": trial.suggest_int(\"min_samples_leaf\", 1, 20),\n",
    "        \"random_state\": 42,\n",
    "    }\n",
    "\n",
    "    with mlflow.start_run(nested=True):\n",
    "        mlflow.set_tag(\"model_family\", \"gradient_boosting\")\n",
    "        mlflow.log_params(params)\n",
    "\n",
    "        model = GradientBoostingRegressor(**params)\n",
    "        model.fit(X_train, y_train)\n",
    "        y_pred = model.predict(X_val)\n",
    "        rmse = root_mean_squared_error(y_val, y_pred)\n",
    "        mlflow.log_metric(\"rmse\", rmse)\n",
    "\n",
    "        signature = infer_signature(X_val, y_pred)\n",
    "        mlflow.sklearn.log_model(model, \"model\", input_example=X_val[:5], signature=signature)\n",
    "\n",
    "    return rmse"
   ]
  },
  {
   "cell_type": "code",
   "execution_count": null,
   "id": "7e16d0dd",
   "metadata": {},
   "outputs": [
    {
     "name": "stderr",
     "output_type": "stream",
     "text": [
      "[I 2025-10-29 17:43:47,580] A new study created in memory with name: no-name-8ad069aa-e3b4-4466-bbf3-bdb7a0161403\n",
      "2025/10/29 17:44:30 WARNING mlflow.models.model: `artifact_path` is deprecated. Please use `name` instead.\n",
      "2025/10/29 17:45:15 WARNING mlflow.utils.environment: Failed to resolve installed pip version. ``pip`` will be added to conda.yaml environment spec without a version specifier.\n"
     ]
    },
    {
     "data": {
      "application/vnd.jupyter.widget-view+json": {
       "model_id": "85e9b9b7dc784d3dae51f885a151b6a4",
       "version_major": 2,
       "version_minor": 0
      },
      "text/plain": [
       "Downloading artifacts:   0%|          | 0/7 [00:00<?, ?it/s]"
      ]
     },
     "metadata": {},
     "output_type": "display_data"
    },
    {
     "name": "stderr",
     "output_type": "stream",
     "text": [
      "2025/10/29 17:45:18 INFO mlflow.models.model: Found the following environment variables used during model inference: [DATABRICKS_HOST, DATABRICKS_TOKEN]. Please check if you need to set them when deploying the model. To disable this message, set environment variable `MLFLOW_RECORD_ENV_VARS_IN_MODEL_LOGGING` to `false`.\n"
     ]
    },
    {
     "name": "stdout",
     "output_type": "stream",
     "text": [
      "🏃 View run able-carp-560 at: https://dbc-35a009eb-7ad0.cloud.databricks.com/ml/experiments/3999049734856042/runs/dd755a030cfb408d99c391e2139149ad\n",
      "🧪 View experiment at: https://dbc-35a009eb-7ad0.cloud.databricks.com/ml/experiments/3999049734856042\n"
     ]
    },
    {
     "name": "stderr",
     "output_type": "stream",
     "text": [
      "[I 2025-10-29 17:45:23,872] Trial 0 finished with value: 6.496399816815654 and parameters: {'learning_rate': 0.007993270448118463, 'max_leaf_nodes': 77, 'max_depth': 10, 'min_samples_leaf': 12}. Best is trial 0 with value: 6.496399816815654.\n",
      "2025/10/29 17:45:38 WARNING mlflow.models.model: `artifact_path` is deprecated. Please use `name` instead.\n",
      "2025/10/29 17:45:47 WARNING mlflow.utils.environment: Failed to resolve installed pip version. ``pip`` will be added to conda.yaml environment spec without a version specifier.\n"
     ]
    },
    {
     "data": {
      "application/vnd.jupyter.widget-view+json": {
       "model_id": "ab1e754974a647e3a8d2696ccd11f8c2",
       "version_major": 2,
       "version_minor": 0
      },
      "text/plain": [
       "Downloading artifacts:   0%|          | 0/7 [00:00<?, ?it/s]"
      ]
     },
     "metadata": {},
     "output_type": "display_data"
    },
    {
     "name": "stderr",
     "output_type": "stream",
     "text": [
      "2025/10/29 17:45:48 INFO mlflow.models.model: Found the following environment variables used during model inference: [DATABRICKS_HOST, DATABRICKS_TOKEN]. Please check if you need to set them when deploying the model. To disable this message, set environment variable `MLFLOW_RECORD_ENV_VARS_IN_MODEL_LOGGING` to `false`.\n"
     ]
    },
    {
     "name": "stdout",
     "output_type": "stream",
     "text": [
      "🏃 View run powerful-shrike-845 at: https://dbc-35a009eb-7ad0.cloud.databricks.com/ml/experiments/3999049734856042/runs/d2c2bed14c9740a9930060356d9486c2\n",
      "🧪 View experiment at: https://dbc-35a009eb-7ad0.cloud.databricks.com/ml/experiments/3999049734856042\n"
     ]
    },
    {
     "name": "stderr",
     "output_type": "stream",
     "text": [
      "[I 2025-10-29 17:45:53,462] Trial 1 finished with value: 8.125801155365895 and parameters: {'learning_rate': 0.0022525064230539864, 'max_leaf_nodes': 21, 'max_depth': 3, 'min_samples_leaf': 18}. Best is trial 0 with value: 6.496399816815654.\n",
      "2025/10/29 17:46:03 WARNING mlflow.models.model: `artifact_path` is deprecated. Please use `name` instead.\n",
      "2025/10/29 17:46:10 WARNING mlflow.utils.environment: Failed to resolve installed pip version. ``pip`` will be added to conda.yaml environment spec without a version specifier.\n"
     ]
    },
    {
     "data": {
      "application/vnd.jupyter.widget-view+json": {
       "model_id": "f27ee61e02cb4a289ecfa62432f38edd",
       "version_major": 2,
       "version_minor": 0
      },
      "text/plain": [
       "Downloading artifacts:   0%|          | 0/7 [00:00<?, ?it/s]"
      ]
     },
     "metadata": {},
     "output_type": "display_data"
    },
    {
     "name": "stderr",
     "output_type": "stream",
     "text": [
      "2025/10/29 17:46:11 INFO mlflow.models.model: Found the following environment variables used during model inference: [DATABRICKS_HOST, DATABRICKS_TOKEN]. Please check if you need to set them when deploying the model. To disable this message, set environment variable `MLFLOW_RECORD_ENV_VARS_IN_MODEL_LOGGING` to `false`.\n",
      "[I 2025-10-29 17:46:13,749] Trial 2 finished with value: 5.716773865305269 and parameters: {'learning_rate': 0.029720416526464566, 'max_leaf_nodes': 60, 'max_depth': 3, 'min_samples_leaf': 20}. Best is trial 2 with value: 5.716773865305269.\n"
     ]
    },
    {
     "name": "stdout",
     "output_type": "stream",
     "text": [
      "🏃 View run awesome-shoat-180 at: https://dbc-35a009eb-7ad0.cloud.databricks.com/ml/experiments/3999049734856042/runs/42363216d3ef4103b01cf8870625bae6\n",
      "🧪 View experiment at: https://dbc-35a009eb-7ad0.cloud.databricks.com/ml/experiments/3999049734856042\n"
     ]
    },
    {
     "name": "stderr",
     "output_type": "stream",
     "text": [
      "2025/10/29 17:46:23 WARNING mlflow.models.model: `artifact_path` is deprecated. Please use `name` instead.\n",
      "2025/10/29 17:46:29 WARNING mlflow.utils.environment: Failed to resolve installed pip version. ``pip`` will be added to conda.yaml environment spec without a version specifier.\n"
     ]
    },
    {
     "data": {
      "application/vnd.jupyter.widget-view+json": {
       "model_id": "2d67d755c169471c906757066df3715e",
       "version_major": 2,
       "version_minor": 0
      },
      "text/plain": [
       "Downloading artifacts:   0%|          | 0/7 [00:00<?, ?it/s]"
      ]
     },
     "metadata": {},
     "output_type": "display_data"
    },
    {
     "name": "stderr",
     "output_type": "stream",
     "text": [
      "2025/10/29 17:46:30 INFO mlflow.models.model: Found the following environment variables used during model inference: [DATABRICKS_HOST, DATABRICKS_TOKEN]. Please check if you need to set them when deploying the model. To disable this message, set environment variable `MLFLOW_RECORD_ENV_VARS_IN_MODEL_LOGGING` to `false`.\n",
      "[I 2025-10-29 17:46:35,932] Trial 3 finished with value: 5.538795759490097 and parameters: {'learning_rate': 0.11359227064780915, 'max_leaf_nodes': 25, 'max_depth': 4, 'min_samples_leaf': 4}. Best is trial 3 with value: 5.538795759490097.\n"
     ]
    },
    {
     "name": "stdout",
     "output_type": "stream",
     "text": [
      "🏃 View run welcoming-shrike-691 at: https://dbc-35a009eb-7ad0.cloud.databricks.com/ml/experiments/3999049734856042/runs/37b5819c899f421faf217a720d0d1a10\n",
      "🧪 View experiment at: https://dbc-35a009eb-7ad0.cloud.databricks.com/ml/experiments/3999049734856042\n"
     ]
    },
    {
     "name": "stderr",
     "output_type": "stream",
     "text": [
      "2025/10/29 17:47:04 WARNING mlflow.models.model: `artifact_path` is deprecated. Please use `name` instead.\n",
      "2025/10/29 17:47:13 WARNING mlflow.utils.environment: Failed to resolve installed pip version. ``pip`` will be added to conda.yaml environment spec without a version specifier.\n"
     ]
    },
    {
     "data": {
      "application/vnd.jupyter.widget-view+json": {
       "model_id": "1d7ec62a93d544e09cc7d7650dd57eb6",
       "version_major": 2,
       "version_minor": 0
      },
      "text/plain": [
       "Downloading artifacts:   0%|          | 0/7 [00:00<?, ?it/s]"
      ]
     },
     "metadata": {},
     "output_type": "display_data"
    },
    {
     "name": "stderr",
     "output_type": "stream",
     "text": [
      "2025/10/29 17:47:14 INFO mlflow.models.model: Found the following environment variables used during model inference: [DATABRICKS_HOST, DATABRICKS_TOKEN]. Please check if you need to set them when deploying the model. To disable this message, set environment variable `MLFLOW_RECORD_ENV_VARS_IN_MODEL_LOGGING` to `false`.\n",
      "[I 2025-10-29 17:47:18,492] Trial 4 finished with value: 7.059639544338837 and parameters: {'learning_rate': 0.005318288777514629, 'max_leaf_nodes': 47, 'max_depth': 7, 'min_samples_leaf': 6}. Best is trial 3 with value: 5.538795759490097.\n"
     ]
    },
    {
     "name": "stdout",
     "output_type": "stream",
     "text": [
      "🏃 View run legendary-grouse-982 at: https://dbc-35a009eb-7ad0.cloud.databricks.com/ml/experiments/3999049734856042/runs/b67875be0ad74656bba76cdae3bb5124\n",
      "🧪 View experiment at: https://dbc-35a009eb-7ad0.cloud.databricks.com/ml/experiments/3999049734856042\n"
     ]
    },
    {
     "name": "stderr",
     "output_type": "stream",
     "text": [
      "2025/10/29 17:47:31 WARNING mlflow.models.model: `artifact_path` is deprecated. Please use `name` instead.\n",
      "2025/10/29 17:47:37 WARNING mlflow.utils.environment: Failed to resolve installed pip version. ``pip`` will be added to conda.yaml environment spec without a version specifier.\n"
     ]
    },
    {
     "data": {
      "application/vnd.jupyter.widget-view+json": {
       "model_id": "6e9b2d5645a942adae3b6e7176400e93",
       "version_major": 2,
       "version_minor": 0
      },
      "text/plain": [
       "Downloading artifacts:   0%|          | 0/7 [00:00<?, ?it/s]"
      ]
     },
     "metadata": {},
     "output_type": "display_data"
    },
    {
     "name": "stderr",
     "output_type": "stream",
     "text": [
      "2025/10/29 17:47:38 INFO mlflow.models.model: Found the following environment variables used during model inference: [DATABRICKS_HOST, DATABRICKS_TOKEN]. Please check if you need to set them when deploying the model. To disable this message, set environment variable `MLFLOW_RECORD_ENV_VARS_IN_MODEL_LOGGING` to `false`.\n",
      "[I 2025-10-29 17:47:40,669] Trial 5 finished with value: 5.601087544815117 and parameters: {'learning_rate': 0.03162890116844962, 'max_leaf_nodes': 19, 'max_depth': 5, 'min_samples_leaf': 8}. Best is trial 3 with value: 5.538795759490097.\n"
     ]
    },
    {
     "name": "stdout",
     "output_type": "stream",
     "text": [
      "🏃 View run silent-newt-328 at: https://dbc-35a009eb-7ad0.cloud.databricks.com/ml/experiments/3999049734856042/runs/769bae520e2540a29136db3eb1489f7a\n",
      "🧪 View experiment at: https://dbc-35a009eb-7ad0.cloud.databricks.com/ml/experiments/3999049734856042\n"
     ]
    },
    {
     "name": "stderr",
     "output_type": "stream",
     "text": [
      "2025/10/29 17:47:51 WARNING mlflow.models.model: `artifact_path` is deprecated. Please use `name` instead.\n",
      "2025/10/29 17:47:57 WARNING mlflow.utils.environment: Failed to resolve installed pip version. ``pip`` will be added to conda.yaml environment spec without a version specifier.\n"
     ]
    },
    {
     "data": {
      "application/vnd.jupyter.widget-view+json": {
       "model_id": "d663a34afa074086842eb2ebe6b4c466",
       "version_major": 2,
       "version_minor": 0
      },
      "text/plain": [
       "Downloading artifacts:   0%|          | 0/7 [00:00<?, ?it/s]"
      ]
     },
     "metadata": {},
     "output_type": "display_data"
    },
    {
     "name": "stderr",
     "output_type": "stream",
     "text": [
      "2025/10/29 17:47:58 INFO mlflow.models.model: Found the following environment variables used during model inference: [DATABRICKS_HOST, DATABRICKS_TOKEN]. Please check if you need to set them when deploying the model. To disable this message, set environment variable `MLFLOW_RECORD_ENV_VARS_IN_MODEL_LOGGING` to `false`.\n",
      "[I 2025-10-29 17:48:00,987] Trial 6 finished with value: 6.066710078751305 and parameters: {'learning_rate': 0.012821831585029154, 'max_leaf_nodes': 65, 'max_depth': 4, 'min_samples_leaf': 11}. Best is trial 3 with value: 5.538795759490097.\n"
     ]
    },
    {
     "name": "stdout",
     "output_type": "stream",
     "text": [
      "🏃 View run righteous-frog-4 at: https://dbc-35a009eb-7ad0.cloud.databricks.com/ml/experiments/3999049734856042/runs/3ede0ec7d9534ef1b03c0f293fa08fe3\n",
      "🧪 View experiment at: https://dbc-35a009eb-7ad0.cloud.databricks.com/ml/experiments/3999049734856042\n"
     ]
    },
    {
     "name": "stderr",
     "output_type": "stream",
     "text": [
      "2025/10/29 17:48:12 WARNING mlflow.models.model: `artifact_path` is deprecated. Please use `name` instead.\n",
      "2025/10/29 17:48:18 WARNING mlflow.utils.environment: Failed to resolve installed pip version. ``pip`` will be added to conda.yaml environment spec without a version specifier.\n"
     ]
    },
    {
     "data": {
      "application/vnd.jupyter.widget-view+json": {
       "model_id": "6827fad8c0d34945b3f386c2d2df032d",
       "version_major": 2,
       "version_minor": 0
      },
      "text/plain": [
       "Downloading artifacts:   0%|          | 0/7 [00:00<?, ?it/s]"
      ]
     },
     "metadata": {},
     "output_type": "display_data"
    },
    {
     "name": "stderr",
     "output_type": "stream",
     "text": [
      "2025/10/29 17:48:18 INFO mlflow.models.model: Found the following environment variables used during model inference: [DATABRICKS_HOST, DATABRICKS_TOKEN]. Please check if you need to set them when deploying the model. To disable this message, set environment variable `MLFLOW_RECORD_ENV_VARS_IN_MODEL_LOGGING` to `false`.\n",
      "[I 2025-10-29 17:48:21,153] Trial 7 finished with value: 5.656789400850453 and parameters: {'learning_rate': 0.02825883723693529, 'max_leaf_nodes': 13, 'max_depth': 9, 'min_samples_leaf': 4}. Best is trial 3 with value: 5.538795759490097.\n"
     ]
    },
    {
     "name": "stdout",
     "output_type": "stream",
     "text": [
      "🏃 View run persistent-bat-947 at: https://dbc-35a009eb-7ad0.cloud.databricks.com/ml/experiments/3999049734856042/runs/ddb7a33d49144fcdab5ba07d8d9542fb\n",
      "🧪 View experiment at: https://dbc-35a009eb-7ad0.cloud.databricks.com/ml/experiments/3999049734856042\n"
     ]
    },
    {
     "name": "stderr",
     "output_type": "stream",
     "text": [
      "2025/10/29 17:48:46 WARNING mlflow.models.model: `artifact_path` is deprecated. Please use `name` instead.\n",
      "2025/10/29 17:48:52 WARNING mlflow.utils.environment: Failed to resolve installed pip version. ``pip`` will be added to conda.yaml environment spec without a version specifier.\n"
     ]
    },
    {
     "data": {
      "application/vnd.jupyter.widget-view+json": {
       "model_id": "fdef9558d3c340b9b942173d86f28edb",
       "version_major": 2,
       "version_minor": 0
      },
      "text/plain": [
       "Downloading artifacts:   0%|          | 0/7 [00:00<?, ?it/s]"
      ]
     },
     "metadata": {},
     "output_type": "display_data"
    },
    {
     "name": "stderr",
     "output_type": "stream",
     "text": [
      "2025/10/29 17:48:53 INFO mlflow.models.model: Found the following environment variables used during model inference: [DATABRICKS_HOST, DATABRICKS_TOKEN]. Please check if you need to set them when deploying the model. To disable this message, set environment variable `MLFLOW_RECORD_ENV_VARS_IN_MODEL_LOGGING` to `false`.\n",
      "[I 2025-10-29 17:48:56,258] Trial 8 finished with value: 8.43511209542287 and parameters: {'learning_rate': 0.001329490892086439, 'max_leaf_nodes': 77, 'max_depth': 12, 'min_samples_leaf': 17}. Best is trial 3 with value: 5.538795759490097.\n"
     ]
    },
    {
     "name": "stdout",
     "output_type": "stream",
     "text": [
      "🏃 View run selective-cod-140 at: https://dbc-35a009eb-7ad0.cloud.databricks.com/ml/experiments/3999049734856042/runs/651fc0d1adaa440096adf964ae21d061\n",
      "🧪 View experiment at: https://dbc-35a009eb-7ad0.cloud.databricks.com/ml/experiments/3999049734856042\n"
     ]
    },
    {
     "name": "stderr",
     "output_type": "stream",
     "text": [
      "2025/10/29 17:49:09 WARNING mlflow.models.model: `artifact_path` is deprecated. Please use `name` instead.\n",
      "2025/10/29 17:49:15 WARNING mlflow.utils.environment: Failed to resolve installed pip version. ``pip`` will be added to conda.yaml environment spec without a version specifier.\n"
     ]
    },
    {
     "data": {
      "application/vnd.jupyter.widget-view+json": {
       "model_id": "73287f1eb16844cbabb688fcc5fc1872",
       "version_major": 2,
       "version_minor": 0
      },
      "text/plain": [
       "Downloading artifacts:   0%|          | 0/7 [00:00<?, ?it/s]"
      ]
     },
     "metadata": {},
     "output_type": "display_data"
    },
    {
     "name": "stderr",
     "output_type": "stream",
     "text": [
      "2025/10/29 17:49:16 INFO mlflow.models.model: Found the following environment variables used during model inference: [DATABRICKS_HOST, DATABRICKS_TOKEN]. Please check if you need to set them when deploying the model. To disable this message, set environment variable `MLFLOW_RECORD_ENV_VARS_IN_MODEL_LOGGING` to `false`.\n",
      "[I 2025-10-29 17:49:18,728] Trial 9 finished with value: 7.11299850468749 and parameters: {'learning_rate': 0.00532975339252159, 'max_leaf_nodes': 16, 'max_depth': 9, 'min_samples_leaf': 9}. Best is trial 3 with value: 5.538795759490097.\n"
     ]
    },
    {
     "name": "stdout",
     "output_type": "stream",
     "text": [
      "🏃 View run merciful-crane-16 at: https://dbc-35a009eb-7ad0.cloud.databricks.com/ml/experiments/3999049734856042/runs/3bdae6f2a8634648aed8c6bf475a277e\n",
      "🧪 View experiment at: https://dbc-35a009eb-7ad0.cloud.databricks.com/ml/experiments/3999049734856042\n"
     ]
    },
    {
     "name": "stderr",
     "output_type": "stream",
     "text": [
      "2025/10/29 17:50:12 WARNING mlflow.models.model: `artifact_path` is deprecated. Please use `name` instead.\n",
      "2025/10/29 17:50:19 WARNING mlflow.utils.environment: Failed to resolve installed pip version. ``pip`` will be added to conda.yaml environment spec without a version specifier.\n"
     ]
    },
    {
     "data": {
      "application/vnd.jupyter.widget-view+json": {
       "model_id": "f62980ed2f4f494ba0c87086ff704f55",
       "version_major": 2,
       "version_minor": 0
      },
      "text/plain": [
       "Downloading artifacts:   0%|          | 0/7 [00:00<?, ?it/s]"
      ]
     },
     "metadata": {},
     "output_type": "display_data"
    },
    {
     "name": "stderr",
     "output_type": "stream",
     "text": [
      "c:\\Users\\prisc\\apps\\nyc-taxi-predictions-2025\\.venv\\Lib\\site-packages\\sklearn\\utils\\validation.py:2742: UserWarning: X has feature names, but GradientBoostingRegressor was fitted without feature names\n",
      "  warnings.warn(\n",
      "2025/10/29 17:50:24 INFO mlflow.models.model: Found the following environment variables used during model inference: [DATABRICKS_HOST, DATABRICKS_TOKEN]. Please check if you need to set them when deploying the model. To disable this message, set environment variable `MLFLOW_RECORD_ENV_VARS_IN_MODEL_LOGGING` to `false`.\n"
     ]
    },
    {
     "name": "stdout",
     "output_type": "stream",
     "text": [
      "🏃 View run GradientBoost Hyperparameter Optimization (Optuna) at: https://dbc-35a009eb-7ad0.cloud.databricks.com/ml/experiments/3999049734856042/runs/2bda52049fb34f2296200f8767ad4d5e\n",
      "🧪 View experiment at: https://dbc-35a009eb-7ad0.cloud.databricks.com/ml/experiments/3999049734856042\n"
     ]
    }
   ],
   "source": [
    "mlflow.sklearn.autolog(log_models=False)\n",
    "\n",
    "sampler = TPESampler(seed=42)\n",
    "study_gb = optuna.create_study(direction=\"minimize\", sampler=sampler)\n",
    "\n",
    "with mlflow.start_run(run_name=\"GradientBoost Hyperparameter Optimization (Optuna)\", nested=True):\n",
    "    study_gb.optimize(objective_gb, n_trials=10)\n",
    "\n",
    "    best_params = study_gb.best_params\n",
    "\n",
    "    mlflow.log_params(best_params)\n",
    "\n",
    "    mlflow.set_tags({\n",
    "        \"project\": \"NYC Taxi Time Prediction Project\",\n",
    "        \"optimizer_engine\": \"optuna\",\n",
    "        \"model_family\": \"gradient_boosting\",\n",
    "        \"feature_set_version\": 1,\n",
    "    })\n",
    "\n",
    "    final_model = GradientBoostingRegressor(**best_params)\n",
    "    final_model.fit(X_train, y_train)\n",
    "    y_pred = final_model.predict(X_val)\n",
    "    rmse = root_mean_squared_error(y_val, y_pred)\n",
    "    mlflow.log_metric(\"rmse\", rmse)\n",
    "\n",
    "    pathlib.Path(\"preprocessor\").mkdir(exist_ok=True)\n",
    "    with open(\"preprocessor/preprocessor.b\", \"wb\") as f_out:\n",
    "        pickle.dump(dv, f_out)\n",
    "    mlflow.log_artifact(\"preprocessor/preprocessor.b\", artifact_path=\"preprocessor\")\n",
    "\n",
    "    feature_names = dv.get_feature_names_out()\n",
    "    input_example = pd.DataFrame(X_val[:5].toarray(), columns=feature_names)\n",
    "    signature = infer_signature(input_example, y_val[:5])\n",
    "\n",
    "    mlflow.sklearn.log_model(final_model, \"model\", input_example=input_example, signature=signature)"
   ]
  },
  {
   "cell_type": "markdown",
   "id": "f63d8148",
   "metadata": {},
   "source": [
    "## objetivo RF"
   ]
  },
  {
   "cell_type": "code",
   "execution_count": null,
   "id": "21add131",
   "metadata": {},
   "outputs": [],
   "source": [
    "def objective_rf(trial: optuna.trial.Trial):\n",
    "    params = {\n",
    "        \"n_estimators\": trial.suggest_int(\"n_estimators\", 30, 80),\n",
    "        \"max_depth\": trial.suggest_int(\"max_depth\", 5, 40),\n",
    "        \"min_samples_split\": trial.suggest_int(\"min_samples_split\", 5, 20),\n",
    "        \"max_features\": trial.suggest_categorical(\"max_features\", [\"sqrt\", \"log2\", None])\n",
    "    }\n",
    "\n",
    "    with mlflow.start_run(nested=True):\n",
    "        mlflow.set_tag(\"model_family\", \"random_forest\")\n",
    "        mlflow.log_params(params)\n",
    "\n",
    "        model = RandomForestRegressor(**params, n_jobs=-1, random_state=42)\n",
    "        model.fit(X_train, y_train)\n",
    "        y_pred = model.predict(X_val)\n",
    "        rmse = root_mean_squared_error(y_val, y_pred)\n",
    "        mlflow.log_metric(\"rmse\", rmse)\n",
    "\n",
    "        signature = infer_signature(X_val, y_pred)\n",
    "        mlflow.sklearn.log_model(model, \"model\", input_example=X_val[:5], signature=signature)\n",
    "\n",
    "    return rmse"
   ]
  },
  {
   "cell_type": "code",
   "execution_count": null,
   "id": "45a530bc",
   "metadata": {},
   "outputs": [
    {
     "name": "stderr",
     "output_type": "stream",
     "text": [
      "[I 2025-10-29 17:50:34,549] A new study created in memory with name: no-name-a8b08761-37e4-4ad8-aa28-a30faf17b879\n",
      "2025/10/29 17:50:44 WARNING mlflow.models.model: `artifact_path` is deprecated. Please use `name` instead.\n",
      "2025/10/29 17:50:51 WARNING mlflow.utils.environment: Failed to resolve installed pip version. ``pip`` will be added to conda.yaml environment spec without a version specifier.\n"
     ]
    },
    {
     "data": {
      "application/vnd.jupyter.widget-view+json": {
       "model_id": "0b30c3ba9bf640b4a5a42955e5f917ee",
       "version_major": 2,
       "version_minor": 0
      },
      "text/plain": [
       "Downloading artifacts:   0%|          | 0/7 [00:00<?, ?it/s]"
      ]
     },
     "metadata": {},
     "output_type": "display_data"
    },
    {
     "name": "stderr",
     "output_type": "stream",
     "text": [
      "2025/10/29 17:50:52 INFO mlflow.models.model: Found the following environment variables used during model inference: [DATABRICKS_HOST, DATABRICKS_TOKEN]. Please check if you need to set them when deploying the model. To disable this message, set environment variable `MLFLOW_RECORD_ENV_VARS_IN_MODEL_LOGGING` to `false`.\n",
      "[I 2025-10-29 17:50:57,261] Trial 0 finished with value: 7.192333875814888 and parameters: {'n_estimators': 49, 'max_depth': 39, 'min_samples_split': 16, 'max_features': 'sqrt'}. Best is trial 0 with value: 7.192333875814888.\n"
     ]
    },
    {
     "name": "stdout",
     "output_type": "stream",
     "text": [
      "🏃 View run handsome-squid-71 at: https://dbc-35a009eb-7ad0.cloud.databricks.com/ml/experiments/3999049734856042/runs/4f8f5dcd5e3341e3b5aecaf9aa3e6040\n",
      "🧪 View experiment at: https://dbc-35a009eb-7ad0.cloud.databricks.com/ml/experiments/3999049734856042\n"
     ]
    },
    {
     "name": "stderr",
     "output_type": "stream",
     "text": [
      "2025/10/29 17:51:09 WARNING mlflow.models.model: `artifact_path` is deprecated. Please use `name` instead.\n",
      "2025/10/29 17:51:34 WARNING mlflow.utils.environment: Failed to resolve installed pip version. ``pip`` will be added to conda.yaml environment spec without a version specifier.\n"
     ]
    },
    {
     "data": {
      "application/vnd.jupyter.widget-view+json": {
       "model_id": "1ddb3dde4f9949f5b66a0d0a1060e1d4",
       "version_major": 2,
       "version_minor": 0
      },
      "text/plain": [
       "Downloading artifacts:   0%|          | 0/7 [00:00<?, ?it/s]"
      ]
     },
     "metadata": {},
     "output_type": "display_data"
    },
    {
     "name": "stderr",
     "output_type": "stream",
     "text": [
      "2025/10/29 17:51:36 INFO mlflow.models.model: Found the following environment variables used during model inference: [DATABRICKS_HOST, DATABRICKS_TOKEN]. Please check if you need to set them when deploying the model. To disable this message, set environment variable `MLFLOW_RECORD_ENV_VARS_IN_MODEL_LOGGING` to `false`.\n",
      "[I 2025-10-29 17:51:47,163] Trial 1 finished with value: 5.481438540048821 and parameters: {'n_estimators': 32, 'max_depth': 36, 'min_samples_split': 14, 'max_features': None}. Best is trial 1 with value: 5.481438540048821.\n"
     ]
    },
    {
     "name": "stdout",
     "output_type": "stream",
     "text": [
      "🏃 View run charming-pug-47 at: https://dbc-35a009eb-7ad0.cloud.databricks.com/ml/experiments/3999049734856042/runs/b6c324c8961249469b3515b7e9950abc\n",
      "🧪 View experiment at: https://dbc-35a009eb-7ad0.cloud.databricks.com/ml/experiments/3999049734856042\n"
     ]
    },
    {
     "name": "stderr",
     "output_type": "stream",
     "text": [
      "2025/10/29 17:51:57 WARNING mlflow.models.model: `artifact_path` is deprecated. Please use `name` instead.\n",
      "2025/10/29 17:52:04 WARNING mlflow.utils.environment: Failed to resolve installed pip version. ``pip`` will be added to conda.yaml environment spec without a version specifier.\n"
     ]
    },
    {
     "data": {
      "application/vnd.jupyter.widget-view+json": {
       "model_id": "7b3a89ab58d8412580ae72cb6b47570a",
       "version_major": 2,
       "version_minor": 0
      },
      "text/plain": [
       "Downloading artifacts:   0%|          | 0/7 [00:00<?, ?it/s]"
      ]
     },
     "metadata": {},
     "output_type": "display_data"
    },
    {
     "name": "stderr",
     "output_type": "stream",
     "text": [
      "2025/10/29 17:52:04 INFO mlflow.models.model: Found the following environment variables used during model inference: [DATABRICKS_HOST, DATABRICKS_TOKEN]. Please check if you need to set them when deploying the model. To disable this message, set environment variable `MLFLOW_RECORD_ENV_VARS_IN_MODEL_LOGGING` to `false`.\n",
      "[I 2025-10-29 17:52:10,420] Trial 2 finished with value: 5.580631009827177 and parameters: {'n_estimators': 72, 'max_depth': 12, 'min_samples_split': 7, 'max_features': None}. Best is trial 1 with value: 5.481438540048821.\n"
     ]
    },
    {
     "name": "stdout",
     "output_type": "stream",
     "text": [
      "🏃 View run skillful-elk-543 at: https://dbc-35a009eb-7ad0.cloud.databricks.com/ml/experiments/3999049734856042/runs/6843faba5b4147828aed134369c1c48f\n",
      "🧪 View experiment at: https://dbc-35a009eb-7ad0.cloud.databricks.com/ml/experiments/3999049734856042\n"
     ]
    },
    {
     "name": "stderr",
     "output_type": "stream",
     "text": [
      "2025/10/29 17:52:20 WARNING mlflow.models.model: `artifact_path` is deprecated. Please use `name` instead.\n",
      "2025/10/29 17:52:26 WARNING mlflow.utils.environment: Failed to resolve installed pip version. ``pip`` will be added to conda.yaml environment spec without a version specifier.\n"
     ]
    },
    {
     "data": {
      "application/vnd.jupyter.widget-view+json": {
       "model_id": "32135703a7344c88a9bf3e5d45545444",
       "version_major": 2,
       "version_minor": 0
      },
      "text/plain": [
       "Downloading artifacts:   0%|          | 0/7 [00:00<?, ?it/s]"
      ]
     },
     "metadata": {},
     "output_type": "display_data"
    },
    {
     "name": "stderr",
     "output_type": "stream",
     "text": [
      "2025/10/29 17:52:27 INFO mlflow.models.model: Found the following environment variables used during model inference: [DATABRICKS_HOST, DATABRICKS_TOKEN]. Please check if you need to set them when deploying the model. To disable this message, set environment variable `MLFLOW_RECORD_ENV_VARS_IN_MODEL_LOGGING` to `false`.\n",
      "[I 2025-10-29 17:52:32,728] Trial 3 finished with value: 5.553659267170364 and parameters: {'n_estimators': 52, 'max_depth': 15, 'min_samples_split': 14, 'max_features': None}. Best is trial 1 with value: 5.481438540048821.\n"
     ]
    },
    {
     "name": "stdout",
     "output_type": "stream",
     "text": [
      "🏃 View run worried-penguin-719 at: https://dbc-35a009eb-7ad0.cloud.databricks.com/ml/experiments/3999049734856042/runs/5163cb8f7a824e649feb0f3d5635d49c\n",
      "🧪 View experiment at: https://dbc-35a009eb-7ad0.cloud.databricks.com/ml/experiments/3999049734856042\n"
     ]
    },
    {
     "name": "stderr",
     "output_type": "stream",
     "text": [
      "2025/10/29 17:52:40 WARNING mlflow.models.model: `artifact_path` is deprecated. Please use `name` instead.\n",
      "2025/10/29 17:52:47 WARNING mlflow.utils.environment: Failed to resolve installed pip version. ``pip`` will be added to conda.yaml environment spec without a version specifier.\n"
     ]
    },
    {
     "data": {
      "application/vnd.jupyter.widget-view+json": {
       "model_id": "4953b916e50849778c3cb747a6629f9e",
       "version_major": 2,
       "version_minor": 0
      },
      "text/plain": [
       "Downloading artifacts:   0%|          | 0/7 [00:00<?, ?it/s]"
      ]
     },
     "metadata": {},
     "output_type": "display_data"
    },
    {
     "name": "stderr",
     "output_type": "stream",
     "text": [
      "2025/10/29 17:52:47 INFO mlflow.models.model: Found the following environment variables used during model inference: [DATABRICKS_HOST, DATABRICKS_TOKEN]. Please check if you need to set them when deploying the model. To disable this message, set environment variable `MLFLOW_RECORD_ENV_VARS_IN_MODEL_LOGGING` to `false`.\n",
      "[I 2025-10-29 17:52:51,356] Trial 4 finished with value: 8.502400742570257 and parameters: {'n_estimators': 53, 'max_depth': 33, 'min_samples_split': 8, 'max_features': 'log2'}. Best is trial 1 with value: 5.481438540048821.\n"
     ]
    },
    {
     "name": "stdout",
     "output_type": "stream",
     "text": [
      "🏃 View run able-rat-204 at: https://dbc-35a009eb-7ad0.cloud.databricks.com/ml/experiments/3999049734856042/runs/d0fa224e3e3849af8c06e21188efd38d\n",
      "🧪 View experiment at: https://dbc-35a009eb-7ad0.cloud.databricks.com/ml/experiments/3999049734856042\n"
     ]
    },
    {
     "name": "stderr",
     "output_type": "stream",
     "text": [
      "2025/10/29 17:52:58 WARNING mlflow.models.model: `artifact_path` is deprecated. Please use `name` instead.\n",
      "2025/10/29 17:53:04 WARNING mlflow.utils.environment: Failed to resolve installed pip version. ``pip`` will be added to conda.yaml environment spec without a version specifier.\n"
     ]
    },
    {
     "data": {
      "application/vnd.jupyter.widget-view+json": {
       "model_id": "09e93850929d434bab93336c26a7dd2a",
       "version_major": 2,
       "version_minor": 0
      },
      "text/plain": [
       "Downloading artifacts:   0%|          | 0/7 [00:00<?, ?it/s]"
      ]
     },
     "metadata": {},
     "output_type": "display_data"
    },
    {
     "name": "stderr",
     "output_type": "stream",
     "text": [
      "2025/10/29 17:53:04 INFO mlflow.models.model: Found the following environment variables used during model inference: [DATABRICKS_HOST, DATABRICKS_TOKEN]. Please check if you need to set them when deploying the model. To disable this message, set environment variable `MLFLOW_RECORD_ENV_VARS_IN_MODEL_LOGGING` to `false`.\n",
      "[I 2025-10-29 17:53:07,152] Trial 5 finished with value: 8.822185495406224 and parameters: {'n_estimators': 60, 'max_depth': 11, 'min_samples_split': 6, 'max_features': 'log2'}. Best is trial 1 with value: 5.481438540048821.\n"
     ]
    },
    {
     "name": "stdout",
     "output_type": "stream",
     "text": [
      "🏃 View run adventurous-ant-505 at: https://dbc-35a009eb-7ad0.cloud.databricks.com/ml/experiments/3999049734856042/runs/4ea3e8bbf34a4e179cd0e2f34cc0627e\n",
      "🧪 View experiment at: https://dbc-35a009eb-7ad0.cloud.databricks.com/ml/experiments/3999049734856042\n"
     ]
    },
    {
     "name": "stderr",
     "output_type": "stream",
     "text": [
      "2025/10/29 17:53:14 WARNING mlflow.models.model: `artifact_path` is deprecated. Please use `name` instead.\n",
      "2025/10/29 17:53:20 WARNING mlflow.utils.environment: Failed to resolve installed pip version. ``pip`` will be added to conda.yaml environment spec without a version specifier.\n"
     ]
    },
    {
     "data": {
      "application/vnd.jupyter.widget-view+json": {
       "model_id": "f547f2bfbfcd44dd92f43af364fd3e19",
       "version_major": 2,
       "version_minor": 0
      },
      "text/plain": [
       "Downloading artifacts:   0%|          | 0/7 [00:00<?, ?it/s]"
      ]
     },
     "metadata": {},
     "output_type": "display_data"
    },
    {
     "name": "stderr",
     "output_type": "stream",
     "text": [
      "2025/10/29 17:53:20 INFO mlflow.models.model: Found the following environment variables used during model inference: [DATABRICKS_HOST, DATABRICKS_TOKEN]. Please check if you need to set them when deploying the model. To disable this message, set environment variable `MLFLOW_RECORD_ENV_VARS_IN_MODEL_LOGGING` to `false`.\n",
      "[I 2025-10-29 17:53:23,327] Trial 6 finished with value: 5.618797622479943 and parameters: {'n_estimators': 45, 'max_depth': 8, 'min_samples_split': 15, 'max_features': None}. Best is trial 1 with value: 5.481438540048821.\n"
     ]
    },
    {
     "name": "stdout",
     "output_type": "stream",
     "text": [
      "🏃 View run sassy-foal-640 at: https://dbc-35a009eb-7ad0.cloud.databricks.com/ml/experiments/3999049734856042/runs/b2a0a717f14e4641a723cef20f5d228a\n",
      "🧪 View experiment at: https://dbc-35a009eb-7ad0.cloud.databricks.com/ml/experiments/3999049734856042\n"
     ]
    },
    {
     "name": "stderr",
     "output_type": "stream",
     "text": [
      "2025/10/29 17:53:30 WARNING mlflow.models.model: `artifact_path` is deprecated. Please use `name` instead.\n",
      "2025/10/29 17:53:37 WARNING mlflow.utils.environment: Failed to resolve installed pip version. ``pip`` will be added to conda.yaml environment spec without a version specifier.\n"
     ]
    },
    {
     "data": {
      "application/vnd.jupyter.widget-view+json": {
       "model_id": "ed939b55ece044ec89b685f4367ca530",
       "version_major": 2,
       "version_minor": 0
      },
      "text/plain": [
       "Downloading artifacts:   0%|          | 0/7 [00:00<?, ?it/s]"
      ]
     },
     "metadata": {},
     "output_type": "display_data"
    },
    {
     "name": "stderr",
     "output_type": "stream",
     "text": [
      "2025/10/29 17:53:37 INFO mlflow.models.model: Found the following environment variables used during model inference: [DATABRICKS_HOST, DATABRICKS_TOKEN]. Please check if you need to set them when deploying the model. To disable this message, set environment variable `MLFLOW_RECORD_ENV_VARS_IN_MODEL_LOGGING` to `false`.\n",
      "[I 2025-10-29 17:53:41,925] Trial 7 finished with value: 7.1585742399315935 and parameters: {'n_estimators': 31, 'max_depth': 37, 'min_samples_split': 9, 'max_features': 'sqrt'}. Best is trial 1 with value: 5.481438540048821.\n"
     ]
    },
    {
     "name": "stdout",
     "output_type": "stream",
     "text": [
      "🏃 View run classy-tern-873 at: https://dbc-35a009eb-7ad0.cloud.databricks.com/ml/experiments/3999049734856042/runs/5930b6a4f2ea482fadaa811502034eb8\n",
      "🧪 View experiment at: https://dbc-35a009eb-7ad0.cloud.databricks.com/ml/experiments/3999049734856042\n"
     ]
    },
    {
     "name": "stderr",
     "output_type": "stream",
     "text": [
      "2025/10/29 17:53:48 WARNING mlflow.models.model: `artifact_path` is deprecated. Please use `name` instead.\n",
      "2025/10/29 17:53:54 WARNING mlflow.utils.environment: Failed to resolve installed pip version. ``pip`` will be added to conda.yaml environment spec without a version specifier.\n"
     ]
    },
    {
     "data": {
      "application/vnd.jupyter.widget-view+json": {
       "model_id": "a1dec83619a1497abea3b47a3387391a",
       "version_major": 2,
       "version_minor": 0
      },
      "text/plain": [
       "Downloading artifacts:   0%|          | 0/7 [00:00<?, ?it/s]"
      ]
     },
     "metadata": {},
     "output_type": "display_data"
    },
    {
     "name": "stderr",
     "output_type": "stream",
     "text": [
      "2025/10/29 17:53:55 INFO mlflow.models.model: Found the following environment variables used during model inference: [DATABRICKS_HOST, DATABRICKS_TOKEN]. Please check if you need to set them when deploying the model. To disable this message, set environment variable `MLFLOW_RECORD_ENV_VARS_IN_MODEL_LOGGING` to `false`.\n",
      "[I 2025-10-29 17:53:57,488] Trial 8 finished with value: 8.811958929776562 and parameters: {'n_estimators': 57, 'max_depth': 11, 'min_samples_split': 20, 'max_features': 'log2'}. Best is trial 1 with value: 5.481438540048821.\n"
     ]
    },
    {
     "name": "stdout",
     "output_type": "stream",
     "text": [
      "🏃 View run secretive-donkey-396 at: https://dbc-35a009eb-7ad0.cloud.databricks.com/ml/experiments/3999049734856042/runs/d713c337dc79450395c4e312a2156e73\n",
      "🧪 View experiment at: https://dbc-35a009eb-7ad0.cloud.databricks.com/ml/experiments/3999049734856042\n"
     ]
    },
    {
     "name": "stderr",
     "output_type": "stream",
     "text": [
      "2025/10/29 17:54:13 WARNING mlflow.models.model: `artifact_path` is deprecated. Please use `name` instead.\n",
      "2025/10/29 17:54:19 WARNING mlflow.utils.environment: Failed to resolve installed pip version. ``pip`` will be added to conda.yaml environment spec without a version specifier.\n"
     ]
    },
    {
     "data": {
      "application/vnd.jupyter.widget-view+json": {
       "model_id": "e331611eecc74625a202d4e842ebf0b2",
       "version_major": 2,
       "version_minor": 0
      },
      "text/plain": [
       "Downloading artifacts:   0%|          | 0/7 [00:00<?, ?it/s]"
      ]
     },
     "metadata": {},
     "output_type": "display_data"
    },
    {
     "name": "stderr",
     "output_type": "stream",
     "text": [
      "2025/10/29 17:54:20 INFO mlflow.models.model: Found the following environment variables used during model inference: [DATABRICKS_HOST, DATABRICKS_TOKEN]. Please check if you need to set them when deploying the model. To disable this message, set environment variable `MLFLOW_RECORD_ENV_VARS_IN_MODEL_LOGGING` to `false`.\n",
      "[I 2025-10-29 17:54:42,608] Trial 9 finished with value: 5.489059947767261 and parameters: {'n_estimators': 60, 'max_depth': 38, 'min_samples_split': 6, 'max_features': None}. Best is trial 1 with value: 5.481438540048821.\n"
     ]
    },
    {
     "name": "stdout",
     "output_type": "stream",
     "text": [
      "🏃 View run wise-snake-768 at: https://dbc-35a009eb-7ad0.cloud.databricks.com/ml/experiments/3999049734856042/runs/dae65bf704e948cbbd83db373afc820a\n",
      "🧪 View experiment at: https://dbc-35a009eb-7ad0.cloud.databricks.com/ml/experiments/3999049734856042\n"
     ]
    },
    {
     "name": "stderr",
     "output_type": "stream",
     "text": [
      "2025/10/29 17:54:55 WARNING mlflow.models.model: `artifact_path` is deprecated. Please use `name` instead.\n",
      "2025/10/29 17:55:03 WARNING mlflow.utils.environment: Failed to resolve installed pip version. ``pip`` will be added to conda.yaml environment spec without a version specifier.\n"
     ]
    },
    {
     "data": {
      "application/vnd.jupyter.widget-view+json": {
       "model_id": "55f0a5d562e24246b0321d4683fac2a4",
       "version_major": 2,
       "version_minor": 0
      },
      "text/plain": [
       "Downloading artifacts:   0%|          | 0/7 [00:00<?, ?it/s]"
      ]
     },
     "metadata": {},
     "output_type": "display_data"
    },
    {
     "name": "stderr",
     "output_type": "stream",
     "text": [
      "c:\\Users\\prisc\\apps\\nyc-taxi-predictions-2025\\.venv\\Lib\\site-packages\\sklearn\\utils\\validation.py:2742: UserWarning: X has feature names, but RandomForestRegressor was fitted without feature names\n",
      "  warnings.warn(\n",
      "2025/10/29 17:55:08 INFO mlflow.models.model: Found the following environment variables used during model inference: [DATABRICKS_HOST, DATABRICKS_TOKEN]. Please check if you need to set them when deploying the model. To disable this message, set environment variable `MLFLOW_RECORD_ENV_VARS_IN_MODEL_LOGGING` to `false`.\n"
     ]
    },
    {
     "name": "stdout",
     "output_type": "stream",
     "text": [
      "🏃 View run RandomForest Hyperparameter Optimization (Optuna) at: https://dbc-35a009eb-7ad0.cloud.databricks.com/ml/experiments/3999049734856042/runs/875f5296d77a4fdcb24212b19fd5cb41\n",
      "🧪 View experiment at: https://dbc-35a009eb-7ad0.cloud.databricks.com/ml/experiments/3999049734856042\n"
     ]
    }
   ],
   "source": [
    "mlflow.sklearn.autolog(log_models=False)\n",
    "\n",
    "study_rf = optuna.create_study(direction=\"minimize\", sampler=TPESampler(seed=42))\n",
    "with mlflow.start_run(run_name=\"RandomForest Hyperparameter Optimization (Optuna)\", nested=True):\n",
    "    study_rf.optimize(objective_rf, n_trials=10)\n",
    "\n",
    "    best_params_rf = study_rf.best_params\n",
    "\n",
    "    mlflow.log_params(best_params_rf)\n",
    "\n",
    "    mlflow.set_tags({\n",
    "        \"project\": \"NYC Taxi Time Prediction Project\",\n",
    "        \"optimizer_engine\": \"optuna\",\n",
    "        \"model_family\": \"random_forest\",\n",
    "        \"feature_set_version\": 1,\n",
    "    })\n",
    "\n",
    "    mlflow.sklearn.autolog(log_models=False)\n",
    "\n",
    "    final_model = RandomForestRegressor(**best_params_rf, n_jobs=-1, random_state=42)\n",
    "    final_model.fit(X_train, y_train)\n",
    "    y_pred = final_model.predict(X_val)\n",
    "    rmse = root_mean_squared_error(y_val, y_pred)\n",
    "    mlflow.log_metric(\"rmse\", rmse)\n",
    "\n",
    "    pathlib.Path(\"preprocessor\").mkdir(exist_ok=True)\n",
    "    with open(\"preprocessor/preprocessor.b\", \"wb\") as f_out:\n",
    "        pickle.dump(dv, f_out)\n",
    "    mlflow.log_artifact(\"preprocessor/preprocessor.b\", artifact_path=\"preprocessor\")\n",
    "\n",
    "    feature_names = dv.get_feature_names_out()\n",
    "    input_example = pd.DataFrame(X_val[:5].toarray(), columns=feature_names)\n",
    "    signature = infer_signature(input_example, y_val[:5])\n",
    "\n",
    "    mlflow.sklearn.log_model(final_model, \"model\", input_example=input_example, signature=signature)"
   ]
  },
  {
   "cell_type": "markdown",
   "id": "1f17f53c",
   "metadata": {},
   "source": [
    "## registro"
   ]
  },
  {
   "cell_type": "code",
   "execution_count": 232,
   "id": "80b153f3",
   "metadata": {},
   "outputs": [],
   "source": [
    "model_name = \"workspace.default.nyc-taxi-model\""
   ]
  },
  {
   "cell_type": "code",
   "execution_count": 233,
   "id": "6c91f5fb",
   "metadata": {},
   "outputs": [
    {
     "name": "stdout",
     "output_type": "stream",
     "text": [
      "🏆 Champion Run encontrado:\n",
      "Run ID: b1e94feef25e4e2fa49cc01e302b3efb\n",
      "Validation RMSE: 5.350864717798953\n",
      "Params: {'custom_metric': 'None', 'early_stopping_rounds': '10', 'learning_rate': '0.07565903471570516', 'max_depth': '63', 'maximize': 'None', 'min_child_weight': '2.2802382585441565', 'num_boost_round': '100', 'objective': 'reg:squarederror', 'reg_alpha': '0.021678779375600917', 'reg_lambda': '0.015480241912324163', 'seed': '42', 'verbose_eval': 'True'}\n"
     ]
    }
   ],
   "source": [
    "runs = mlflow.search_runs(\n",
    "    experiment_names=[EXPERIMENT_NAME],\n",
    "    order_by=[\"metrics.rmse ASC\"],\n",
    "    output_format=\"list\"\n",
    ")\n",
    "\n",
    "# Obtener el mejor run\n",
    "if len(runs) > 0:\n",
    "    best_run = runs[0]\n",
    "    print(\"🏆 Champion Run encontrado:\")\n",
    "    print(f\"Run ID: {best_run.info.run_id}\")\n",
    "    print(f\"Validation RMSE: {best_run.data.metrics.get('rmse')}\")\n",
    "    print(f\"Params: {best_run.data.params}\")\n",
    "else:\n",
    "    print(\"⚠️ No se encontraron runs con métrica RMSE.\")"
   ]
  },
  {
   "cell_type": "code",
   "execution_count": 234,
   "id": "e9abe1ea",
   "metadata": {},
   "outputs": [],
   "source": [
    "run_id = best_run.info.run_id"
   ]
  },
  {
   "cell_type": "code",
   "execution_count": 235,
   "id": "806820a1",
   "metadata": {},
   "outputs": [
    {
     "name": "stderr",
     "output_type": "stream",
     "text": [
      "Registered model 'workspace.default.nyc-taxi-model' already exists. Creating a new version of this model...\n",
      "2025/10/29 17:55:48 WARNING mlflow.tracking._model_registry.fluent: Run with id b1e94feef25e4e2fa49cc01e302b3efb has no artifacts at artifact path 'model', registering model based on models:/m-5746a243e69c4ab996b82f3d19df9f3e instead\n"
     ]
    },
    {
     "data": {
      "application/vnd.jupyter.widget-view+json": {
       "model_id": "cf4ea841e6b74636b1ff1483d7c1252f",
       "version_major": 2,
       "version_minor": 0
      },
      "text/plain": [
       "Downloading artifacts:   0%|          | 0/7 [00:00<?, ?it/s]"
      ]
     },
     "metadata": {},
     "output_type": "display_data"
    },
    {
     "data": {
      "application/vnd.jupyter.widget-view+json": {
       "model_id": "d75fc5a036b64355a161539977b98949",
       "version_major": 2,
       "version_minor": 0
      },
      "text/plain": [
       "Uploading artifacts:   0%|          | 0/8 [00:00<?, ?it/s]"
      ]
     },
     "metadata": {},
     "output_type": "display_data"
    },
    {
     "name": "stderr",
     "output_type": "stream",
     "text": [
      "Created version '13' of model 'workspace.default.nyc-taxi-model'.\n"
     ]
    }
   ],
   "source": [
    "result = mlflow.register_model(\n",
    "    model_uri=f\"runs:/{best_run.info.run_id}/model\",\n",
    "    name=model_name\n",
    ")\n"
   ]
  },
  {
   "cell_type": "markdown",
   "id": "3d925493",
   "metadata": {},
   "source": [
    "## alias"
   ]
  },
  {
   "cell_type": "code",
   "execution_count": 236,
   "id": "f17b10e5",
   "metadata": {},
   "outputs": [],
   "source": [
    "from mlflow import MlflowClient\n",
    "\n",
    "client = MlflowClient()"
   ]
  },
  {
   "cell_type": "code",
   "execution_count": 237,
   "id": "af741237",
   "metadata": {},
   "outputs": [],
   "source": [
    "model_version = result.version\n",
    "new_alias = \"Challenger\"\n",
    "\n",
    "client.set_registered_model_alias(\n",
    "    name=model_name,\n",
    "    alias=new_alias,\n",
    "    version=result.version\n",
    ")"
   ]
  },
  {
   "cell_type": "code",
   "execution_count": 238,
   "id": "9f6071b1",
   "metadata": {},
   "outputs": [
    {
     "data": {
      "text/plain": [
       "<ModelVersion: aliases=[], creation_timestamp=1761782155235, current_stage=None, deployment_job_state=<ModelVersionDeploymentJobState: current_task_name='', job_id='', job_state='DEPLOYMENT_JOB_CONNECTION_STATE_UNSPECIFIED', run_id='', run_state='DEPLOYMENT_JOB_RUN_STATE_UNSPECIFIED'>, description=('The model version 13 was transitioned to Challenger on 2025-10-29 '\n",
       " '17:56:19.400383'), last_updated_timestamp=1761782179258, metrics=[<Metric: dataset_digest='', dataset_name='', key='best_iteration', model_id='m-5746a243e69c4ab996b82f3d19df9f3e', run_id='b1e94feef25e4e2fa49cc01e302b3efb', step=0, timestamp=1761709214676, value=96.0>,\n",
       " <Metric: dataset_digest='', dataset_name='', key='rmse', model_id='m-5746a243e69c4ab996b82f3d19df9f3e', run_id='b1e94feef25e4e2fa49cc01e302b3efb', step=0, timestamp=1761709232081, value=5.350864717798953>,\n",
       " <Metric: dataset_digest='', dataset_name='', key='stopped_iteration', model_id='m-5746a243e69c4ab996b82f3d19df9f3e', run_id='b1e94feef25e4e2fa49cc01e302b3efb', step=0, timestamp=1761709214676, value=99.0>,\n",
       " <Metric: dataset_digest='', dataset_name='', key='validation-rmse', model_id='m-5746a243e69c4ab996b82f3d19df9f3e', run_id='b1e94feef25e4e2fa49cc01e302b3efb', step=0, timestamp=1761709168494, value=8.668996488803653>], model_id='m-5746a243e69c4ab996b82f3d19df9f3e', name='workspace.default.nyc-taxi-model', params=[<LoggedModelParameter: key='maximize', value='None'>,\n",
       " <LoggedModelParameter: key='learning_rate', value='0.07565903471570516'>,\n",
       " <LoggedModelParameter: key='min_child_weight', value='2.2802382585441565'>,\n",
       " <LoggedModelParameter: key='max_depth', value='63'>,\n",
       " <LoggedModelParameter: key='num_boost_round', value='100'>,\n",
       " <LoggedModelParameter: key='objective', value='reg:squarederror'>,\n",
       " <LoggedModelParameter: key='custom_metric', value='None'>,\n",
       " <LoggedModelParameter: key='reg_alpha', value='0.021678779375600917'>,\n",
       " <LoggedModelParameter: key='seed', value='42'>,\n",
       " <LoggedModelParameter: key='early_stopping_rounds', value='10'>,\n",
       " <LoggedModelParameter: key='reg_lambda', value='0.015480241912324163'>,\n",
       " <LoggedModelParameter: key='verbose_eval', value='True'>], run_id='b1e94feef25e4e2fa49cc01e302b3efb', run_link=None, source='models:/m-5746a243e69c4ab996b82f3d19df9f3e', status='READY', status_message='', tags={}, user_id='priscila.cervantes@iteso.mx', version='13'>"
      ]
     },
     "execution_count": 238,
     "metadata": {},
     "output_type": "execute_result"
    }
   ],
   "source": [
    "from datetime import datetime\n",
    "\n",
    "date = datetime.today()\n",
    "\n",
    "client.update_model_version(\n",
    "    name=model_name,\n",
    "    version=model_version,\n",
    "    description=f\"The model version {model_version} was transitioned to {new_alias} on {date}\",\n",
    ")"
   ]
  },
  {
   "cell_type": "markdown",
   "id": "4e5e0871",
   "metadata": {},
   "source": [
    "## validación marzo"
   ]
  },
  {
   "cell_type": "code",
   "execution_count": 239,
   "id": "7491f5a5",
   "metadata": {},
   "outputs": [],
   "source": [
    "df_val = read_dataframe('C:/Users/prisc/apps/nyc-taxi-predictions-2025/data/green_tripdata_2025-03.parquet')"
   ]
  },
  {
   "cell_type": "code",
   "execution_count": 240,
   "id": "73d58e83",
   "metadata": {},
   "outputs": [
    {
     "name": "stdout",
     "output_type": "stream",
     "text": [
      "Champion: 12 run_id: b1e94feef25e4e2fa49cc01e302b3efb\n",
      "Challenger: 13 run_id: b1e94feef25e4e2fa49cc01e302b3efb\n"
     ]
    }
   ],
   "source": [
    "client = MlflowClient()\n",
    "\n",
    "model_name = \"workspace.default.nyc-taxi-model\"  \n",
    "# obtener la versión asociada al alias 'Champion' o 'Challenger'\n",
    "champ = client.get_model_version_by_alias(model_name, \"Champion\")\n",
    "chall = client.get_model_version_by_alias(model_name, \"Challenger\")\n",
    "print(\"Champion:\", champ.version, \"run_id:\", champ.run_id)\n",
    "print(\"Challenger:\", chall.version, \"run_id:\", chall.run_id)"
   ]
  },
  {
   "cell_type": "code",
   "execution_count": 241,
   "id": "e1cb6607",
   "metadata": {},
   "outputs": [
    {
     "data": {
      "application/vnd.jupyter.widget-view+json": {
       "model_id": "1f7764ee6b2945c29eda79513739ff08",
       "version_major": 2,
       "version_minor": 0
      },
      "text/plain": [
       "Downloading artifacts:   0%|          | 0/8 [00:00<?, ?it/s]"
      ]
     },
     "metadata": {},
     "output_type": "display_data"
    },
    {
     "name": "stderr",
     "output_type": "stream",
     "text": [
      "c:\\Users\\prisc\\apps\\nyc-taxi-predictions-2025\\.venv\\Lib\\site-packages\\mlflow\\xgboost\\__init__.py:321: UserWarning: [17:57:14] WARNING: C:\\actions-runner\\_work\\xgboost\\xgboost\\src\\c_api\\c_api.cc:1511: Unknown file format: `xgb`. Using UBJSON (`ubj`) as a guess.\n",
      "  model.load_model(xgb_model_path)\n"
     ]
    },
    {
     "name": "stdout",
     "output_type": "stream",
     "text": [
      "Champion RMSE (marzo): 23.951918\n"
     ]
    }
   ],
   "source": [
    "# Cargar el preprocesador\n",
    "with open(\"preprocessor/preprocessor.b\", \"rb\") as f_in:\n",
    "    dv = pickle.load(f_in)\n",
    "\n",
    "# Preprocesar el dataset de marzo\n",
    "X_march = preprocess(df_val, dv)\n",
    "y_march = df_val['duration'].values\n",
    "X_march_arr = X_march.toarray()\n",
    "\n",
    "# Cargar Champion\n",
    "champion_uri = f\"models:/{model_name}@Champion\"\n",
    "champion_model = mlflow.pyfunc.load_model(champion_uri)\n",
    "\n",
    "# Predecir\n",
    "champion_preds = champion_model.predict(X_march_arr)\n",
    "champion_rmse = root_mean_squared_error(y_march, champion_preds)\n",
    "print(f\"Champion RMSE (marzo): {champion_rmse:.6f}\")"
   ]
  },
  {
   "cell_type": "code",
   "execution_count": null,
   "id": "a9436656",
   "metadata": {},
   "outputs": [],
   "source": [
    "#de challenger a champion\n",
    "client = MlflowClient()\n",
    "\n",
    "client.set_registered_model_alias(\n",
    "    name=\"workspace.default.nyc-taxi-model\",\n",
    "    alias=\"Champion\",\n",
    "    version=10\n",
    ")"
   ]
  }
 ],
 "metadata": {
  "kernelspec": {
   "display_name": "nyc-taxi-predictions-2025 (3.11.13)",
   "language": "python",
   "name": "python3"
  },
  "language_info": {
   "codemirror_mode": {
    "name": "ipython",
    "version": 3
   },
   "file_extension": ".py",
   "mimetype": "text/x-python",
   "name": "python",
   "nbconvert_exporter": "python",
   "pygments_lexer": "ipython3",
   "version": "3.11.13"
  }
 },
 "nbformat": 4,
 "nbformat_minor": 5
}
